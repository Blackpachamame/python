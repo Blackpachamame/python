{
  "cells": [
    {
      "cell_type": "markdown",
      "metadata": {},
      "source": [
        "[![Open in Colab](https://colab.research.google.com/assets/colab-badge.svg)](https://colab.research.google.com/github/Blackpachamame/python/blob/main/Aula1/Aula_1_Desafíos.ipynb)"
      ]
    },
    {
      "cell_type": "markdown",
      "metadata": {
        "id": "luQBM5vTGuDX"
      },
      "source": [
        "# Aula 1: Comenzando con Python"
      ]
    },
    {
      "cell_type": "markdown",
      "metadata": {
        "id": "2NEAlbV2IQ5_"
      },
      "source": [
        "### Ejercicio 1"
      ]
    },
    {
      "cell_type": "markdown",
      "metadata": {
        "id": "YjocTKFUJt1v"
      },
      "source": [
        "Imprime la frase \"Escuela de Datos de Alura\"."
      ]
    },
    {
      "cell_type": "code",
      "execution_count": 2,
      "metadata": {
        "colab": {
          "base_uri": "https://localhost:8080/"
        },
        "id": "BNoqdix7IN5Q",
        "outputId": "06f07676-5f8b-4aaf-9262-7a56c7baca1b"
      },
      "outputs": [
        {
          "name": "stdout",
          "output_type": "stream",
          "text": [
            "Escuela de Datos de Alura\n"
          ]
        }
      ],
      "source": [
        "print(\"Escuela de Datos de Alura\")"
      ]
    },
    {
      "cell_type": "markdown",
      "metadata": {
        "id": "0KuLa1keIl2-"
      },
      "source": [
        "### Ejercicio 2"
      ]
    },
    {
      "cell_type": "markdown",
      "metadata": {
        "id": "PcBrmlziJor_"
      },
      "source": [
        "Imprime tu nombre y tu apellido siguiendo la estructura a continuación:\n",
        "```\n",
        "Nombre: [tu nombre]\n",
        "Apellido: [tu apellido]\n",
        "```"
      ]
    },
    {
      "cell_type": "code",
      "execution_count": 10,
      "metadata": {
        "colab": {
          "base_uri": "https://localhost:8080/"
        },
        "id": "mgpY7bJVIr8G",
        "outputId": "611eb1fa-ae51-49ab-ab1e-0a495c2d05eb"
      },
      "outputs": [
        {
          "name": "stdout",
          "output_type": "stream",
          "text": [
            "Nombre: Marcos Andrés\n",
            "Apellido: Travaglini\n"
          ]
        }
      ],
      "source": [
        "print(\"Nombre: Marcos Andrés\")\n",
        "print(\"Apellido: Travaglini\")"
      ]
    },
    {
      "cell_type": "markdown",
      "metadata": {
        "id": "A_fgXbR9JyYX"
      },
      "source": [
        "### Ejercicio 3"
      ]
    },
    {
      "cell_type": "markdown",
      "metadata": {
        "id": "2QvDuIfVJ0Un"
      },
      "source": [
        "Imprime tu primer nombre letra por letra. Por ejemplo, si mi nombre es Álvaro, la salida sería:\n",
        "```\n",
        "Á\n",
        "L\n",
        "V\n",
        "A\n",
        "R\n",
        "O\n",
        "```"
      ]
    },
    {
      "cell_type": "code",
      "execution_count": 8,
      "metadata": {
        "colab": {
          "base_uri": "https://localhost:8080/"
        },
        "id": "c6Y95hnYJ-EP",
        "outputId": "a6040874-42e3-43b8-f9f0-09fd3e893fab"
      },
      "outputs": [
        {
          "name": "stdout",
          "output_type": "stream",
          "text": [
            "M\n",
            "A\n",
            "R\n",
            "C\n",
            "O\n",
            "S\n"
          ]
        }
      ],
      "source": [
        "print(\"M\")\n",
        "print(\"A\")\n",
        "print(\"R\")\n",
        "print(\"C\")\n",
        "print(\"O\")\n",
        "print(\"S\")"
      ]
    },
    {
      "cell_type": "markdown",
      "metadata": {
        "id": "y10iHdi8KQDH"
      },
      "source": [
        "### Ejercicio 4"
      ]
    },
    {
      "cell_type": "markdown",
      "metadata": {
        "id": "e0AL6goDKSNv"
      },
      "source": [
        "Imprime tu fecha de nacimiento en formato día mes año. Recuerda que los valores de día y año no deben estar entre comillas. Suponiendo una fecha de cumpleaños el 28 de febrero de 2003, el formato debe ser como el siguiente:\n",
        "```\n",
        "28 febrero 2003\n",
        "```"
      ]
    },
    {
      "cell_type": "code",
      "execution_count": 7,
      "metadata": {
        "colab": {
          "base_uri": "https://localhost:8080/"
        },
        "id": "SFlGK8P2KTzf",
        "outputId": "b67c56ec-6445-4abf-c151-309ac8dc9f3f"
      },
      "outputs": [
        {
          "name": "stdout",
          "output_type": "stream",
          "text": [
            "28 de Octubre de 1991\n"
          ]
        }
      ],
      "source": [
        "print(28,\"de Octubre de\",1991)"
      ]
    },
    {
      "cell_type": "markdown",
      "metadata": {
        "id": "LrKrEQ5hK8yH"
      },
      "source": [
        "### Ejercicio 5"
      ]
    },
    {
      "cell_type": "markdown",
      "metadata": {
        "id": "e3gCJPMvK-8X"
      },
      "source": [
        "Imprime, en una sola instrucción print, el año actual en el que estás realizando este curso. El valor del año debe ser un dato numérico, y la salida de print debe ser la siguiente:\n",
        "```\n",
        "Año actual: [año]\n",
        "```"
      ]
    },
    {
      "cell_type": "code",
      "execution_count": 9,
      "metadata": {
        "colab": {
          "base_uri": "https://localhost:8080/"
        },
        "id": "jBCCip5VLAxP",
        "outputId": "e7d3d720-73c9-40cc-8157-967090540f3c"
      },
      "outputs": [
        {
          "name": "stdout",
          "output_type": "stream",
          "text": [
            "Año actual: 2025\n"
          ]
        }
      ],
      "source": [
        "print(\"Año actual:\",2025)"
      ]
    }
  ],
  "metadata": {
    "colab": {
      "collapsed_sections": [
        "2NEAlbV2IQ5_",
        "0KuLa1keIl2-",
        "A_fgXbR9JyYX",
        "y10iHdi8KQDH",
        "LrKrEQ5hK8yH"
      ],
      "provenance": []
    },
    "kernelspec": {
      "display_name": "Python 3",
      "name": "python3"
    },
    "language_info": {
      "name": "python"
    }
  },
  "nbformat": 4,
  "nbformat_minor": 0
}
