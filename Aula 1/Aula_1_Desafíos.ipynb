{
  "nbformat": 4,
  "nbformat_minor": 0,
  "metadata": {
    "colab": {
      "provenance": [],
      "collapsed_sections": [
        "2NEAlbV2IQ5_",
        "0KuLa1keIl2-",
        "A_fgXbR9JyYX",
        "y10iHdi8KQDH",
        "LrKrEQ5hK8yH"
      ]
    },
    "kernelspec": {
      "name": "python3",
      "display_name": "Python 3"
    },
    "language_info": {
      "name": "python"
    }
  },
  "cells": [
    {
      "cell_type": "markdown",
      "source": [
        "# Aula 1: Comenzando con Python"
      ],
      "metadata": {
        "id": "luQBM5vTGuDX"
      }
    },
    {
      "cell_type": "markdown",
      "source": [
        "### Ejercicio 1"
      ],
      "metadata": {
        "id": "2NEAlbV2IQ5_"
      }
    },
    {
      "cell_type": "markdown",
      "source": [
        "Imprime la frase \"Escuela de Datos de Alura\"."
      ],
      "metadata": {
        "id": "YjocTKFUJt1v"
      }
    },
    {
      "cell_type": "code",
      "source": [
        "print(\"Escuela de Datos de Alura\")"
      ],
      "metadata": {
        "colab": {
          "base_uri": "https://localhost:8080/"
        },
        "id": "BNoqdix7IN5Q",
        "outputId": "06f07676-5f8b-4aaf-9262-7a56c7baca1b"
      },
      "execution_count": 2,
      "outputs": [
        {
          "output_type": "stream",
          "name": "stdout",
          "text": [
            "Escuela de Datos de Alura\n"
          ]
        }
      ]
    },
    {
      "cell_type": "markdown",
      "source": [
        "### Ejercicio 2"
      ],
      "metadata": {
        "id": "0KuLa1keIl2-"
      }
    },
    {
      "cell_type": "markdown",
      "source": [
        "Imprime tu nombre y tu apellido siguiendo la estructura a continuación:\n",
        "```\n",
        "Nombre: [tu nombre]\n",
        "Apellido: [tu apellido]\n",
        "```"
      ],
      "metadata": {
        "id": "PcBrmlziJor_"
      }
    },
    {
      "cell_type": "code",
      "source": [
        "print(\"Nombre: Marcos Andrés\")\n",
        "print(\"Apellido: Travaglini\")"
      ],
      "metadata": {
        "colab": {
          "base_uri": "https://localhost:8080/"
        },
        "id": "mgpY7bJVIr8G",
        "outputId": "611eb1fa-ae51-49ab-ab1e-0a495c2d05eb"
      },
      "execution_count": 10,
      "outputs": [
        {
          "output_type": "stream",
          "name": "stdout",
          "text": [
            "Nombre: Marcos Andrés\n",
            "Apellido: Travaglini\n"
          ]
        }
      ]
    },
    {
      "cell_type": "markdown",
      "source": [
        "### Ejercicio 3"
      ],
      "metadata": {
        "id": "A_fgXbR9JyYX"
      }
    },
    {
      "cell_type": "markdown",
      "source": [
        "Imprime tu primer nombre letra por letra. Por ejemplo, si mi nombre es Álvaro, la salida sería:\n",
        "```\n",
        "Á\n",
        "L\n",
        "V\n",
        "A\n",
        "R\n",
        "O\n",
        "```"
      ],
      "metadata": {
        "id": "2QvDuIfVJ0Un"
      }
    },
    {
      "cell_type": "code",
      "source": [
        "print(\"M\")\n",
        "print(\"A\")\n",
        "print(\"R\")\n",
        "print(\"C\")\n",
        "print(\"O\")\n",
        "print(\"S\")"
      ],
      "metadata": {
        "colab": {
          "base_uri": "https://localhost:8080/"
        },
        "id": "c6Y95hnYJ-EP",
        "outputId": "a6040874-42e3-43b8-f9f0-09fd3e893fab"
      },
      "execution_count": 8,
      "outputs": [
        {
          "output_type": "stream",
          "name": "stdout",
          "text": [
            "M\n",
            "A\n",
            "R\n",
            "C\n",
            "O\n",
            "S\n"
          ]
        }
      ]
    },
    {
      "cell_type": "markdown",
      "source": [
        "### Ejercicio 4"
      ],
      "metadata": {
        "id": "y10iHdi8KQDH"
      }
    },
    {
      "cell_type": "markdown",
      "source": [
        "Imprime tu fecha de nacimiento en formato día mes año. Recuerda que los valores de día y año no deben estar entre comillas. Suponiendo una fecha de cumpleaños el 28 de febrero de 2003, el formato debe ser como el siguiente:\n",
        "```\n",
        "28 febrero 2003\n",
        "```"
      ],
      "metadata": {
        "id": "e0AL6goDKSNv"
      }
    },
    {
      "cell_type": "code",
      "source": [
        "print(28,\"de Octubre de\",1991)"
      ],
      "metadata": {
        "colab": {
          "base_uri": "https://localhost:8080/"
        },
        "id": "SFlGK8P2KTzf",
        "outputId": "b67c56ec-6445-4abf-c151-309ac8dc9f3f"
      },
      "execution_count": 7,
      "outputs": [
        {
          "output_type": "stream",
          "name": "stdout",
          "text": [
            "28 de Octubre de 1991\n"
          ]
        }
      ]
    },
    {
      "cell_type": "markdown",
      "source": [
        "### Ejercicio 5"
      ],
      "metadata": {
        "id": "LrKrEQ5hK8yH"
      }
    },
    {
      "cell_type": "markdown",
      "source": [
        "Imprime, en una sola instrucción print, el año actual en el que estás realizando este curso. El valor del año debe ser un dato numérico, y la salida de print debe ser la siguiente:\n",
        "```\n",
        "Año actual: [año]\n",
        "```"
      ],
      "metadata": {
        "id": "e3gCJPMvK-8X"
      }
    },
    {
      "cell_type": "code",
      "source": [
        "print(\"Año actual:\",2025)"
      ],
      "metadata": {
        "colab": {
          "base_uri": "https://localhost:8080/"
        },
        "id": "jBCCip5VLAxP",
        "outputId": "e7d3d720-73c9-40cc-8157-967090540f3c"
      },
      "execution_count": 9,
      "outputs": [
        {
          "output_type": "stream",
          "name": "stdout",
          "text": [
            "Año actual: 2025\n"
          ]
        }
      ]
    }
  ]
}