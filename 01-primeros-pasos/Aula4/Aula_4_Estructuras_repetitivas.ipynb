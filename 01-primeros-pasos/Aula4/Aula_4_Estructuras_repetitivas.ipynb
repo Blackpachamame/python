{
  "cells": [
    {
      "cell_type": "markdown",
      "metadata": {},
      "source": [
        "[![Open in Colab](https://colab.research.google.com/assets/colab-badge.svg)](https://colab.research.google.com/github/Blackpachamame/python/blob/main/01-primeros-pasos/Aula4/Aula_4_Estructuras_repetitivas.ipynb)"
      ]
    },
    {
      "cell_type": "markdown",
      "metadata": {
        "id": "jp6CjZyVvCD4"
      },
      "source": [
        "# Aula 4: Estructuras repetitivas"
      ]
    },
    {
      "cell_type": "markdown",
      "metadata": {
        "id": "TNUYK-EkvGZf"
      },
      "source": [
        "Vamos practicar el uso de estructuras de repetición como el \"while\" y el \"for\" a partir de algunas actividades. Ahora que estamos avanzando en el contenido, podemos hacer los desafíos más interesantes. ¡Para ello, trabajaremos en proyectos de código!"
      ]
    },
    {
      "cell_type": "markdown",
      "metadata": {
        "id": "byJTGwJMvJD3"
      },
      "source": [
        "## Entrenando la programación"
      ]
    },
    {
      "cell_type": "markdown",
      "metadata": {
        "id": "MStq3RjnvKTv"
      },
      "source": [
        "### Ejercicio 1"
      ]
    },
    {
      "cell_type": "markdown",
      "metadata": {
        "id": "nxi8sxYyvO2X"
      },
      "source": [
        "Escribe un programa que solicite dos números enteros e imprima todos los números enteros entre ellos."
      ]
    },
    {
      "cell_type": "code",
      "execution_count": null,
      "metadata": {
        "colab": {
          "base_uri": "https://localhost:8080/"
        },
        "id": "pdPRodl8yAu_",
        "outputId": "8ff06d92-a061-4f64-835d-168fa20892b7"
      },
      "outputs": [],
      "source": [
        "inicio = int(input(\"Ingrese el primer número entero: \"))\n",
        "fin = int(input(\"Ingrese el segundo número entero: \"))\n",
        "\n",
        "if inicio < fin:\n",
        "    for i in range(inicio + 1, fin):\n",
        "        print(i)\n",
        "elif fin < inicio:\n",
        "    for i in range(fin + 1, inicio):\n",
        "        print(i)\n",
        "else:\n",
        "    print(\"Los números son iguales\")"
      ]
    },
    {
      "cell_type": "markdown",
      "metadata": {
        "id": "HYe1nQ2OvQeP"
      },
      "source": [
        "### Ejercicio 2"
      ]
    },
    {
      "cell_type": "markdown",
      "metadata": {
        "id": "oMcj5uskvfJo"
      },
      "source": [
        "Escribe un programa para calcular cuántos días tomará que la colonia de una bacteria A supere o iguale a la colonia de una bacteria B, basado en tasas de crecimiento del 3% y 1.5%, respectivamente. Supón que la colonia A comienza con 4 elementos y B con 10."
      ]
    },
    {
      "cell_type": "code",
      "execution_count": null,
      "metadata": {
        "colab": {
          "base_uri": "https://localhost:8080/"
        },
        "id": "JEkVhHph1E9o",
        "outputId": "eaf8647b-8959-4ed2-d9ea-218f4934e560"
      },
      "outputs": [],
      "source": [
        "dias = 0\n",
        "bacterias_a = 4\n",
        "bacterias_b = 10\n",
        "\n",
        "while bacterias_a < bacterias_b:\n",
        "    bacterias_a *= 1.03\n",
        "    bacterias_b *= 1.015\n",
        "    dias += 1\n",
        "\n",
        "print(\"Tomará\", dias, \"días para que la colonia de A supere o iguale a la de B.\")"
      ]
    },
    {
      "cell_type": "markdown",
      "metadata": {
        "id": "nFO3vtv5vRif"
      },
      "source": [
        "### Ejercicio 3"
      ]
    },
    {
      "cell_type": "markdown",
      "metadata": {
        "id": "yUjYnZb1vcxP"
      },
      "source": [
        "Para procesar una cantidad de 15 datos de evaluaciones de usuarios de un servicio de la empresa, necesitamos verificar si las calificaciones son válidas. Por lo tanto, escribe un programa que recibirá calificaciones del 0 al 5 y verificará si son valores válidos. Si se ingresa una calificación superior a 5 o inferior a 0, se repetirá hasta que el usuario ingrese un valor válido."
      ]
    },
    {
      "cell_type": "code",
      "execution_count": null,
      "metadata": {
        "colab": {
          "base_uri": "https://localhost:8080/"
        },
        "id": "xAgsLUSg2TcI",
        "outputId": "cbaea835-9d94-4a95-c9d6-42e68716c9fc"
      },
      "outputs": [],
      "source": [
        "for i in range(15):\n",
        "    calificacion = float(input(f\"Ingrese la calificación del usuario {i} (debe ser una nota del 0 al 5): \"))\n",
        "    while calificacion < 0 or calificacion > 5:\n",
        "        calificacion = float(input(\"Calificación inválida. Intente nuevamente.\"))\n",
        "print(\"Calificaciones cargadas correctamente.\")"
      ]
    },
    {
      "cell_type": "markdown",
      "metadata": {
        "id": "aoYVN0BfvSdP"
      },
      "source": [
        "### Ejercicio 4"
      ]
    },
    {
      "cell_type": "markdown",
      "metadata": {
        "id": "WQ0I_I3vvhK_"
      },
      "source": [
        "Desarrolla un programa que lea un conjunto indefinido de temperaturas en grados Celsius y calcule su promedio. La lectura debe detenerse al ingresar el valor -273°C."
      ]
    },
    {
      "cell_type": "code",
      "execution_count": null,
      "metadata": {
        "colab": {
          "base_uri": "https://localhost:8080/"
        },
        "id": "FOKb8FG547l4",
        "outputId": "628b5b96-d899-4bba-8272-1e8477518050"
      },
      "outputs": [],
      "source": [
        "contador = 0\n",
        "suma = 0\n",
        "temperatura = float(input(\"Ingrese la temperatura en grados Celsius: \"))\n",
        "\n",
        "while temperatura != -273:\n",
        "    suma += temperatura\n",
        "    contador += 1\n",
        "    temperatura = float(input(\"Ingrese la temperatura en grados Celsius: \"))\n",
        "if contador > 0:\n",
        "    promedio = suma / contador\n",
        "    print(\"El promedio de las temperaturas ingresadas es:\", promedio)\n",
        "else:\n",
        "    print(\"No se ingresaron temperaturas válidas.\")"
      ]
    },
    {
      "cell_type": "markdown",
      "metadata": {
        "id": "CAgGsXLHvTgX"
      },
      "source": [
        "### Ejercicio 5"
      ]
    },
    {
      "cell_type": "markdown",
      "metadata": {
        "id": "i5Jaaj24vjlX"
      },
      "source": [
        "Escribe un programa que calcule el factorial de un número entero proporcionado por el usuario. Recuerda que el factorial de un número entero es el producto de ese número por todos sus antecesores hasta llegar al número 1. Por ejemplo, el factorial de 5 es 5 x 4 x 3 x 2 x 1 = 120."
      ]
    },
    {
      "cell_type": "code",
      "execution_count": null,
      "metadata": {
        "colab": {
          "base_uri": "https://localhost:8080/"
        },
        "id": "-dveJQfZ6yih",
        "outputId": "be9f0fc3-7b5f-4fea-f3f6-c16d7fe350b9"
      },
      "outputs": [],
      "source": [
        "numero = int(input(\"Ingrese un número entero: \"))\n",
        "factorial = 1\n",
        "\n",
        "if numero < 0:\n",
        "    print(\"No se puede calcular el factorial de un número negativo.\")\n",
        "elif numero == 0 or numero == 1:\n",
        "    print(f\"El factorial de {numero} es {factorial}.\")\n",
        "else:\n",
        "    for i in range(2, numero + 1):\n",
        "        factorial *= i\n",
        "    print(f\"El factorial de {numero} es {factorial}.\")"
      ]
    },
    {
      "cell_type": "markdown",
      "metadata": {
        "id": "EZPWQrTEvmH_"
      },
      "source": [
        "## Momento de los proyectos"
      ]
    },
    {
      "cell_type": "markdown",
      "metadata": {
        "id": "zOi6WahEvUe3"
      },
      "source": [
        "### Ejercicio 6"
      ]
    },
    {
      "cell_type": "markdown",
      "metadata": {
        "id": "k2jOxe0qvqrv"
      },
      "source": [
        "Escribe un programa que genere la tabla de multiplicar de un número entero del 1 al 10, según la elección del usuario. Como ejemplo, para el número 2, la tabla de multiplicar debe mostrarse en el siguiente formato:\n",
        "\n",
        "```\n",
        "Tabla de multiplicar del 2:\n",
        "2 x 1 = 2\n",
        "2 x 2 = 4\n",
        "[...]\n",
        "2 x 10 = 20\n",
        "```\n"
      ]
    },
    {
      "cell_type": "code",
      "execution_count": null,
      "metadata": {
        "colab": {
          "base_uri": "https://localhost:8080/"
        },
        "id": "AjYFpi9T7EnI",
        "outputId": "82a60f16-180b-4ff3-c4fb-c0de0a0d4edb"
      },
      "outputs": [],
      "source": [
        "numero = int(input(\"Ingrese un número entero: \"))\n",
        "\n",
        "print(f\"Tabla de multiplicar del {numero}:\")\n",
        "for i in range(1, 11):\n",
        "    print(f\"{numero} x {i} = {numero * i}\")"
      ]
    },
    {
      "cell_type": "markdown",
      "metadata": {
        "id": "pGVAJNI9vVQ3"
      },
      "source": [
        "### Ejercicio 7"
      ]
    },
    {
      "cell_type": "markdown",
      "metadata": {
        "id": "bTVull6Ivx6P"
      },
      "source": [
        "Los números primos tienen diversas aplicaciones en Ciencia de Datos, como en criptografía y seguridad. Un número primo es aquel que es divisible solo por sí mismo y por 1. Por lo tanto, crea un programa que solicite un número entero y determine si es un número primo o no."
      ]
    },
    {
      "cell_type": "code",
      "execution_count": null,
      "metadata": {
        "colab": {
          "base_uri": "https://localhost:8080/"
        },
        "id": "K9sdj1zS7ddf",
        "outputId": "cd307f39-8764-4239-e256-f2aae9219f5e"
      },
      "outputs": [],
      "source": [
        "numero = int(input(\"Ingrese un número entero: \"))\n",
        "es_primo = True\n",
        "if numero < 2:\n",
        "    es_primo = False\n",
        "else:\n",
        "   for i in range(2, numero):\n",
        "        if numero % i == 0:\n",
        "            es_primo = False\n",
        "            break\n",
        "if es_primo:\n",
        "    print(f\"{numero} es un número primo.\")\n",
        "else:\n",
        "    print(f\"{numero} no es un número primo.\")"
      ]
    },
    {
      "cell_type": "markdown",
      "metadata": {
        "id": "YYQ20M-UvWLX"
      },
      "source": [
        "### Ejercicio 8"
      ]
    },
    {
      "cell_type": "markdown",
      "metadata": {
        "id": "sNDWVfoAvzm3"
      },
      "source": [
        "Vamos a comprender la distribución de edades de los pensionistas de una empresa de seguros. Escribe un programa que lea las edades de una cantidad no informada de clientes y muestre la distribución en los intervalos [0-25], [26-50], [51-75] y [76-100]. La entrada de datos se detendrá al ingresar un número negativo."
      ]
    },
    {
      "cell_type": "code",
      "execution_count": null,
      "metadata": {
        "colab": {
          "base_uri": "https://localhost:8080/"
        },
        "id": "t5T63mqqARRp",
        "outputId": "baca19bb-288a-4001-b915-f704f1728a3e"
      },
      "outputs": [],
      "source": [
        "intervalo_1 = 0\n",
        "intervalo_2 = 0\n",
        "intervalo_3 = 0\n",
        "intervalo_4 = 0\n",
        "\n",
        "edad = int(input(\"Ingrese la edad del cliente (ingrese un número negativo para terminar): \"))\n",
        "\n",
        "while edad >= 0:\n",
        "       if edad >= 0 and edad <= 25:\n",
        "            intervalo_1 += 1\n",
        "       elif edad >= 26 and edad <= 50:\n",
        "            intervalo_2 += 1\n",
        "       elif edad >= 51 and edad <= 75:\n",
        "            intervalo_3 += 1\n",
        "       else:\n",
        "            intervalo_4 += 1\n",
        "       edad = int(input(\"Ingrese la edad del cliente (ingrese un número negativo para terminar): \"))\n",
        "\n",
        "print(\"Distribución de edades de los pensionistas:\")\n",
        "print(f\"[0-25]: {intervalo_1}\")\n",
        "print(f\"[26-50]: {intervalo_2}\")\n",
        "print(f\"[51-75]: {intervalo_3}\")\n",
        "print(f\"[76-100]: {intervalo_4}\")"
      ]
    },
    {
      "cell_type": "markdown",
      "metadata": {
        "id": "v99kRehxvXMH"
      },
      "source": [
        "### Ejercicio 9"
      ]
    },
    {
      "cell_type": "markdown",
      "metadata": {
        "id": "3TH16FgFv2a_"
      },
      "source": [
        "En una elección para la gerencia de una empresa con 20 empleados, hay cuatro candidatos. Escribe un programa que calcule al ganador de la elección. La votación se realizó de la siguiente manera:\n",
        "\n",
        "Cada empleado votó por uno de los cuatro candidatos (representados por los números 1, 2, 3 y 4).\n",
        "\n",
        "También se contaron los votos nulos (representados por el número 5) y los votos en blanco (representados por el número 6).\n",
        "\n",
        "Al final de la votación, el programa debe mostrar el número total de votos para cada candidato, los votos nulos y los votos en blanco. Además, debe calcular y mostrar el porcentaje de votos nulos con respecto al total de votos y el porcentaje de votos en blanco con respecto al total de votos."
      ]
    },
    {
      "cell_type": "code",
      "execution_count": null,
      "metadata": {
        "colab": {
          "base_uri": "https://localhost:8080/"
        },
        "id": "kTEHi5ogujCn",
        "outputId": "98fbea5c-5475-4ee8-a727-9718b72b75e3"
      },
      "outputs": [],
      "source": [
        "candidato_1 = 0\n",
        "candidato_2 = 0\n",
        "candidato_3 = 0\n",
        "candidato_4 = 0\n",
        "votos_nulos = 0\n",
        "votos_en_blanco = 0\n",
        "total_votos = 0\n",
        "i = 1\n",
        "\n",
        "while i <= 20:\n",
        "    voto = int(input(f\"Ingrese el voto del empleado {i} (1, 2, 3, 4, 5 = nulo o 6 = blanco): \"))\n",
        "    if voto != 1 and voto != 2 and voto != 3 and voto != 4 and voto != 5 and voto != 6:\n",
        "        print(\"Voto inválido. Intente nuevamente.\")\n",
        "        continue\n",
        "    total_votos += 1\n",
        "    i += 1\n",
        "    if voto == 1:\n",
        "        candidato_1 += 1\n",
        "    elif voto == 2:\n",
        "        candidato_2 += 1\n",
        "    elif voto == 3:\n",
        "        candidato_3 += 1\n",
        "    elif voto == 4:\n",
        "        candidato_4 += 1\n",
        "    elif voto == 5:\n",
        "        votos_nulos += 1\n",
        "    else:\n",
        "        votos_en_blanco += 1\n",
        "\n",
        "porcentaje_votos_nulos = (votos_nulos / total_votos) * 100\n",
        "porcentaje_votos_en_blanco = (votos_en_blanco / total_votos) * 100\n",
        "\n",
        "print(\"Resultados de la elección:\")\n",
        "print(f\"Candidato 1: {candidato_1} votos\")\n",
        "print(f\"Candidato 2: {candidato_2} votos\")\n",
        "print(f\"Candidato 3: {candidato_3} votos\")\n",
        "print(f\"Candidato 4: {candidato_4} votos\")\n",
        "print(f\"Votos nulos: {votos_nulos} votos ({porcentaje_votos_nulos}%)\")\n",
        "print(f\"Votos en blanco: {votos_en_blanco} votos ({porcentaje_votos_en_blanco}%)\")"
      ]
    }
  ],
  "metadata": {
    "colab": {
      "provenance": []
    },
    "kernelspec": {
      "display_name": "Python 3",
      "name": "python3"
    },
    "language_info": {
      "name": "python"
    }
  },
  "nbformat": 4,
  "nbformat_minor": 0
}
