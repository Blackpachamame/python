{
  "cells": [
    {
      "cell_type": "markdown",
      "metadata": {},
      "source": [
        "[![Open in Colab](https://colab.research.google.com/assets/colab-badge.svg)](https://colab.research.google.com/github/Blackpachamame/python/blob/main/01-primeros-pasos/Aula3/Aula_3_Estructuras_condicionales.ipynb)"
      ]
    },
    {
      "cell_type": "markdown",
      "metadata": {
        "id": "fugesZ21Etet"
      },
      "source": [
        "# Aula 3: Estructuras condicionales"
      ]
    },
    {
      "cell_type": "markdown",
      "metadata": {
        "id": "9O9SVhfEE2PD"
      },
      "source": [
        "Vamos practicar el uso de estructuras condicionales como el `if`, `else` y `elif` a través de algunas actividades. Ahora que estamos avanzando en los contenidos, podemos hacer los desafíos más interesantes: ¡trabajaremos en proyectos de código! Resuelve los problemas iniciales para prepararte para los proyectos:"
      ]
    },
    {
      "cell_type": "markdown",
      "metadata": {
        "id": "7aAF14dtE47j"
      },
      "source": [
        "## Entrenando la programación\n"
      ]
    },
    {
      "cell_type": "markdown",
      "metadata": {
        "id": "fPprFzZjFHyE"
      },
      "source": [
        "### Ejercicio 1"
      ]
    },
    {
      "cell_type": "markdown",
      "metadata": {
        "id": "y9Ys0pcnFKGr"
      },
      "source": [
        "Escribe un programa que pida a la persona usuaria que proporcione dos números y muestre el número más grande."
      ]
    },
    {
      "cell_type": "code",
      "execution_count": null,
      "metadata": {
        "colab": {
          "base_uri": "https://localhost:8080/"
        },
        "id": "Iq6YRnM_qBG0",
        "outputId": "a799908a-0375-4c5a-98fe-244824dcfd68"
      },
      "outputs": [],
      "source": [
        "num1 = int(input('Ingrese el primer número: '))\n",
        "num2 = int(input('Ingrese el segundo número: '))\n",
        "\n",
        "if num1 > num2:\n",
        "    print(f'El primer número es mayor: {num1}')\n",
        "elif num2 > num1:\n",
        "    print(f'El segundo número es mayor: {num2}')\n",
        "else:\n",
        "    print('Ambos números son iguales')"
      ]
    },
    {
      "cell_type": "markdown",
      "metadata": {
        "id": "jcWDoKnpFMkD"
      },
      "source": [
        "### Ejercicio 2"
      ]
    },
    {
      "cell_type": "markdown",
      "metadata": {
        "id": "nkmZanXoFiAT"
      },
      "source": [
        "Escribe un programa que solicite el porcentaje de crecimiento de producción de una empresa e informe si hubo un crecimiento (porcentaje positivo) o una disminución (porcentaje negativo)."
      ]
    },
    {
      "cell_type": "code",
      "execution_count": null,
      "metadata": {
        "colab": {
          "base_uri": "https://localhost:8080/"
        },
        "id": "EUg2CO8PqScc",
        "outputId": "2aa92654-97ef-4055-ed39-b13237e2ca05"
      },
      "outputs": [],
      "source": [
        "porcentaje = int(input('Ingrese el porcentaje de crecimiento de producción de su empresa: '))\n",
        "if porcentaje > 0:\n",
        "    print(f'Hubo un crecimiento del {porcentaje}% en la producción')\n",
        "elif porcentaje == 0:\n",
        "    print(f'La producción se mantuvo igual')\n",
        "else:\n",
        "    print('Hubo una dismunución del {porcentaje}% en la producción')"
      ]
    },
    {
      "cell_type": "markdown",
      "metadata": {
        "id": "zlYDP5LwFOkD"
      },
      "source": [
        "### Ejercicio 3"
      ]
    },
    {
      "cell_type": "markdown",
      "metadata": {
        "id": "EXSsONNuFkBs"
      },
      "source": [
        "Escribe un programa que determine si una letra proporcionada por la persona usuaria es una vocal o una consonante."
      ]
    },
    {
      "cell_type": "code",
      "execution_count": null,
      "metadata": {
        "colab": {
          "base_uri": "https://localhost:8080/"
        },
        "id": "YDRivmE0wJHe",
        "outputId": "21d6abcd-f7b3-4cd0-e442-97892606ed7a"
      },
      "outputs": [],
      "source": [
        "vocales = \"aeiou\"\n",
        "letra = input('Ingrese una letra: ')\n",
        "if letra in vocales:\n",
        "    print('Es una vocal')\n",
        "else:\n",
        "    print('Es una consonante')"
      ]
    },
    {
      "cell_type": "markdown",
      "metadata": {
        "id": "OlMiXu4JFRNz"
      },
      "source": [
        "### Ejercicio 4"
      ]
    },
    {
      "cell_type": "markdown",
      "metadata": {
        "id": "XSGB4nN-Fmj7"
      },
      "source": [
        "Escribe un programa que lea valores promedio de precios de un modelo de automóvil durante 3 años consecutivos y muestre el valor más alto y más bajo entre esos tres años."
      ]
    },
    {
      "cell_type": "code",
      "execution_count": null,
      "metadata": {
        "colab": {
          "base_uri": "https://localhost:8080/"
        },
        "id": "9ncqBedMwl8O",
        "outputId": "f85433ac-c018-4fcd-b31d-94d7fdc1af96"
      },
      "outputs": [],
      "source": [
        "precio_1 = float(input(\"Ingrese el precio promedio para el primer año: \"))\n",
        "precio_2 = float(input(\"Ingrese el precio promedio para el segundo año: \"))\n",
        "precio_3 = float(input(\"Ingrese el precio promedio para el tercer año: \"))\n",
        "\n",
        "precio_maximo = precio_1\n",
        "precio_minimo = precio_1\n",
        "\n",
        "if precio_2 > precio_maximo:\n",
        "    precio_maximo = precio_2\n",
        "if precio_3 > precio_maximo:\n",
        "    precio_maximo = precio_3\n",
        "\n",
        "if precio_2 < precio_minimo:\n",
        "    precio_minimo = precio_2\n",
        "if precio_3 < precio_minimo:\n",
        "    precio_minimo = precio_3\n",
        "\n",
        "print(f\"El precio más alto es: {precio_maximo}\")\n",
        "print(f\"El precio más bajo es: {precio_minimo}\")"
      ]
    },
    {
      "cell_type": "markdown",
      "metadata": {
        "id": "rVXfCATsFSpE"
      },
      "source": [
        "### Ejercicio 5"
      ]
    },
    {
      "cell_type": "markdown",
      "metadata": {
        "id": "skfb6MAuFo20"
      },
      "source": [
        "Escribe un programa que pregunte sobre el precio de tres productos e indique cuál es el producto más barato para comprar."
      ]
    },
    {
      "cell_type": "code",
      "execution_count": null,
      "metadata": {
        "colab": {
          "base_uri": "https://localhost:8080/"
        },
        "id": "3I9s0lxp2Xr3",
        "outputId": "b0e458bb-17d2-4bbd-89af-f868558a8e3b"
      },
      "outputs": [],
      "source": [
        "precio_1 = float(input(\"Ingrese el precio del primer producto: \"))\n",
        "precio_2 = float(input(\"Ingrese el precio del segundo producto: \"))\n",
        "precio_3 = float(input(\"Ingrese el precio del tercer producto: \"))\n",
        "\n",
        "if precio_1 < precio_2 and precio_1 < precio_3:\n",
        "    print(f\"El producto más barato es el primero\")\n",
        "elif precio_2 < precio_1 and precio_2 < precio_3:\n",
        "    print(f\"El producto más barato es el segundo\")\n",
        "else:\n",
        "    print(f\"El producto más barato es el tercero\")"
      ]
    },
    {
      "cell_type": "markdown",
      "metadata": {
        "id": "yLdvXTW5FT3M"
      },
      "source": [
        "### Ejercicio 6"
      ]
    },
    {
      "cell_type": "markdown",
      "metadata": {
        "id": "ZJCYCO7DFrAD"
      },
      "source": [
        "Escribe un programa que lea tres números y los muestre en orden descendente."
      ]
    },
    {
      "cell_type": "code",
      "execution_count": null,
      "metadata": {
        "colab": {
          "base_uri": "https://localhost:8080/"
        },
        "id": "7FaUM1Fr4sxg",
        "outputId": "c38fa815-39a3-48c3-f61d-eeaee3a946a8"
      },
      "outputs": [],
      "source": [
        "num1 = int(input(\"Ingrese el primer número: \"))\n",
        "num2 = int(input(\"Ingrese el segundo número: \"))\n",
        "num3 = int(input(\"Ingrese el tercer número: \"))\n",
        "\n",
        "\n",
        "if num1 > num2 and num1 > num3:\n",
        "    if num2 > num3:\n",
        "        print(f\"{num1}, {num2}, {num3}\")\n",
        "    else:\n",
        "        print(f\"{num1}, {num3}, {num2}\")\n",
        "elif num2 > num1 and num2 > num3:\n",
        "    if num1 > num3:\n",
        "        print(f\"{num2}, {num1}, {num3}\")\n",
        "    else:\n",
        "        print(f\"{num2}, {num3}, {num1}\")\n",
        "else:\n",
        "    if num1 > num2:\n",
        "        print(f\"{num3}, {num1}, {num2}\")\n",
        "    else:\n",
        "        print(f\"{num3}, {num2}, {num1}\")"
      ]
    },
    {
      "cell_type": "markdown",
      "metadata": {
        "id": "xEehow7vFUrc"
      },
      "source": [
        "### Ejercicio 7"
      ]
    },
    {
      "cell_type": "markdown",
      "metadata": {
        "id": "ATPrZHWcFs6r"
      },
      "source": [
        "Escribe un programa que pregunte en qué turno estudia la persona usuaria (\"mañana\", \"tarde\" o \"noche\") y muestre el mensaje \"¡Buenos Días!\", \"¡Buenas Tardes!\", \"¡Buenas Noches!\" o \"Valor Inválido!\", según el caso."
      ]
    },
    {
      "cell_type": "code",
      "execution_count": null,
      "metadata": {
        "colab": {
          "base_uri": "https://localhost:8080/"
        },
        "id": "2odNOTk3511R",
        "outputId": "8eddac16-4c88-4966-8732-703bf25d9482"
      },
      "outputs": [],
      "source": [
        "turno = input(\"Ingrese en qué turno estudia la persona usuaria (mañana, tarde o noche): \")\n",
        "\n",
        "if turno == \"mañana\":\n",
        "    print(\"¡Buenos Días!\")\n",
        "elif turno == \"tarde\":\n",
        "    print(\"¡Buenas Tardes!\")\n",
        "elif turno == \"noche\":\n",
        "    print(\"¡Buenas Noches!\")\n",
        "else:\n",
        "    print(\"Valor Inválido!\")"
      ]
    },
    {
      "cell_type": "markdown",
      "metadata": {
        "id": "jfwHrOZsFVxL"
      },
      "source": [
        "### Ejercicio 8"
      ]
    },
    {
      "cell_type": "markdown",
      "metadata": {
        "id": "WgEI30TZFvQs"
      },
      "source": [
        "Escribe un programa que solicite un número entero a la persona usuaria y determine si es par o impar. Pista: Puedes usar el operador módulo (`%`)."
      ]
    },
    {
      "cell_type": "code",
      "execution_count": null,
      "metadata": {
        "colab": {
          "base_uri": "https://localhost:8080/"
        },
        "id": "j4zQ0JHO_X5O",
        "outputId": "095a3920-3e20-420b-8cfc-6183918d6a73"
      },
      "outputs": [],
      "source": [
        "num = int(input(\"Ingrese un número entero: \"))\n",
        "\n",
        "if num % 2 == 0:\n",
        "    print(\"El número es par\")\n",
        "else:\n",
        "    print(\"El número es impar\")"
      ]
    },
    {
      "cell_type": "markdown",
      "metadata": {
        "id": "HohkUv6-FWoD"
      },
      "source": [
        "### Ejercicio 9"
      ]
    },
    {
      "cell_type": "markdown",
      "metadata": {
        "id": "eNVBEML5Fxgk"
      },
      "source": [
        "Escribe un programa que pida un número a la persona usuaria y le informe si es entero o decimal."
      ]
    },
    {
      "cell_type": "code",
      "execution_count": null,
      "metadata": {
        "colab": {
          "base_uri": "https://localhost:8080/"
        },
        "id": "QxYgt2Vm_j9e",
        "outputId": "50a84c08-ed32-43af-c742-e18d22239822"
      },
      "outputs": [],
      "source": [
        "num = float(input(\"Ingrese un número: \"))\n",
        "\n",
        "if num % 1 == 0:\n",
        "    print(\"El número es entero\")\n",
        "else:\n",
        "    print(\"El número es decimal\")"
      ]
    },
    {
      "cell_type": "markdown",
      "metadata": {
        "id": "6mamAZ_rF1rr"
      },
      "source": [
        "## Momento de los proyectos"
      ]
    },
    {
      "cell_type": "markdown",
      "metadata": {
        "id": "dpA3xm0NFXoz"
      },
      "source": [
        "### Ejercicio 10"
      ]
    },
    {
      "cell_type": "markdown",
      "metadata": {
        "id": "KVWNEVAsFzyr"
      },
      "source": [
        "Un programa debe ser escrito para leer dos números y luego preguntar a la persona usuaria qué operación desea realizar. El resultado de la operación debe incluir información sobre el número, si es par o impar, positivo o negativo, e entero o decimal."
      ]
    },
    {
      "cell_type": "code",
      "execution_count": null,
      "metadata": {
        "colab": {
          "base_uri": "https://localhost:8080/"
        },
        "id": "LiqK_ofEr9YH",
        "outputId": "fc2badee-fdf4-4fa0-cf00-af95e20768de"
      },
      "outputs": [],
      "source": [
        "num1 = float(input(\"Ingrese un número: \"))\n",
        "num2 = float(input(\"Ingrese otro número: \"))\n",
        "operacion = input(\"Ingrese la operación que desea realizar (+, -, *, /): \")\n",
        "\n",
        "if operacion == \"+\":\n",
        "    resultado = num1 + num2\n",
        "elif operacion == \"-\":\n",
        "    resultado = num1 - num2\n",
        "elif operacion == \"*\":\n",
        "    resultado = num1 * num2\n",
        "elif operacion == \"/\":\n",
        "    resultado = num1 / num\n",
        "\n",
        "if resultado % 1 == 0:\n",
        "    print(\"El número es entero\")\n",
        "else:\n",
        "    print(\"El número es decimal\")\n",
        "if resultado % 2 == 0:\n",
        "    print(\"El número es par\")\n",
        "else:\n",
        "    print(\"El número es impar\")\n",
        "if resultado >= 0:\n",
        "    print(\"El número es positivo\")\n",
        "else:\n",
        "    print(\"El número es negativo\")"
      ]
    },
    {
      "cell_type": "markdown",
      "metadata": {
        "id": "wRy9hO4_FbZj"
      },
      "source": [
        "### Ejercicio 11"
      ]
    },
    {
      "cell_type": "markdown",
      "metadata": {
        "id": "dj4vqunOF7vz"
      },
      "source": [
        "Escribe un programa que pida a la persona usuaria tres números que representan los lados de un triángulo. El programa debe informar si los valores pueden utilizarse para formar un triángulo y, en caso afirmativo, si es equilátero, isósceles o escaleno. Ten en cuenta algunas sugerencias:\n",
        "\n",
        "*   Tres lados forman un triángulo cuando la suma de cualesquiera dos lados es mayor que el tercero;\n",
        "*   Triángulo Equilátero: tres lados iguales;\n",
        "*   Triángulo Isósceles: dos lados iguales;\n",
        "*   Triángulo Escaleno: tres lados diferentes."
      ]
    },
    {
      "cell_type": "code",
      "execution_count": null,
      "metadata": {
        "colab": {
          "base_uri": "https://localhost:8080/"
        },
        "id": "TfaQ-ffH_1xf",
        "outputId": "b5c526a6-cda1-41b4-a68c-76c63c03ea17"
      },
      "outputs": [],
      "source": [
        "lado1 = float(input(\"Ingrese el primer lado del triángulo: \"))\n",
        "lado2 = float(input(\"Ingrese el segundo lado del triángulo: \"))\n",
        "lado3 = float(input(\"Ingrese el tercer lado del triángulo: \"))\n",
        "\n",
        "es_triangulo = (lado1 + lado2 > lado3 and lado1 + lado3 > lado2 and lado2 + lado3 > lado1)\n",
        "if es_triangulo:\n",
        "    if lado1 == lado2 == lado3:\n",
        "        print(\"Es un triángulo equilátero\")\n",
        "    elif lado1 == lado2 or lado1 == lado3 or lado2 == lado3:\n",
        "        print(\"Es un triángulo isósceles\")\n",
        "    else:\n",
        "        print(\"Es un triángulo escaleno\")\n",
        "else:\n",
        "    print(\"No es un triángulo\")"
      ]
    },
    {
      "cell_type": "markdown",
      "metadata": {
        "id": "XWrdEXKOFdCL"
      },
      "source": [
        "### Ejercicio 12"
      ]
    },
    {
      "cell_type": "markdown",
      "metadata": {
        "id": "CACaoL1NGNV8"
      },
      "source": [
        "Un establecimiento está vendiendo combustibles con descuentos variables. Para el etanol, si la cantidad comprada es de hasta 15 litros, el descuento será del 2% por litro. En caso contrario, será del 4% por litro. Para el diésel, si la cantidad comprada es de hasta 15 litros, el descuento será del 3% por litro. En caso contrario, será del 5% por litro. El precio por litro de diésel es de `R$ 2,00` y el precio por litro de etanol es de `R$ 1,70`. Escribe un programa que lea la cantidad de litros vendidos y el tipo de combustible (E para etanol y D para diésel) y calcule el valor a pagar por el cliente. Ten en cuenta algunas sugerencias:\n",
        "\n",
        "*   El valor del descuento será el producto del precio por litro, la cantidad de litros y el valor del descuento.\n",
        "*   El valor a pagar por un cliente será el resultado de la multiplicación del precio por litro por la cantidad de litros menos el valor del descuento resultante del cálculo."
      ]
    },
    {
      "cell_type": "code",
      "execution_count": null,
      "metadata": {
        "colab": {
          "base_uri": "https://localhost:8080/"
        },
        "id": "89xCugIQCDdv",
        "outputId": "521624f9-0d09-4329-c8f0-b70e5f525263"
      },
      "outputs": [],
      "source": [
        "cant_litros = int(input(\"Ingrese la cantidad de litros vendidos: \"))\n",
        "tipo_combustible = input(\"Ingrese el tipo de combustible (E para etanol y D para diésel): \")\n",
        "\n",
        "if tipo_combustible == \"E\":\n",
        "    precio_litro = 1.70\n",
        "    if cant_litros <= 15:\n",
        "        descuento = 0.02\n",
        "    else:\n",
        "        descuento = 0.04\n",
        "elif tipo_combustible == \"D\":\n",
        "    precio_litro = 2.00\n",
        "    if cant_litros <= 15:\n",
        "        descuento = 0.03\n",
        "    else:\n",
        "        descuento = 0.05\n",
        "else:\n",
        "    print(\"Tipo de combustible inválido\")\n",
        "    precio_litro = 0\n",
        "    descuento = 0\n",
        "\n",
        "valor_descuento = precio_litro * cant_litros * descuento\n",
        "valor_a_pagar = precio_litro * cant_litros - valor_descuento\n",
        "print(f\"El valor a pagar por el cliente es: {valor_a_pagar}\")"
      ]
    },
    {
      "cell_type": "markdown",
      "metadata": {
        "id": "wtP_UOXQFeQz"
      },
      "source": [
        "### Ejercicio 13"
      ]
    },
    {
      "cell_type": "markdown",
      "metadata": {
        "id": "AUQzNxWHGWpz"
      },
      "source": [
        "En una empresa de venta de bienes raíces, debes crear un código que analice los datos de ventas anuales para ayudar a la dirección en la toma de decisiones. El código debe recopilar los datos de cantidad de ventas durante los años 2022 y 2023 y calcular la variación porcentual. A partir del valor de la variación, se deben proporcionar las siguientes sugerencias:\n",
        "\n",
        "*   Para una variación superior al 20%: bonificación para el equipo de ventas.\n",
        "*   Para una variación entre el 2% y el 20%: pequeña bonificación para el equipo de ventas.\n",
        "*   Para una variación entre el 2% y el -10%: planificación de políticas de incentivo a las ventas.\n",
        "*   Para bonificaciones inferiores al -10%: recorte de gastos.\n",
        "\n"
      ]
    },
    {
      "cell_type": "code",
      "execution_count": null,
      "metadata": {
        "colab": {
          "base_uri": "https://localhost:8080/"
        },
        "id": "rVaT01f2E_to",
        "outputId": "ce2dd63f-9eee-43d0-8664-0a62c4dd4478"
      },
      "outputs": [],
      "source": [
        "datos_ventas_1 = float(input(\"Ingrese la cantidad de ventas del año 2022: \"))\n",
        "datos_ventas_2 = float(input(\"Ingrese la cantidad de ventas del año 2023: \"))\n",
        "\n",
        "variacion = (datos_ventas_2 - datos_ventas_1) / datos_ventas_1 * 100\n",
        "if variacion > 20:\n",
        "    print(\"Bonificación para el equipo de ventas\")\n",
        "elif variacion >= 2 and variacion <= 20:\n",
        "    print(\"Pequeña bonificación para el equipo de ventas\")\n",
        "elif variacion >= -10 and variacion < 2:\n",
        "    print(\"Planificación de políticas de incentivo a las ventas\")\n",
        "else:\n",
        "    print(\"Recorte de gastos\")"
      ]
    }
  ],
  "metadata": {
    "colab": {
      "collapsed_sections": [
        "7aAF14dtE47j"
      ],
      "provenance": []
    },
    "kernelspec": {
      "display_name": "Python 3",
      "name": "python3"
    },
    "language_info": {
      "name": "python"
    }
  },
  "nbformat": 4,
  "nbformat_minor": 0
}
