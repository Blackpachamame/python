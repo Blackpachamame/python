{
  "cells": [
    {
      "cell_type": "markdown",
      "metadata": {},
      "source": [
        "[![Open in Colab](https://colab.research.google.com/assets/colab-badge.svg)](https://colab.research.google.com/github/Blackpachamame/python/blob/main/Aula2/Aula_2_Manipulando_datos_en_Python.ipynb)"
      ]
    },
    {
      "cell_type": "markdown",
      "metadata": {
        "id": "v_jXonE4azUd"
      },
      "source": [
        "# Aula 2: Manipulando datos en Python"
      ]
    },
    {
      "cell_type": "markdown",
      "metadata": {
        "id": "eU-yvt9CbSj8"
      },
      "source": [
        "## Recopilación y muestra de datos"
      ]
    },
    {
      "cell_type": "markdown",
      "metadata": {
        "id": "AMPhxB2Da2_d"
      },
      "source": [
        "### Ejercicio 1"
      ]
    },
    {
      "cell_type": "markdown",
      "metadata": {
        "id": "v1Cwsgwxa6H8"
      },
      "source": [
        "Crea un programa que solicite al usuario que escriba su nombre y luego imprima \"Hola, [nombre].\""
      ]
    },
    {
      "cell_type": "code",
      "execution_count": null,
      "metadata": {
        "colab": {
          "base_uri": "https://localhost:8080/"
        },
        "id": "HSTfie_O-ijD",
        "outputId": "c650548d-5e82-494b-8a59-3554986b3781"
      },
      "outputs": [],
      "source": [
        "nombre = input(\"¿Cuál es tu nombre? \")\n",
        "print(f\"Hola, {nombre}\")"
      ]
    },
    {
      "cell_type": "markdown",
      "metadata": {
        "id": "NENV0Z-TbFfc"
      },
      "source": [
        "### Ejercicio 2"
      ]
    },
    {
      "cell_type": "markdown",
      "metadata": {
        "id": "Oq-jmVzabJQV"
      },
      "source": [
        "Crea un programa que solicite al usuario que escriba su nombre y edad, y luego imprima \"Hola, [nombre], tienes [edad] años.\""
      ]
    },
    {
      "cell_type": "code",
      "execution_count": null,
      "metadata": {
        "colab": {
          "base_uri": "https://localhost:8080/"
        },
        "id": "vIpI3OvO_Grj",
        "outputId": "0768c25d-c21d-465f-eaee-b70f11c42d5c"
      },
      "outputs": [],
      "source": [
        "nombre = input(\"¿Cuál es tu nombre? \")\n",
        "edad = input(\"¿Cuál es tu edad? \")\n",
        "print(f\"Hola, {nombre}, tienes {edad} años\")"
      ]
    },
    {
      "cell_type": "markdown",
      "metadata": {
        "id": "eg_x_0KsbNU0"
      },
      "source": [
        "### Ejercicio 3"
      ]
    },
    {
      "cell_type": "markdown",
      "metadata": {
        "id": "lIwL9M7SbPNN"
      },
      "source": [
        "Crea un programa que solicite al usuario que escriba su nombre, edad y altura en metros, y luego imprima \"Hola, [nombre], tienes [edad] años y mides [altura] metros.\""
      ]
    },
    {
      "cell_type": "code",
      "execution_count": null,
      "metadata": {
        "colab": {
          "base_uri": "https://localhost:8080/"
        },
        "id": "dgSWhYndB0tE",
        "outputId": "c2734310-03c2-412f-8687-08e0331bb9be"
      },
      "outputs": [],
      "source": [
        "nombre = input(\"¿Cuál es tu nombre? \")\n",
        "edad = input(\"¿Cuál es tu edad? \")\n",
        "altura = input(\"¿Cuál es tu altura? \")\n",
        "print(f\"Hola, {nombre}, tienes {edad} años y mides {altura} metros.\")"
      ]
    },
    {
      "cell_type": "markdown",
      "metadata": {
        "id": "yJFOctnabVGF"
      },
      "source": [
        "## Calculadora con operadores"
      ]
    },
    {
      "cell_type": "markdown",
      "metadata": {
        "id": "MW6zbExnbXt9"
      },
      "source": [
        "### Ejercicio 4"
      ]
    },
    {
      "cell_type": "markdown",
      "metadata": {
        "id": "7LQUQMJGbael"
      },
      "source": [
        "Crea un programa que solicite dos valores numéricos al usuario y luego imprima la suma de ambos valores."
      ]
    },
    {
      "cell_type": "code",
      "execution_count": null,
      "metadata": {
        "colab": {
          "base_uri": "https://localhost:8080/"
        },
        "id": "DY8L_dXvr8Mi",
        "outputId": "66df5354-7c50-42bb-bafe-ea6ae82b78aa"
      },
      "outputs": [],
      "source": [
        "num1 = int(input(\"Ingrese un número: \"))\n",
        "num2 = int(input(\"Ingrese otro número: \"))\n",
        "result = num1 + num2\n",
        "print(f\"La suma es: {result}\")"
      ]
    },
    {
      "cell_type": "markdown",
      "metadata": {
        "id": "Gl_ibEUrbdN0"
      },
      "source": [
        "### Ejercicio 5"
      ]
    },
    {
      "cell_type": "markdown",
      "metadata": {
        "id": "Inin3v1Zbf6d"
      },
      "source": [
        "Crea un programa que solicite tres valores numéricos al usuario y luego imprima la suma de los tres valores."
      ]
    },
    {
      "cell_type": "code",
      "execution_count": null,
      "metadata": {
        "colab": {
          "base_uri": "https://localhost:8080/"
        },
        "id": "AREICtHj_a7S",
        "outputId": "b60aa18a-4cc3-4410-ad7c-e7f09316f70d"
      },
      "outputs": [],
      "source": [
        "num1 = int(input(\"Ingrese un número: \"))\n",
        "num2 = int(input(\"Ingrese otro número: \"))\n",
        "num3 = int(input(\"Ingrese un tercer número: \"))\n",
        "result = num1 + num2 + num3\n",
        "print(f\"La suma es: {result}\")"
      ]
    },
    {
      "cell_type": "markdown",
      "metadata": {
        "id": "USUI4eOubgwv"
      },
      "source": [
        "### Ejercicio 6"
      ]
    },
    {
      "cell_type": "markdown",
      "metadata": {
        "id": "NM6mKSscbjVU"
      },
      "source": [
        "Crea un programa que solicite dos valores numéricos al usuario y luego imprima la resta del primero menos el segundo valor."
      ]
    },
    {
      "cell_type": "code",
      "execution_count": null,
      "metadata": {
        "colab": {
          "base_uri": "https://localhost:8080/"
        },
        "id": "r9m9yCT9_l2C",
        "outputId": "57209d56-16e4-46e9-d0b1-86d0b8a72488"
      },
      "outputs": [],
      "source": [
        "num1 = int(input(\"Ingrese un número: \"))\n",
        "num2 = int(input(\"Ingrese otro número: \"))\n",
        "result = num1 - num2\n",
        "print(f\"La resta es: {result}\")"
      ]
    },
    {
      "cell_type": "markdown",
      "metadata": {
        "id": "JFxV72oTbkSt"
      },
      "source": [
        "### Ejercicio 7"
      ]
    },
    {
      "cell_type": "markdown",
      "metadata": {
        "id": "NaaC7LKJbomd"
      },
      "source": [
        "Crea un programa que solicite dos valores numéricos al usuario y luego imprima la multiplicación de los dos valores."
      ]
    },
    {
      "cell_type": "code",
      "execution_count": null,
      "metadata": {
        "colab": {
          "base_uri": "https://localhost:8080/"
        },
        "id": "V41bnQYd_scy",
        "outputId": "219169d1-c592-46b7-95bd-d2c8f16eca15"
      },
      "outputs": [],
      "source": [
        "num1 = int(input(\"Ingrese un número: \"))\n",
        "num2 = int(input(\"Ingrese otro número: \"))\n",
        "result = num1 * num2\n",
        "print(f\"La multiplicación es: {result}\")"
      ]
    },
    {
      "cell_type": "markdown",
      "metadata": {
        "id": "wLXrlgcrbpzc"
      },
      "source": [
        "### Ejercicio 8"
      ]
    },
    {
      "cell_type": "markdown",
      "metadata": {
        "id": "-gdGX329brak"
      },
      "source": [
        "Crea un programa que solicite dos valores numéricos, un numerador y un denominador, y realice la división entre los dos valores. Asegúrate de que el valor del denominador no sea igual a 0."
      ]
    },
    {
      "cell_type": "code",
      "execution_count": null,
      "metadata": {
        "colab": {
          "base_uri": "https://localhost:8080/"
        },
        "id": "iu2csfgF_5HB",
        "outputId": "0148786a-0554-4c19-ff09-4beeb38e0427"
      },
      "outputs": [],
      "source": [
        "numerador = int(input(\"Ingrese el operador: \"))\n",
        "denominador = int(input(\"Ingrese el denominador (no puede ser 0): \"))\n",
        "result = numerador / denominador\n",
        "print(f\"La división es: {result}\")"
      ]
    },
    {
      "cell_type": "markdown",
      "metadata": {
        "id": "03i-DxkAbtak"
      },
      "source": [
        "### Ejercicio 9"
      ]
    },
    {
      "cell_type": "markdown",
      "metadata": {
        "id": "4czW01Febu_s"
      },
      "source": [
        "Crea un programa que solicite dos valores numéricos, un operador y una potencia, y realice la exponenciación entre estos dos valores."
      ]
    },
    {
      "cell_type": "code",
      "execution_count": null,
      "metadata": {
        "colab": {
          "base_uri": "https://localhost:8080/"
        },
        "id": "9wBh7wKiAX-q",
        "outputId": "3bef1d45-e4a6-469e-a904-1fd0c79db141"
      },
      "outputs": [],
      "source": [
        "operador = int(input(\"Ingrese el operador: \"))\n",
        "potencia = int(input(\"Ingrese la potencia: \"))\n",
        "result = operador**potencia\n",
        "print(f\"La exponenciación es: {result}\")"
      ]
    },
    {
      "cell_type": "markdown",
      "metadata": {
        "id": "Mx-ybzBbbxqE"
      },
      "source": [
        "### Ejercicio 10"
      ]
    },
    {
      "cell_type": "markdown",
      "metadata": {
        "id": "ClnHVr86bzNV"
      },
      "source": [
        "Crea un programa que solicite dos valores numéricos, un numerador y un denominador, y realice la división entera entre los dos valores. Asegúrate de que el valor del denominador no sea igual a 0."
      ]
    },
    {
      "cell_type": "code",
      "execution_count": null,
      "metadata": {
        "colab": {
          "base_uri": "https://localhost:8080/"
        },
        "id": "jzn4D98NBB2Z",
        "outputId": "4d8a8a09-7d95-4143-e280-9fd2d27bccca"
      },
      "outputs": [],
      "source": [
        "numerador = int(input(\"Ingrese el numerador: \"))\n",
        "denominador = int(input(\"Ingrese el denominador (no puede ser 0): \"))\n",
        "result = numerador//denominador\n",
        "print(f\"La división es: {result}\")"
      ]
    },
    {
      "cell_type": "markdown",
      "metadata": {
        "id": "g0YBWmi4bzw0"
      },
      "source": [
        "### Ejercicio 11"
      ]
    },
    {
      "cell_type": "markdown",
      "metadata": {
        "id": "miNlnOwXb1Z0"
      },
      "source": [
        "Crea un programa que solicite dos valores numéricos, un numerador y un denominador, y devuelva el resto de la división entre los dos valores. Asegúrate de que el valor del denominador no sea igual a 0."
      ]
    },
    {
      "cell_type": "code",
      "execution_count": null,
      "metadata": {
        "colab": {
          "base_uri": "https://localhost:8080/"
        },
        "id": "NmoehFCwBgNp",
        "outputId": "b5383cff-451e-4d8a-e9e4-81c08982f967"
      },
      "outputs": [],
      "source": [
        "numerador = int(input(\"Ingrese el numerador: \"))\n",
        "denominador = int(input(\"Ingrese el denominador (no puede ser 0): \"))\n",
        "result = numerador%denominador\n",
        "print(f\"El resto de la división es: {result}\")"
      ]
    },
    {
      "cell_type": "markdown",
      "metadata": {
        "id": "DsHGfwVPb3SV"
      },
      "source": [
        "### Ejercicio 12"
      ]
    },
    {
      "cell_type": "markdown",
      "metadata": {
        "id": "NGPEPOzGb6g8"
      },
      "source": [
        "Crea un código que solicite las 3 notas de un estudiante e imprima el promedio de las notas."
      ]
    },
    {
      "cell_type": "code",
      "execution_count": null,
      "metadata": {
        "colab": {
          "base_uri": "https://localhost:8080/"
        },
        "id": "W2Qm1h9zCcZ_",
        "outputId": "60b2bdea-018c-4a02-cd0a-ab59ce68417d"
      },
      "outputs": [],
      "source": [
        "nota1 = float(input(\"Ingrese la primera nota: \"))\n",
        "nota2 = float(input(\"Ingrese la segunda nota: \"))\n",
        "nota3 = float(input(\"Ingrese la tercera nota: \"))\n",
        "result = (nota1 + nota2 + nota3) / 3\n",
        "print(f\"El promedio es: {result}\")"
      ]
    },
    {
      "cell_type": "markdown",
      "metadata": {
        "id": "7Hn7kvhgb85k"
      },
      "source": [
        "### Ejercicio 13"
      ]
    },
    {
      "cell_type": "markdown",
      "metadata": {
        "id": "4mTxw-rSb-ot"
      },
      "source": [
        "Crea un código que calcule e imprima el promedio ponderado de los números 5, 12, 20 y 15 con pesos respectivamente iguales a 1, 2, 3 y 4."
      ]
    },
    {
      "cell_type": "code",
      "execution_count": null,
      "metadata": {
        "colab": {
          "base_uri": "https://localhost:8080/"
        },
        "id": "Uf66_pw2D_zA",
        "outputId": "3035a956-0a9a-4f40-b217-edbd9ef8d278"
      },
      "outputs": [],
      "source": [
        "\"\"\"\n",
        "Para calcular el promedio ponderado, se realiza la siguiente fórmula:\n",
        "1- Multiplicamos cada valor por su peso correspondiente y sumamos los resultados, eso nos dará la suma ponderada\n",
        "2- Sumar todos los pesos (suma total de pesos)\n",
        "3- Dividir la suma ponderada entre la suma total de pesos\n",
        "\"\"\"\n",
        "suma_ponderada = (5*1 + 12*2 + 20*3 + 15*4)\n",
        "suma_total_pesos = 1 + 2 + 3 + 4\n",
        "promedio_ponderado = suma_ponderada / suma_total_pesos\n",
        "print(f\"El promedio ponderado es: {promedio_ponderado}\")"
      ]
    },
    {
      "cell_type": "markdown",
      "metadata": {
        "id": "Tc1TTBJocEIc"
      },
      "source": [
        "## Editando textos"
      ]
    },
    {
      "cell_type": "markdown",
      "metadata": {
        "id": "j4_2pBwycFiN"
      },
      "source": [
        "### Ejercicio 14"
      ]
    },
    {
      "cell_type": "markdown",
      "metadata": {
        "id": "X8tyIXU-cHQ0"
      },
      "source": [
        "Crea una variable llamada \"frase\" y asígnale una cadena de texto de tu elección. Luego, imprime la frase en pantalla."
      ]
    },
    {
      "cell_type": "code",
      "execution_count": null,
      "metadata": {
        "colab": {
          "base_uri": "https://localhost:8080/"
        },
        "id": "NinwQpzPHdpR",
        "outputId": "7ffce5d0-45ba-499d-a7d6-d9f7e66c0752"
      },
      "outputs": [],
      "source": [
        "frase = \"Hace más ruido un hombre gritando que cien mil que están callados.\"\n",
        "print(frase)"
      ]
    },
    {
      "cell_type": "markdown",
      "metadata": {
        "id": "y1HP4nqucJC1"
      },
      "source": [
        "### Ejercicio 15"
      ]
    },
    {
      "cell_type": "markdown",
      "metadata": {
        "id": "ZK7JFjb9cLK9"
      },
      "source": [
        "Crea un código que solicite una frase y luego imprima la frase en pantalla."
      ]
    },
    {
      "cell_type": "code",
      "execution_count": null,
      "metadata": {
        "colab": {
          "base_uri": "https://localhost:8080/"
        },
        "id": "q-ug9u5KIJOY",
        "outputId": "874d1653-9332-43e0-d677-9f0020e0a8e3"
      },
      "outputs": [],
      "source": [
        "frase = input(\"Ingrese una frase: \")\n",
        "print(frase)"
      ]
    },
    {
      "cell_type": "markdown",
      "metadata": {
        "id": "myUz3DWtcN1c"
      },
      "source": [
        "### Ejercicio 16"
      ]
    },
    {
      "cell_type": "markdown",
      "metadata": {
        "id": "4nBpP-82cPj0"
      },
      "source": [
        "Crea un código que solicite una frase al usuario y luego imprima la misma frase ingresada pero en mayúsculas."
      ]
    },
    {
      "cell_type": "code",
      "execution_count": null,
      "metadata": {
        "colab": {
          "base_uri": "https://localhost:8080/"
        },
        "id": "379VBkBB7rWb",
        "outputId": "847ff834-6b8e-4a4e-9d32-e639c85a73bc"
      },
      "outputs": [],
      "source": [
        "frase = input(\"Ingrese una frase: \")\n",
        "print(frase.upper())"
      ]
    },
    {
      "cell_type": "markdown",
      "metadata": {
        "id": "9ASreJq8cQUl"
      },
      "source": [
        "### Ejercicio 17"
      ]
    },
    {
      "cell_type": "markdown",
      "metadata": {
        "id": "5ULgmNupcS2V"
      },
      "source": [
        "Crea un código que solicite una frase al usuario y luego imprima la misma frase ingresada pero en minúsculas."
      ]
    },
    {
      "cell_type": "code",
      "execution_count": null,
      "metadata": {
        "colab": {
          "base_uri": "https://localhost:8080/"
        },
        "id": "5d1z4vkT8Nqb",
        "outputId": "a4283dd5-16a1-4648-c0a0-e95cedb40061"
      },
      "outputs": [],
      "source": [
        "frase = input(\"Ingrese una frase: \")\n",
        "print(frase.lower())"
      ]
    },
    {
      "cell_type": "markdown",
      "metadata": {
        "id": "HnG44JBhcU8l"
      },
      "source": [
        "### Ejercicio 18"
      ]
    },
    {
      "cell_type": "markdown",
      "metadata": {
        "id": "e_0bqUrlcWq1"
      },
      "source": [
        "Crea una variable llamada \"frase\" y asígnale una cadena de texto de tu elección. Luego, imprime la frase sin espacios en blanco al principio y al final."
      ]
    },
    {
      "cell_type": "code",
      "execution_count": null,
      "metadata": {
        "colab": {
          "base_uri": "https://localhost:8080/"
        },
        "id": "D4EG70oq8Z_z",
        "outputId": "a8ed2116-bb04-4fdd-ce3d-2a3da3096d93"
      },
      "outputs": [],
      "source": [
        "frase = \" Cuando la patria está en peligro todo está permitido, excepto no defenderla.   \"\n",
        "print(frase.strip())"
      ]
    },
    {
      "cell_type": "markdown",
      "metadata": {
        "id": "_inhYzrqcXVt"
      },
      "source": [
        "### Ejercicio 19"
      ]
    },
    {
      "cell_type": "markdown",
      "metadata": {
        "id": "BPKvzBu9cazd"
      },
      "source": [
        "Crea un código que solicite una frase al usuario y luego imprima la misma frase sin espacios en blanco al principio y al final."
      ]
    },
    {
      "cell_type": "code",
      "execution_count": null,
      "metadata": {
        "colab": {
          "base_uri": "https://localhost:8080/"
        },
        "id": "3dgyg3lV_ZT0",
        "outputId": "17464b13-f93e-4c37-f940-93fd502daed6"
      },
      "outputs": [],
      "source": [
        "frase = input(\"Ingrese una frase: \")\n",
        "print(frase.strip())"
      ]
    },
    {
      "cell_type": "markdown",
      "metadata": {
        "id": "PqozPsh0ccVl"
      },
      "source": [
        "### Ejercicio 20"
      ]
    },
    {
      "cell_type": "markdown",
      "metadata": {
        "id": "P28QyOIzceRV"
      },
      "source": [
        "Crea un código que solicite una frase al usuario y luego imprima la misma frase sin espacios en blanco al principio y al final, además de convertirla a minúsculas."
      ]
    },
    {
      "cell_type": "code",
      "execution_count": null,
      "metadata": {
        "colab": {
          "base_uri": "https://localhost:8080/"
        },
        "id": "g2su0N-A_vJb",
        "outputId": "43b48be8-75eb-4610-98f6-68df21cb6e87"
      },
      "outputs": [],
      "source": [
        "frase = input(\"Ingrese una frase: \")\n",
        "print(frase.strip().lower())"
      ]
    },
    {
      "cell_type": "markdown",
      "metadata": {
        "id": "ZQinRug5cfyt"
      },
      "source": [
        "### Ejercicio 21"
      ]
    },
    {
      "cell_type": "markdown",
      "metadata": {
        "id": "BtI4yamXchUk"
      },
      "source": [
        "Crea un código que solicite una frase al usuario y luego imprima la misma frase con todas las vocales \"e\" reemplazadas por la letra \"f\"."
      ]
    },
    {
      "cell_type": "code",
      "execution_count": null,
      "metadata": {
        "colab": {
          "base_uri": "https://localhost:8080/"
        },
        "id": "lWfpeLOz_-Z7",
        "outputId": "58a867fe-8a18-4270-fd74-971cda85677c"
      },
      "outputs": [],
      "source": [
        "frase = input(\"Ingrese una frase: \")\n",
        "print(frase.replace(\"e\", \"f\"))"
      ]
    },
    {
      "cell_type": "markdown",
      "metadata": {
        "id": "223Dt6C2ch98"
      },
      "source": [
        "### Ejercicio 22"
      ]
    },
    {
      "cell_type": "markdown",
      "metadata": {
        "id": "iys9v57bcktF"
      },
      "source": [
        "Crea un código que solicite una frase al usuario y luego imprima la misma frase con todas las vocales \"a\" reemplazadas por el carácter \"@\"."
      ]
    },
    {
      "cell_type": "code",
      "execution_count": null,
      "metadata": {
        "colab": {
          "base_uri": "https://localhost:8080/"
        },
        "id": "-jj7QtZ5AL_L",
        "outputId": "9e975add-3967-496f-bc44-17322b777c5c"
      },
      "outputs": [],
      "source": [
        "frase = input(\"Ingrese una frase: \")\n",
        "print(frase.replace(\"a\", \"@\"))"
      ]
    },
    {
      "cell_type": "markdown",
      "metadata": {
        "id": "91mIG1-BclY-"
      },
      "source": [
        "### Ejercicio 23"
      ]
    },
    {
      "cell_type": "markdown",
      "metadata": {
        "id": "HVPy5kPJcn6V"
      },
      "source": [
        "Crea un código que solicite una frase al usuario y luego imprima la misma frase con todas las consonantes \"s\" reemplazadas por el carácter \"$\"."
      ]
    },
    {
      "cell_type": "code",
      "execution_count": null,
      "metadata": {
        "colab": {
          "base_uri": "https://localhost:8080/"
        },
        "id": "steNuHUEAb3D",
        "outputId": "55640948-3fcd-436d-9248-86cab2ccb6b6"
      },
      "outputs": [],
      "source": [
        "frase = input(\"Ingrese una frase: \")\n",
        "print(frase.replace(\"s\", \"$\"))"
      ]
    }
  ],
  "metadata": {
    "colab": {
      "collapsed_sections": [
        "eU-yvt9CbSj8",
        "NENV0Z-TbFfc",
        "yJFOctnabVGF"
      ],
      "provenance": []
    },
    "kernelspec": {
      "display_name": "Python 3",
      "name": "python3"
    },
    "language_info": {
      "name": "python"
    }
  },
  "nbformat": 4,
  "nbformat_minor": 0
}
