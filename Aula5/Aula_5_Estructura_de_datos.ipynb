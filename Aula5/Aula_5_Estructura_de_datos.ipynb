{
  "nbformat": 4,
  "nbformat_minor": 0,
  "metadata": {
    "colab": {
      "provenance": [],
      "collapsed_sections": [
        "JH3234Juvv0r"
      ]
    },
    "kernelspec": {
      "name": "python3",
      "display_name": "Python 3"
    },
    "language_info": {
      "name": "python"
    }
  },
  "cells": [
    {
      "cell_type": "markdown",
      "source": [
        "# Aula 5: Estructura de datos"
      ],
      "metadata": {
        "id": "9_QFfK0Svonk"
      }
    },
    {
      "cell_type": "markdown",
      "source": [
        "Vamos practicar el uso de estructuras de datos, como listas y diccionarios, a través de algunas actividades. Ahora que estamos avanzando en el contenido, podemos hacer los desafíos más interesantes. ¡Para ello, trabajaremos con proyectos de código!"
      ],
      "metadata": {
        "id": "lJEdsbnWvsm7"
      }
    },
    {
      "cell_type": "markdown",
      "source": [
        "## Entrenando la programación"
      ],
      "metadata": {
        "id": "JH3234Juvv0r"
      }
    },
    {
      "cell_type": "markdown",
      "source": [
        "### Ejercicio 1"
      ],
      "metadata": {
        "id": "2CkthYWvwY8r"
      }
    },
    {
      "cell_type": "markdown",
      "source": [
        "Crea un programa que tenga la siguiente lista con los gastos de una empresa de papel [2172.54, 3701.35, 3518.09, 3456.61, 3249.38, 2840.82, 3891.45, 3075.26, 2317.64, 3219.08]. Con estos valores, crea un programa que calcule el promedio de gastos. Sugerencia: usa las funciones integradas `sum()` y `len()`."
      ],
      "metadata": {
        "id": "XMi-DuiTwamj"
      }
    },
    {
      "cell_type": "code",
      "source": [
        "lista_gastos = [2172.54, 3701.35, 3518.09, 3456.61, 3249.38, 2840.82, 3891.45, 3075.26, 2317.64, 3219.08]\n",
        "promedio = sum(lista_gastos) / len(lista_gastos)\n",
        "print(promedio)"
      ],
      "metadata": {
        "colab": {
          "base_uri": "https://localhost:8080/"
        },
        "id": "RYVQPG16xnEU",
        "outputId": "062b350d-ff1c-40d8-a380-4728561932a5"
      },
      "execution_count": null,
      "outputs": [
        {
          "output_type": "stream",
          "name": "stdout",
          "text": [
            "3144.222\n"
          ]
        }
      ]
    },
    {
      "cell_type": "markdown",
      "source": [
        "### Ejercicio 2"
      ],
      "metadata": {
        "id": "aUKFH75yv41b"
      }
    },
    {
      "cell_type": "markdown",
      "source": [
        "Con los mismos datos de la pregunta anterior, determina cuántas compras se realizaron por encima de 3000 reales y calcula el porcentaje con respecto al total de compras."
      ],
      "metadata": {
        "id": "4KiN1N5dwqrM"
      }
    },
    {
      "cell_type": "code",
      "source": [
        "lista_gastos = [2172.54, 3701.35, 3518.09, 3456.61, 3249.38, 2840.82, 3891.45, 3075.26, 2317.64, 3219.08]\n",
        "contador = 0\n",
        "for i in lista_gastos:\n",
        "    if i > 3000:\n",
        "        contador += 1\n",
        "porcentaje = (contador / len(lista_gastos)) * 100\n",
        "print(porcentaje)"
      ],
      "metadata": {
        "colab": {
          "base_uri": "https://localhost:8080/"
        },
        "id": "7VQD9UvEx31E",
        "outputId": "4d1cb558-a1f5-4cb8-efe1-687eeb266d0b"
      },
      "execution_count": null,
      "outputs": [
        {
          "output_type": "stream",
          "name": "stdout",
          "text": [
            "70.0\n"
          ]
        }
      ]
    },
    {
      "cell_type": "markdown",
      "source": [
        "### Ejercicio 3"
      ],
      "metadata": {
        "id": "o6wJkFQlwC6z"
      }
    },
    {
      "cell_type": "markdown",
      "source": [
        "Crea un código que recoja en una lista 5 números enteros aleatorios e imprima la lista. Ejemplo: [1, 4, 7, 2, 4]."
      ],
      "metadata": {
        "id": "e_D4XzOawtCr"
      }
    },
    {
      "cell_type": "code",
      "source": [
        "lista_numeros = []\n",
        "for i in range(5):\n",
        "    numero = int(input(\"Ingrese un número: \"))\n",
        "    lista_numeros.append(numero)\n",
        "print(f\"Tu lista de números es: {lista_numeros}\")"
      ],
      "metadata": {
        "colab": {
          "base_uri": "https://localhost:8080/"
        },
        "id": "KI62UGuiyYp0",
        "outputId": "6d573bc9-c622-467f-f589-dffea2b30b47"
      },
      "execution_count": null,
      "outputs": [
        {
          "output_type": "stream",
          "name": "stdout",
          "text": [
            "Ingrese un número: 1\n",
            "Ingrese un número: 4\n",
            "Ingrese un número: 7\n",
            "Ingrese un número: 2\n",
            "Ingrese un número: 4\n",
            "Tu lista de números es: [1, 4, 7, 2, 4]\n"
          ]
        }
      ]
    },
    {
      "cell_type": "markdown",
      "source": [
        "### Ejercicio 4"
      ],
      "metadata": {
        "id": "Re56f2j-wEgU"
      }
    },
    {
      "cell_type": "markdown",
      "source": [
        "Recoge nuevamente 5 números enteros e imprime la lista en orden inverso al enviado."
      ],
      "metadata": {
        "id": "whUmGPS_wvMc"
      }
    },
    {
      "cell_type": "code",
      "source": [
        "lista_numeros = []\n",
        "for i in range(5):\n",
        "    numero = int(input(\"Ingrese un número: \"))\n",
        "    lista_numeros.append(numero)\n",
        "lista_numeros.reverse()\n",
        "print(f\"Tu lista de números es: {lista_numeros}\")"
      ],
      "metadata": {
        "colab": {
          "base_uri": "https://localhost:8080/"
        },
        "id": "O1VLCBDpy7Y0",
        "outputId": "0c9a7568-ee63-4cb0-bad4-ab7a741fb9af"
      },
      "execution_count": null,
      "outputs": [
        {
          "output_type": "stream",
          "name": "stdout",
          "text": [
            "Ingrese un número: 1\n",
            "Ingrese un número: 4\n",
            "Ingrese un número: 7\n",
            "Ingrese un número: 2\n",
            "Ingrese un número: 4\n",
            "Tu lista de números es: [4, 2, 7, 4, 1]\n"
          ]
        }
      ]
    },
    {
      "cell_type": "markdown",
      "source": [
        "### Ejercicio 5"
      ],
      "metadata": {
        "id": "7jZHPknxwGwb"
      }
    },
    {
      "cell_type": "markdown",
      "source": [
        "Crea un programa que, al ingresar un número cualquiera, genere una lista que contenga todos los números primos entre 1 y el número ingresado."
      ],
      "metadata": {
        "id": "wrxIu6zzwxKr"
      }
    },
    {
      "cell_type": "code",
      "source": [
        "numero = int(input(\"Ingrese un número: \"))\n",
        "lista_primos = []\n",
        "\n",
        "if numero < 1:\n",
        "    print(\"El número ingresado no es válido\")\n",
        "else:\n",
        "    for i in range(2, numero + 1):\n",
        "        es_primo = True\n",
        "        if i < 2:\n",
        "            es_primo = False\n",
        "        else:\n",
        "            for j in range(2, i):\n",
        "                if i % j == 0:\n",
        "                    es_primo = False\n",
        "                    break\n",
        "        if es_primo:\n",
        "            lista_primos.append(i)\n",
        "print(lista_primos)"
      ],
      "metadata": {
        "colab": {
          "base_uri": "https://localhost:8080/"
        },
        "id": "nVWyXdVZ0ZMF",
        "outputId": "8eb8f38e-0054-4d77-8d0a-a3fa8190d6f1"
      },
      "execution_count": null,
      "outputs": [
        {
          "output_type": "stream",
          "name": "stdout",
          "text": [
            "Ingrese un número: 15\n",
            "[2, 3, 5, 7, 11, 13]\n"
          ]
        }
      ]
    },
    {
      "cell_type": "markdown",
      "source": [
        "### Ejercicio 6"
      ],
      "metadata": {
        "id": "ZUk3WgH7wHt7"
      }
    },
    {
      "cell_type": "markdown",
      "source": [
        "Escribe un programa que pida una fecha, especificando el día, mes y año, y determine si es válida para su análisis."
      ],
      "metadata": {
        "id": "uYhwrvDpwzYT"
      }
    },
    {
      "cell_type": "code",
      "source": [
        "dia = int(input(\"Ingrese el día: \"))\n",
        "mes = int(input(\"Ingrese el mes: \"))\n",
        "año = int(input(\"Ingrese el año: \"))\n",
        "\n",
        "if mes == 1 or mes == 3 or mes == 5 or mes == 7 or mes == 8 or mes == 10 or mes == 12:\n",
        "    if dia >= 1 and dia <= 31:\n",
        "        print(\"La fecha es válida\")\n",
        "    else:\n",
        "        print(\"La fecha no es válida\")\n",
        "elif mes == 4 or mes == 6 or mes == 9 or mes == 11:\n",
        "    if dia >= 1 and dia <= 30:\n",
        "        print(\"La fecha es válida\")\n",
        "    else:\n",
        "        print(\"La fecha no es válida\")\n",
        "else:\n",
        "    # Calculamos si es un año bisiesto\n",
        "    if (año % 4 == 0 and año % 100 != 0) or (año % 400 == 0):\n",
        "        if dia >= 1 and dia <= 29:\n",
        "            print(\"La fecha es válida\")\n",
        "        else:\n",
        "            print(\"La fecha no es válida\")\n",
        "    else:\n",
        "        if dia >= 1 and dia <= 28:\n",
        "            print(\"La fecha es válida\")\n",
        "        else:\n",
        "            print(\"La fecha no es válida\")"
      ],
      "metadata": {
        "colab": {
          "base_uri": "https://localhost:8080/"
        },
        "id": "6kNYHHcn3guG",
        "outputId": "05204af2-b0cf-40c0-bdf9-35495814573c"
      },
      "execution_count": null,
      "outputs": [
        {
          "output_type": "stream",
          "name": "stdout",
          "text": [
            "Ingrese el día: 29\n",
            "Ingrese el mes: 2\n",
            "Ingrese el año: 2024\n",
            "La fecha es válida\n"
          ]
        }
      ]
    },
    {
      "cell_type": "markdown",
      "source": [
        "## Momento para los proyectos"
      ],
      "metadata": {
        "id": "ARQIIMtCwQ_M"
      }
    },
    {
      "cell_type": "markdown",
      "source": [
        "### Ejercicio 7"
      ],
      "metadata": {
        "id": "kNuMYaW-wInr"
      }
    },
    {
      "cell_type": "markdown",
      "source": [
        "Para un estudio sobre la multiplicación de bacterias en una colonia, se recopiló el número de bacterias multiplicadas por día y se puede observar a continuación: [1.2, 2.1, 3.3, 5.0, 7.8, 11.3, 16.6, 25.1, 37.8, 56.9]. Con estos valores, crea un código que genere una lista que contenga el porcentaje de crecimiento de bacterias por día, comparando el número de bacterias en cada día con el número de bacterias del día anterior. Sugerencia: para calcular el porcentaje de crecimiento, utiliza la siguiente ecuación: `100 * (muestra_actual - muestra_anterior) / muestra_anterior`."
      ],
      "metadata": {
        "id": "9I-bFY0P5X8v"
      }
    },
    {
      "cell_type": "code",
      "source": [
        "bacterias = [1.2, 2.1, 3.3, 5.0, 7.8, 11.3, 16.6, 25.1, 37.8, 56.9]\n",
        "porcentaje_crecimiento = []\n",
        "\n",
        "for i in range(len(bacterias) - 1):\n",
        "    porcentaje = 100 * (bacterias[i + 1] - bacterias[i]) / bacterias[i]\n",
        "    porcentaje_crecimiento.append(porcentaje)\n",
        "print(f\"Lista de porcentajes de crecimiento de bacterias por día:\\n{porcentaje_crecimiento}\")"
      ],
      "metadata": {
        "colab": {
          "base_uri": "https://localhost:8080/"
        },
        "id": "ezh1lEaD6yfQ",
        "outputId": "01af6d32-2ae7-4be3-9ca9-cbc5b704af35"
      },
      "execution_count": null,
      "outputs": [
        {
          "output_type": "stream",
          "name": "stdout",
          "text": [
            "Lista de porcentajes de crecimiento de bacterias por día:\n",
            "[75.00000000000001, 57.142857142857125, 51.51515151515153, 56.0, 44.87179487179489, 46.90265486725664, 51.20481927710843, 50.59760956175297, 50.52910052910054]\n"
          ]
        }
      ]
    },
    {
      "cell_type": "markdown",
      "source": [
        "### Ejercicio 8"
      ],
      "metadata": {
        "id": "BmGaF776wJgL"
      }
    },
    {
      "cell_type": "markdown",
      "source": [
        "Para una selección de productos alimenticios, debemos separar el conjunto de IDs proporcionados por números enteros, sabiendo que los productos con ID par son dulces y los que tienen ID impar son amargos. Crea un código que recoja 10 IDs. Luego, calcula y muestra la cantidad de productos dulces y amargos."
      ],
      "metadata": {
        "id": "dsQER6y55apn"
      }
    },
    {
      "cell_type": "code",
      "source": [
        "lista_ids = []\n",
        "for i in range(10):\n",
        "    id = int(input(\"Ingrese un ID: \"))\n",
        "    lista_ids.append(id)\n",
        "\n",
        "contador_par = 0\n",
        "contador_impar = 0\n",
        "for i in lista_ids:\n",
        "    if i % 2 == 0:\n",
        "        contador_par += 1\n",
        "    else:\n",
        "        contador_impar += 1\n",
        "\n",
        "print(f\"La cantidad de productos dulces es: {contador_par}\")\n",
        "print(f\"La cantidad de productos amargos es: {contador_impar}\")"
      ],
      "metadata": {
        "colab": {
          "base_uri": "https://localhost:8080/"
        },
        "id": "BXWe8Bbj9YD5",
        "outputId": "64feec0c-9142-4952-d7a1-b2bf8b2c88d0"
      },
      "execution_count": null,
      "outputs": [
        {
          "output_type": "stream",
          "name": "stdout",
          "text": [
            "Ingrese un ID: 123123\n",
            "Ingrese un ID: 122222\n",
            "Ingrese un ID: -23331\n",
            "Ingrese un ID: -12355576\n",
            "Ingrese un ID: 985345\n",
            "Ingrese un ID: 099230\n",
            "Ingrese un ID: 123126\n",
            "Ingrese un ID: 456456\n",
            "Ingrese un ID: 456789\n",
            "Ingrese un ID: 987123\n",
            "La cantidad de productos dulces es: 5\n",
            "La cantidad de productos amargos es: 5\n"
          ]
        }
      ]
    },
    {
      "cell_type": "markdown",
      "source": [
        "### Ejercicio 9"
      ],
      "metadata": {
        "id": "BlqfD1BzwKYz"
      }
    },
    {
      "cell_type": "markdown",
      "source": [
        "Desarrolla un programa que informe la puntuación de un estudiante de acuerdo con sus respuestas. Debe pedir la respuesta del estudiante para cada pregunta y verificar si la respuesta coincide con el resultado. Cada pregunta vale un punto y hay opciones A, B, C o D.\n",
        "\n",
        "```\n",
        "Resultado del examen:\n",
        "01 - D\n",
        "02 - A\n",
        "03 - C\n",
        "04 - B\n",
        "05 - A\n",
        "06 - D\n",
        "07 - C\n",
        "08 - C\n",
        "09 - A\n",
        "10 - B\n",
        "```"
      ],
      "metadata": {
        "id": "dgkcV-nR5cm_"
      }
    },
    {
      "cell_type": "code",
      "source": [
        "respuestas_estudiante = []\n",
        "respuestas_correctas = [\"D\", \"A\", \"C\", \"B\", \"A\", \"D\", \"C\", \"C\", \"A\", \"B\"]\n",
        "puntuacion = 0\n",
        "\n",
        "for i in range(len(respuestas_correctas)):\n",
        "    respuesta = input(f\"Ingrese una respuesta (A, B, C o D) para la pregunta {i + 1}: \")\n",
        "    respuestas_estudiante.append(respuesta)\n",
        "    if respuesta == respuestas_correctas[i]:\n",
        "        puntuacion += 1\n",
        "print(f\"La puntuación del estudiante es: {puntuacion}\")"
      ],
      "metadata": {
        "colab": {
          "base_uri": "https://localhost:8080/"
        },
        "id": "3nUw3A4T-mpA",
        "outputId": "d718bc92-6e64-480b-a9f5-f92f780fde8c"
      },
      "execution_count": null,
      "outputs": [
        {
          "output_type": "stream",
          "name": "stdout",
          "text": [
            "Ingrese una respuesta (A, B, C o D) para la pregunta 1: A\n",
            "Ingrese una respuesta (A, B, C o D) para la pregunta 2: A\n",
            "Ingrese una respuesta (A, B, C o D) para la pregunta 3: C\n",
            "Ingrese una respuesta (A, B, C o D) para la pregunta 4: B\n",
            "Ingrese una respuesta (A, B, C o D) para la pregunta 5: D\n",
            "Ingrese una respuesta (A, B, C o D) para la pregunta 6: D\n",
            "Ingrese una respuesta (A, B, C o D) para la pregunta 7: C\n",
            "Ingrese una respuesta (A, B, C o D) para la pregunta 8: A\n",
            "Ingrese una respuesta (A, B, C o D) para la pregunta 9: B\n",
            "Ingrese una respuesta (A, B, C o D) para la pregunta 10: B\n",
            "La puntuación del estudiante es: 6\n"
          ]
        }
      ]
    },
    {
      "cell_type": "markdown",
      "source": [
        "### Ejercicio 10"
      ],
      "metadata": {
        "id": "btQEFMIhwfkM"
      }
    },
    {
      "cell_type": "markdown",
      "source": [
        "Un instituto de meteorología desea realizar un estudio de la temperatura media de cada mes del año. Para ello, debes crear un código que recoja y almacene esas temperaturas medias en una lista. Luego, calcula el promedio anual de las temperaturas y muestra todas las temperaturas por encima del promedio anual y en qué mes ocurrieron, mostrando los meses por su nombre (Enero, Febrero, etc.)."
      ],
      "metadata": {
        "id": "xztUWLwX5qmX"
      }
    },
    {
      "cell_type": "markdown",
      "source": [
        "### Ejercicio 11"
      ],
      "metadata": {
        "id": "RjxhvdLWwglM"
      }
    },
    {
      "cell_type": "markdown",
      "source": [
        "Una empresa de comercio electrónico está interesada en analizar las ventas de sus productos. Los datos de ventas se han almacenado en un diccionario:\n",
        "\n",
        "```\n",
        "{'Producto A': 300, 'Producto B': 80, 'Producto C': 60, 'Producto D': 200, 'Producto E': 250, 'Producto F': 30}\n",
        "```\n",
        "Escribe un código que calcule el total de ventas y el producto más vendido.\n"
      ],
      "metadata": {
        "id": "4EEZn9lj5x1P"
      }
    },
    {
      "cell_type": "markdown",
      "source": [
        "### Ejercicio 12"
      ],
      "metadata": {
        "id": "eSqxVngRwhgr"
      }
    },
    {
      "cell_type": "markdown",
      "source": [
        "Se realizó una encuesta de mercado para decidir cuál diseño de marca infantil es más atractivo para los niños. Los votos de la encuesta se pueden ver a continuación:\n",
        "\n",
        "```\n",
        "Tabla de votos de la marca\n",
        "Diseño 1 - 1334 votos\n",
        "Diseño 2 - 982 votos\n",
        "Diseño 3 - 1751 votos\n",
        "Diseño 4 - 210 votos\n",
        "Diseño 5 - 1811 votos\n",
        "```\n",
        "Adapta los datos proporcionados a una estructura de diccionario. A partir de ello, informa el diseño ganador y el porcentaje de votos recibidos."
      ],
      "metadata": {
        "id": "nzTKqC7955D_"
      }
    },
    {
      "cell_type": "markdown",
      "source": [
        "### Ejercicio 13"
      ],
      "metadata": {
        "id": "bPghSMHVwkuz"
      }
    },
    {
      "cell_type": "markdown",
      "source": [
        "Los empleados de un departamento de tu empresa recibirán una bonificación del 10% de su salario debido a un excelente rendimiento del equipo. El departamento de finanzas ha solicitado tu ayuda para verificar las consecuencias financieras de esta bonificación en los recursos. Se te ha enviado una lista con los salarios que recibirán la bonificación: [1172, 1644, 2617, 5130, 5532, 6341, 6650, 7238, 7685, 7782, 7903]. La bonificación de cada empleado no puede ser inferior a 200. En el código, convierte cada uno de los salarios en claves de un diccionario y la bonificación de cada salario en el valor correspondiente. Luego, informa el gasto total en bonificaciones, cuántos empleados recibieron la bonificación mínima y cuál fue el valor más alto de la bonificación proporcionada."
      ],
      "metadata": {
        "id": "Gle1chf46AEP"
      }
    },
    {
      "cell_type": "markdown",
      "source": [
        "### Ejercicio 14"
      ],
      "metadata": {
        "id": "OTO7cf67wmFj"
      }
    },
    {
      "cell_type": "markdown",
      "source": [
        "Un equipo de científicos de datos está estudiando la diversidad biológica en un bosque. El equipo recopiló información sobre el número de especies de plantas y animales en cada área del bosque y almacenó estos datos en un diccionario. En él, la clave describe el área de los datos y los valores en las listas corresponden a las especies de plantas y animales en esas áreas, respectivamente.\n",
        "\n",
        "```\n",
        "{'Área Norte': [2819, 7236], 'Área Leste': [1440, 9492], 'Área Sul': [5969, 7496], 'Área Oeste': [14446, 49688], 'Área Centro': [22558, 45148]}\n",
        "```\n",
        "Escribe un código para calcular el promedio de especies por área e identificar el área con la mayor diversidad biológica. Sugerencia: utiliza las funciones incorporadas `sum()` y `len()`."
      ],
      "metadata": {
        "id": "BMpnmWp56DcP"
      }
    },
    {
      "cell_type": "markdown",
      "source": [
        "### Ejercicio 15"
      ],
      "metadata": {
        "id": "Fhw_H8ZdwnCM"
      }
    },
    {
      "cell_type": "markdown",
      "source": [
        "El departamento de Recursos Humanos de tu empresa te pidió ayuda para analizar las edades de los colaboradores de 4 sectores de la empresa. Para ello, te proporcionaron los siguientes datos:\n",
        "\n",
        "```\n",
        "{'Setor A': [22, 26, 30, 30, 35, 38, 40, 56, 57, 65],\n",
        " 'Setor B': [22, 24, 26, 33, 41, 49, 50, 54, 60, 64],\n",
        " 'Setor C': [23, 26, 26, 29, 34, 35, 36, 41, 52, 56],\n",
        " 'Setor D': [19, 20, 25, 27, 34, 39, 42, 44, 50, 65]}\n",
        "```\n",
        "Dado que cada sector tiene 10 colaboradores, construye un código que calcule la media de edad de cada sector, la edad media general entre todos los sectores y cuántas personas están por encima de la edad media general."
      ],
      "metadata": {
        "id": "LXaQAUjy6LRf"
      }
    }
  ]
}