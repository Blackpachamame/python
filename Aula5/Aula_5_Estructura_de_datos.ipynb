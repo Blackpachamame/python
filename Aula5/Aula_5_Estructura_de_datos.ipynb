{
  "cells": [
    {
      "cell_type": "markdown",
      "metadata": {},
      "source": [
        "[![Open in Colab](https://colab.research.google.com/assets/colab-badge.svg)](https://colab.research.google.com/github/Blackpachamame/python/blob/main/Aula5/Aula_5_Estructura_de_datos.ipynb)"
      ]
    },
    {
      "cell_type": "markdown",
      "metadata": {
        "id": "9_QFfK0Svonk"
      },
      "source": [
        "# Aula 5: Estructura de datos"
      ]
    },
    {
      "cell_type": "markdown",
      "metadata": {
        "id": "lJEdsbnWvsm7"
      },
      "source": [
        "Vamos practicar el uso de estructuras de datos, como listas y diccionarios, a través de algunas actividades. Ahora que estamos avanzando en el contenido, podemos hacer los desafíos más interesantes. ¡Para ello, trabajaremos con proyectos de código!"
      ]
    },
    {
      "cell_type": "markdown",
      "metadata": {
        "id": "JH3234Juvv0r"
      },
      "source": [
        "## Entrenando la programación"
      ]
    },
    {
      "cell_type": "markdown",
      "metadata": {
        "id": "2CkthYWvwY8r"
      },
      "source": [
        "### Ejercicio 1"
      ]
    },
    {
      "cell_type": "markdown",
      "metadata": {
        "id": "XMi-DuiTwamj"
      },
      "source": [
        "Crea un programa que tenga la siguiente lista con los gastos de una empresa de papel [2172.54, 3701.35, 3518.09, 3456.61, 3249.38, 2840.82, 3891.45, 3075.26, 2317.64, 3219.08]. Con estos valores, crea un programa que calcule el promedio de gastos. Sugerencia: usa las funciones integradas `sum()` y `len()`."
      ]
    },
    {
      "cell_type": "code",
      "execution_count": null,
      "metadata": {
        "colab": {
          "base_uri": "https://localhost:8080/"
        },
        "id": "RYVQPG16xnEU",
        "outputId": "062b350d-ff1c-40d8-a380-4728561932a5"
      },
      "outputs": [],
      "source": [
        "lista_gastos = [2172.54, 3701.35, 3518.09, 3456.61, 3249.38, 2840.82, 3891.45, 3075.26, 2317.64, 3219.08]\n",
        "promedio = sum(lista_gastos) / len(lista_gastos)\n",
        "print(promedio)"
      ]
    },
    {
      "cell_type": "markdown",
      "metadata": {
        "id": "aUKFH75yv41b"
      },
      "source": [
        "### Ejercicio 2"
      ]
    },
    {
      "cell_type": "markdown",
      "metadata": {
        "id": "4KiN1N5dwqrM"
      },
      "source": [
        "Con los mismos datos de la pregunta anterior, determina cuántas compras se realizaron por encima de 3000 reales y calcula el porcentaje con respecto al total de compras."
      ]
    },
    {
      "cell_type": "code",
      "execution_count": null,
      "metadata": {
        "colab": {
          "base_uri": "https://localhost:8080/"
        },
        "id": "7VQD9UvEx31E",
        "outputId": "4d1cb558-a1f5-4cb8-efe1-687eeb266d0b"
      },
      "outputs": [],
      "source": [
        "lista_gastos = [2172.54, 3701.35, 3518.09, 3456.61, 3249.38, 2840.82, 3891.45, 3075.26, 2317.64, 3219.08]\n",
        "contador = 0\n",
        "for i in lista_gastos:\n",
        "    if i > 3000:\n",
        "        contador += 1\n",
        "porcentaje = (contador / len(lista_gastos)) * 100\n",
        "print(porcentaje)"
      ]
    },
    {
      "cell_type": "markdown",
      "metadata": {
        "id": "o6wJkFQlwC6z"
      },
      "source": [
        "### Ejercicio 3"
      ]
    },
    {
      "cell_type": "markdown",
      "metadata": {
        "id": "e_D4XzOawtCr"
      },
      "source": [
        "Crea un código que recoja en una lista 5 números enteros aleatorios e imprima la lista. Ejemplo: [1, 4, 7, 2, 4]."
      ]
    },
    {
      "cell_type": "code",
      "execution_count": null,
      "metadata": {
        "colab": {
          "base_uri": "https://localhost:8080/"
        },
        "id": "KI62UGuiyYp0",
        "outputId": "6d573bc9-c622-467f-f589-dffea2b30b47"
      },
      "outputs": [],
      "source": [
        "lista_numeros = []\n",
        "for i in range(5):\n",
        "    numero = int(input(\"Ingrese un número: \"))\n",
        "    lista_numeros.append(numero)\n",
        "print(f\"Tu lista de números es: {lista_numeros}\")"
      ]
    },
    {
      "cell_type": "markdown",
      "metadata": {
        "id": "Re56f2j-wEgU"
      },
      "source": [
        "### Ejercicio 4"
      ]
    },
    {
      "cell_type": "markdown",
      "metadata": {
        "id": "whUmGPS_wvMc"
      },
      "source": [
        "Recoge nuevamente 5 números enteros e imprime la lista en orden inverso al enviado."
      ]
    },
    {
      "cell_type": "code",
      "execution_count": null,
      "metadata": {
        "colab": {
          "base_uri": "https://localhost:8080/"
        },
        "id": "O1VLCBDpy7Y0",
        "outputId": "0c9a7568-ee63-4cb0-bad4-ab7a741fb9af"
      },
      "outputs": [],
      "source": [
        "lista_numeros = []\n",
        "for i in range(5):\n",
        "    numero = int(input(\"Ingrese un número: \"))\n",
        "    lista_numeros.append(numero)\n",
        "lista_numeros.reverse()\n",
        "print(f\"Tu lista de números es: {lista_numeros}\")"
      ]
    },
    {
      "cell_type": "markdown",
      "metadata": {
        "id": "7jZHPknxwGwb"
      },
      "source": [
        "### Ejercicio 5"
      ]
    },
    {
      "cell_type": "markdown",
      "metadata": {
        "id": "wrxIu6zzwxKr"
      },
      "source": [
        "Crea un programa que, al ingresar un número cualquiera, genere una lista que contenga todos los números primos entre 1 y el número ingresado."
      ]
    },
    {
      "cell_type": "code",
      "execution_count": null,
      "metadata": {
        "colab": {
          "base_uri": "https://localhost:8080/"
        },
        "id": "nVWyXdVZ0ZMF",
        "outputId": "8eb8f38e-0054-4d77-8d0a-a3fa8190d6f1"
      },
      "outputs": [],
      "source": [
        "numero = int(input(\"Ingrese un número: \"))\n",
        "lista_primos = []\n",
        "\n",
        "if numero < 1:\n",
        "    print(\"El número ingresado no es válido\")\n",
        "else:\n",
        "    for i in range(2, numero + 1):\n",
        "        es_primo = True\n",
        "        if i < 2:\n",
        "            es_primo = False\n",
        "        else:\n",
        "            for j in range(2, i):\n",
        "                if i % j == 0:\n",
        "                    es_primo = False\n",
        "                    break\n",
        "        if es_primo:\n",
        "            lista_primos.append(i)\n",
        "print(lista_primos)"
      ]
    },
    {
      "cell_type": "markdown",
      "metadata": {
        "id": "ZUk3WgH7wHt7"
      },
      "source": [
        "### Ejercicio 6"
      ]
    },
    {
      "cell_type": "markdown",
      "metadata": {
        "id": "uYhwrvDpwzYT"
      },
      "source": [
        "Escribe un programa que pida una fecha, especificando el día, mes y año, y determine si es válida para su análisis."
      ]
    },
    {
      "cell_type": "code",
      "execution_count": null,
      "metadata": {
        "colab": {
          "base_uri": "https://localhost:8080/"
        },
        "id": "6kNYHHcn3guG",
        "outputId": "05204af2-b0cf-40c0-bdf9-35495814573c"
      },
      "outputs": [],
      "source": [
        "dia = int(input(\"Ingrese el día: \"))\n",
        "mes = int(input(\"Ingrese el mes: \"))\n",
        "año = int(input(\"Ingrese el año: \"))\n",
        "\n",
        "if mes == 1 or mes == 3 or mes == 5 or mes == 7 or mes == 8 or mes == 10 or mes == 12:\n",
        "    if dia >= 1 and dia <= 31:\n",
        "        print(\"La fecha es válida\")\n",
        "    else:\n",
        "        print(\"La fecha no es válida\")\n",
        "elif mes == 4 or mes == 6 or mes == 9 or mes == 11:\n",
        "    if dia >= 1 and dia <= 30:\n",
        "        print(\"La fecha es válida\")\n",
        "    else:\n",
        "        print(\"La fecha no es válida\")\n",
        "else:\n",
        "    # Calculamos si es un año bisiesto\n",
        "    if (año % 4 == 0 and año % 100 != 0) or (año % 400 == 0):\n",
        "        if dia >= 1 and dia <= 29:\n",
        "            print(\"La fecha es válida\")\n",
        "        else:\n",
        "            print(\"La fecha no es válida\")\n",
        "    else:\n",
        "        if dia >= 1 and dia <= 28:\n",
        "            print(\"La fecha es válida\")\n",
        "        else:\n",
        "            print(\"La fecha no es válida\")"
      ]
    },
    {
      "cell_type": "markdown",
      "metadata": {
        "id": "ARQIIMtCwQ_M"
      },
      "source": [
        "## Momento para los proyectos"
      ]
    },
    {
      "cell_type": "markdown",
      "metadata": {
        "id": "kNuMYaW-wInr"
      },
      "source": [
        "### Ejercicio 7"
      ]
    },
    {
      "cell_type": "markdown",
      "metadata": {
        "id": "9I-bFY0P5X8v"
      },
      "source": [
        "Para un estudio sobre la multiplicación de bacterias en una colonia, se recopiló el número de bacterias multiplicadas por día y se puede observar a continuación: [1.2, 2.1, 3.3, 5.0, 7.8, 11.3, 16.6, 25.1, 37.8, 56.9]. Con estos valores, crea un código que genere una lista que contenga el porcentaje de crecimiento de bacterias por día, comparando el número de bacterias en cada día con el número de bacterias del día anterior. Sugerencia: para calcular el porcentaje de crecimiento, utiliza la siguiente ecuación: `100 * (muestra_actual - muestra_anterior) / muestra_anterior`."
      ]
    },
    {
      "cell_type": "code",
      "execution_count": null,
      "metadata": {
        "colab": {
          "base_uri": "https://localhost:8080/"
        },
        "id": "ezh1lEaD6yfQ",
        "outputId": "01af6d32-2ae7-4be3-9ca9-cbc5b704af35"
      },
      "outputs": [],
      "source": [
        "bacterias = [1.2, 2.1, 3.3, 5.0, 7.8, 11.3, 16.6, 25.1, 37.8, 56.9]\n",
        "porcentaje_crecimiento = []\n",
        "\n",
        "for i in range(len(bacterias) - 1):\n",
        "    porcentaje = 100 * (bacterias[i + 1] - bacterias[i]) / bacterias[i]\n",
        "    porcentaje_crecimiento.append(porcentaje)\n",
        "print(f\"Lista de porcentajes de crecimiento de bacterias por día:\\n{porcentaje_crecimiento}\")"
      ]
    },
    {
      "cell_type": "markdown",
      "metadata": {
        "id": "BmGaF776wJgL"
      },
      "source": [
        "### Ejercicio 8"
      ]
    },
    {
      "cell_type": "markdown",
      "metadata": {
        "id": "dsQER6y55apn"
      },
      "source": [
        "Para una selección de productos alimenticios, debemos separar el conjunto de IDs proporcionados por números enteros, sabiendo que los productos con ID par son dulces y los que tienen ID impar son amargos. Crea un código que recoja 10 IDs. Luego, calcula y muestra la cantidad de productos dulces y amargos."
      ]
    },
    {
      "cell_type": "code",
      "execution_count": null,
      "metadata": {
        "colab": {
          "base_uri": "https://localhost:8080/"
        },
        "id": "BXWe8Bbj9YD5",
        "outputId": "64feec0c-9142-4952-d7a1-b2bf8b2c88d0"
      },
      "outputs": [],
      "source": [
        "lista_ids = []\n",
        "for i in range(10):\n",
        "    id = int(input(\"Ingrese un ID: \"))\n",
        "    lista_ids.append(id)\n",
        "\n",
        "contador_par = 0\n",
        "contador_impar = 0\n",
        "for i in lista_ids:\n",
        "    if i % 2 == 0:\n",
        "        contador_par += 1\n",
        "    else:\n",
        "        contador_impar += 1\n",
        "\n",
        "print(f\"La cantidad de productos dulces es: {contador_par}\")\n",
        "print(f\"La cantidad de productos amargos es: {contador_impar}\")"
      ]
    },
    {
      "cell_type": "markdown",
      "metadata": {
        "id": "BlqfD1BzwKYz"
      },
      "source": [
        "### Ejercicio 9"
      ]
    },
    {
      "cell_type": "markdown",
      "metadata": {
        "id": "dgkcV-nR5cm_"
      },
      "source": [
        "Desarrolla un programa que informe la puntuación de un estudiante de acuerdo con sus respuestas. Debe pedir la respuesta del estudiante para cada pregunta y verificar si la respuesta coincide con el resultado. Cada pregunta vale un punto y hay opciones A, B, C o D.\n",
        "\n",
        "```\n",
        "Resultado del examen:\n",
        "01 - D\n",
        "02 - A\n",
        "03 - C\n",
        "04 - B\n",
        "05 - A\n",
        "06 - D\n",
        "07 - C\n",
        "08 - C\n",
        "09 - A\n",
        "10 - B\n",
        "```"
      ]
    },
    {
      "cell_type": "code",
      "execution_count": null,
      "metadata": {
        "colab": {
          "base_uri": "https://localhost:8080/"
        },
        "id": "3nUw3A4T-mpA",
        "outputId": "d718bc92-6e64-480b-a9f5-f92f780fde8c"
      },
      "outputs": [],
      "source": [
        "respuestas_estudiante = []\n",
        "respuestas_correctas = [\"D\", \"A\", \"C\", \"B\", \"A\", \"D\", \"C\", \"C\", \"A\", \"B\"]\n",
        "puntuacion = 0\n",
        "\n",
        "for i in range(len(respuestas_correctas)):\n",
        "    respuesta = input(f\"Ingrese una respuesta (A, B, C o D) para la pregunta {i + 1}: \")\n",
        "    respuestas_estudiante.append(respuesta)\n",
        "    if respuesta == respuestas_correctas[i]:\n",
        "        puntuacion += 1\n",
        "print(f\"La puntuación del estudiante es: {puntuacion}\")"
      ]
    },
    {
      "cell_type": "markdown",
      "metadata": {
        "id": "btQEFMIhwfkM"
      },
      "source": [
        "### Ejercicio 10"
      ]
    },
    {
      "cell_type": "markdown",
      "metadata": {
        "id": "xztUWLwX5qmX"
      },
      "source": [
        "Un instituto de meteorología desea realizar un estudio de la temperatura media de cada mes del año. Para ello, debes crear un código que recoja y almacene esas temperaturas medias en una lista. Luego, calcula el promedio anual de las temperaturas y muestra todas las temperaturas por encima del promedio anual y en qué mes ocurrieron, mostrando los meses por su nombre (Enero, Febrero, etc.)."
      ]
    },
    {
      "cell_type": "code",
      "execution_count": null,
      "metadata": {
        "colab": {
          "base_uri": "https://localhost:8080/"
        },
        "id": "6lALDs1xJ2L2",
        "outputId": "d31917a8-b8d3-4126-8e57-58fefd9f738c"
      },
      "outputs": [],
      "source": [
        "temperaturas = []\n",
        "meses = [\"Enero\", \"Febrero\", \"Marzo\", \"Abril\", \"Mayo\", \"Junio\", \"Julio\", \"Agosto\", \"Septiembre\", \"Octubre\", \"Noviembre\", \"Diciembre\"]\n",
        "\n",
        "for i in range(len(meses)):\n",
        "    temperatura = float(input(f\"Ingrese la temperatura media de {meses[i]}: \"))\n",
        "    temperaturas.append(temperatura)\n",
        "\n",
        "promedio_anual = sum(temperaturas) / len(temperaturas)\n",
        "print(f\"El promedio anual de las temperaturas es: {promedio_anual}\")\n",
        "print(\"Temperaturas por encima del promedio en: \")\n",
        "for i in range(len(temperaturas)):\n",
        "    if temperaturas[i] > promedio_anual:\n",
        "        print(f\"- {meses[i]}: {temperaturas[i]}°\")"
      ]
    },
    {
      "cell_type": "markdown",
      "metadata": {
        "id": "RjxhvdLWwglM"
      },
      "source": [
        "### Ejercicio 11"
      ]
    },
    {
      "cell_type": "markdown",
      "metadata": {
        "id": "4EEZn9lj5x1P"
      },
      "source": [
        "Una empresa de comercio electrónico está interesada en analizar las ventas de sus productos. Los datos de ventas se han almacenado en un diccionario:\n",
        "\n",
        "```\n",
        "{'Producto A': 300, 'Producto B': 80, 'Producto C': 60, 'Producto D': 200, 'Producto E': 250, 'Producto F': 30}\n",
        "```\n",
        "Escribe un código que calcule el total de ventas y el producto más vendido.\n"
      ]
    },
    {
      "cell_type": "code",
      "execution_count": null,
      "metadata": {
        "colab": {
          "base_uri": "https://localhost:8080/"
        },
        "id": "C7fo_03qNYzQ",
        "outputId": "2c7d5b19-2ae9-4326-9549-a2cd2230b146"
      },
      "outputs": [],
      "source": [
        "ventas = {'Producto A': 300, 'Producto B': 80, 'Producto C': 60, 'Producto D': 200, 'Producto E': 250, 'Producto F': 30}\n",
        "total_ventas = 0\n",
        "producto_mas_vendido = \"\"\n",
        "cantidad_mas_vendida = 0\n",
        "\n",
        "for producto, cantidad in ventas.items():\n",
        "    total_ventas += cantidad\n",
        "    if cantidad > cantidad_mas_vendida:\n",
        "        cantidad_mas_vendida = cantidad\n",
        "        producto_mas_vendido = producto\n",
        "\n",
        "print(f\"El total de ventas es: {total_ventas}\")\n",
        "print(f\"El producto más vendido es: {producto_mas_vendido}\")"
      ]
    },
    {
      "cell_type": "markdown",
      "metadata": {
        "id": "eSqxVngRwhgr"
      },
      "source": [
        "### Ejercicio 12"
      ]
    },
    {
      "cell_type": "markdown",
      "metadata": {
        "id": "nzTKqC7955D_"
      },
      "source": [
        "Se realizó una encuesta de mercado para decidir cuál diseño de marca infantil es más atractivo para los niños. Los votos de la encuesta se pueden ver a continuación:\n",
        "\n",
        "```\n",
        "Tabla de votos de la marca\n",
        "Diseño 1 - 1334 votos\n",
        "Diseño 2 - 982 votos\n",
        "Diseño 3 - 1751 votos\n",
        "Diseño 4 - 210 votos\n",
        "Diseño 5 - 1811 votos\n",
        "```\n",
        "Adapta los datos proporcionados a una estructura de diccionario. A partir de ello, informa el diseño ganador y el porcentaje de votos recibidos."
      ]
    },
    {
      "cell_type": "code",
      "execution_count": null,
      "metadata": {
        "id": "Vej56jvnOVqg"
      },
      "outputs": [],
      "source": [
        "votos = {\"Diseño 1\": 1334, \"Diseño 2\": 982, \"Diseño 3\": 1751, \"Diseño 4\": 210, \"Diseño 5\": 1811}\n",
        "\n",
        "\"\"\" Opción 1\n",
        "total_votos = sum(votos.values())\n",
        "max_votos = max(votos.values())\n",
        "porcentaje = (max_votos / total_votos) * 100\n",
        "\"\"\"\n",
        "\n",
        "total_votos = 0\n",
        "max_votos = 0\n",
        "ganador = \"\"\n",
        "\n",
        "for diseño, votos in votos.items():\n",
        "    total_votos += votos\n",
        "    if votos > max_votos:\n",
        "        max_votos = votos\n",
        "        ganador = diseño\n",
        "\n",
        "porcentaje = (max_votos / total_votos) * 100\n",
        "\n",
        "print(f\"El diseño ganador es: {ganador}\")\n",
        "print(f\"El porcentaje de votos recibidos es: {porcentaje}%\")"
      ]
    },
    {
      "cell_type": "markdown",
      "metadata": {
        "id": "bPghSMHVwkuz"
      },
      "source": [
        "### Ejercicio 13"
      ]
    },
    {
      "cell_type": "markdown",
      "metadata": {
        "id": "Gle1chf46AEP"
      },
      "source": [
        "Los empleados de un departamento de tu empresa recibirán una bonificación del 10% de su salario debido a un excelente rendimiento del equipo. El departamento de finanzas ha solicitado tu ayuda para verificar las consecuencias financieras de esta bonificación en los recursos. Se te ha enviado una lista con los salarios que recibirán la bonificación: [1172, 1644, 2617, 5130, 5532, 6341, 6650, 7238, 7685, 7782, 7903]. La bonificación de cada empleado no puede ser inferior a 200. En el código, convierte cada uno de los salarios en claves de un diccionario y la bonificación de cada salario en el valor correspondiente. Luego, informa el gasto total en bonificaciones, cuántos empleados recibieron la bonificación mínima y cuál fue el valor más alto de la bonificación proporcionada."
      ]
    },
    {
      "cell_type": "code",
      "execution_count": null,
      "metadata": {
        "colab": {
          "base_uri": "https://localhost:8080/"
        },
        "id": "njYTdRGGS90e",
        "outputId": "23b42325-fa57-4774-a48a-f1b4e27ca822"
      },
      "outputs": [],
      "source": [
        "salarios = [1172, 1644, 2617, 5130, 5532, 6341, 6650, 7238, 7685, 7782, 7903]\n",
        "bonificaciones = {}\n",
        "min_bonificacion = 0\n",
        "max_bonificacion = 200\n",
        "\n",
        "for salario in salarios:\n",
        "    if salario * 0.1 < 200:\n",
        "        bonificaciones[salario] = 200\n",
        "        min_bonificacion += 1\n",
        "    else:\n",
        "        bonificaciones[salario] = salario * 0.1\n",
        "        if max_bonificacion < salario * 0.1:\n",
        "            max_bonificacion = salario * 0.1\n",
        "\n",
        "total_bonificaciones = sum(bonificaciones.values())\n",
        "\n",
        "print(f\"Gasto total en bonificaciones: {total_bonificaciones}\")\n",
        "print(f\"Número de empleados que recibieron la bonificación mínima: {min_bonificacion}\")\n",
        "print(f\"Valor más alto de la bonificación proporcionada: {max_bonificacion}\")"
      ]
    },
    {
      "cell_type": "markdown",
      "metadata": {
        "id": "OTO7cf67wmFj"
      },
      "source": [
        "### Ejercicio 14"
      ]
    },
    {
      "cell_type": "markdown",
      "metadata": {
        "id": "BMpnmWp56DcP"
      },
      "source": [
        "Un equipo de científicos de datos está estudiando la diversidad biológica en un bosque. El equipo recopiló información sobre el número de especies de plantas y animales en cada área del bosque y almacenó estos datos en un diccionario. En él, la clave describe el área de los datos y los valores en las listas corresponden a las especies de plantas y animales en esas áreas, respectivamente.\n",
        "\n",
        "```\n",
        "{'Área Norte': [2819, 7236], 'Área Leste': [1440, 9492], 'Área Sul': [5969, 7496], 'Área Oeste': [14446, 49688], 'Área Centro': [22558, 45148]}\n",
        "```\n",
        "Escribe un código para calcular el promedio de especies por área e identificar el área con la mayor diversidad biológica. Sugerencia: utiliza las funciones incorporadas `sum()` y `len()`."
      ]
    },
    {
      "cell_type": "code",
      "execution_count": null,
      "metadata": {
        "colab": {
          "base_uri": "https://localhost:8080/"
        },
        "id": "P02fVt8NhFxK",
        "outputId": "dca482a3-0555-4491-e05f-839b876a2204"
      },
      "outputs": [],
      "source": [
        "datos = {'Área Norte': [2819, 7236], 'Área Leste': [1440, 9492], 'Área Sul': [5969, 7496], 'Área Oeste': [14446, 49688], 'Área Centro': [22558, 45148]}\n",
        "max_diversidad = 0\n",
        "area_max_diversidad = \"\"\n",
        "\n",
        "for area, especies in datos.items():\n",
        "    promedio = sum(especies) / len(especies)\n",
        "    if promedio > max_diversidad:\n",
        "        max_diversidad = promedio\n",
        "        area_max_diversidad = area\n",
        "\n",
        "print(f\"El área con la mayor diversidad biológica es: {area_max_diversidad}\")"
      ]
    },
    {
      "cell_type": "markdown",
      "metadata": {
        "id": "Fhw_H8ZdwnCM"
      },
      "source": [
        "### Ejercicio 15"
      ]
    },
    {
      "cell_type": "markdown",
      "metadata": {
        "id": "LXaQAUjy6LRf"
      },
      "source": [
        "El departamento de Recursos Humanos de tu empresa te pidió ayuda para analizar las edades de los colaboradores de 4 sectores de la empresa. Para ello, te proporcionaron los siguientes datos:\n",
        "\n",
        "```\n",
        "{'Setor A': [22, 26, 30, 30, 35, 38, 40, 56, 57, 65],\n",
        " 'Setor B': [22, 24, 26, 33, 41, 49, 50, 54, 60, 64],\n",
        " 'Setor C': [23, 26, 26, 29, 34, 35, 36, 41, 52, 56],\n",
        " 'Setor D': [19, 20, 25, 27, 34, 39, 42, 44, 50, 65]}\n",
        "```\n",
        "Dado que cada sector tiene 10 colaboradores, construye un código que calcule la media de edad de cada sector, la edad media general entre todos los sectores y cuántas personas están por encima de la edad media general."
      ]
    },
    {
      "cell_type": "code",
      "execution_count": null,
      "metadata": {
        "colab": {
          "base_uri": "https://localhost:8080/"
        },
        "id": "trLIehspu_Jq",
        "outputId": "386fd655-c091-45ce-8037-9c10fd08b53f"
      },
      "outputs": [],
      "source": [
        "colaboradores = {'Setor A': [22, 26, 30, 30, 35, 38, 40, 56, 57, 65],\n",
        "                 'Setor B': [22, 24, 26, 33, 41, 49, 50, 54, 60, 64],\n",
        "                 'Setor C': [23, 26, 26, 29, 34, 35, 36, 41, 52, 56],\n",
        "                 'Setor D': [19, 20, 25, 27, 34, 39, 42, 44, 50, 65]}\n",
        "\n",
        "suma_general = 0\n",
        "\n",
        "for sector, edades in colaboradores.items():\n",
        "    promedio_edad_sector = sum(edades) / len(edades)\n",
        "    print(f\"Promedio de edad del {sector}: {promedio_edad_sector}\")\n",
        "    suma_general += promedio_edad_sector\n",
        "\n",
        "promedio_general = suma_general / len(colaboradores)\n",
        "print(f\"Promedio de edad general: {promedio_general}\")\n",
        "\n",
        "contador = 0\n",
        "for sector, edades in colaboradores.items():\n",
        "    for edad in edades:\n",
        "        if edad > promedio_general:\n",
        "            contador += 1\n",
        "print(f\"Número de personas por encima de la edad promedio general: {contador}\")"
      ]
    }
  ],
  "metadata": {
    "colab": {
      "collapsed_sections": [
        "JH3234Juvv0r"
      ],
      "provenance": []
    },
    "kernelspec": {
      "display_name": "Python 3",
      "name": "python3"
    },
    "language_info": {
      "name": "python"
    }
  },
  "nbformat": 4,
  "nbformat_minor": 0
}
