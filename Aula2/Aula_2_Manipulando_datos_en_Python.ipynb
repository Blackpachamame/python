{
  "nbformat": 4,
  "nbformat_minor": 0,
  "metadata": {
    "colab": {
      "provenance": [],
      "collapsed_sections": [
        "NENV0Z-TbFfc"
      ]
    },
    "kernelspec": {
      "name": "python3",
      "display_name": "Python 3"
    },
    "language_info": {
      "name": "python"
    }
  },
  "cells": [
    {
      "cell_type": "markdown",
      "source": [
        "# Aula 2: Manipulando datos en Python"
      ],
      "metadata": {
        "id": "v_jXonE4azUd"
      }
    },
    {
      "cell_type": "markdown",
      "source": [
        "## Recopilación y muestra de datos"
      ],
      "metadata": {
        "id": "eU-yvt9CbSj8"
      }
    },
    {
      "cell_type": "markdown",
      "source": [
        "### Ejercicio 1"
      ],
      "metadata": {
        "id": "AMPhxB2Da2_d"
      }
    },
    {
      "cell_type": "markdown",
      "source": [
        "Crea un programa que solicite al usuario que escriba su nombre y luego imprima \"Hola, [nombre].\""
      ],
      "metadata": {
        "id": "v1Cwsgwxa6H8"
      }
    },
    {
      "cell_type": "code",
      "source": [
        "nombre = input(\"¿Cuál es tu nombre? \")\n",
        "print(f\"Hola, {nombre}\")"
      ],
      "metadata": {
        "colab": {
          "base_uri": "https://localhost:8080/"
        },
        "id": "HSTfie_O-ijD",
        "outputId": "c650548d-5e82-494b-8a59-3554986b3781"
      },
      "execution_count": null,
      "outputs": [
        {
          "output_type": "stream",
          "name": "stdout",
          "text": [
            "¿Cuál es tu nombre? Marcos\n",
            "Hola, Marcos\n"
          ]
        }
      ]
    },
    {
      "cell_type": "markdown",
      "source": [
        "### Ejercicio 2"
      ],
      "metadata": {
        "id": "NENV0Z-TbFfc"
      }
    },
    {
      "cell_type": "markdown",
      "source": [
        "Crea un programa que solicite al usuario que escriba su nombre y edad, y luego imprima \"Hola, [nombre], tienes [edad] años.\""
      ],
      "metadata": {
        "id": "Oq-jmVzabJQV"
      }
    },
    {
      "cell_type": "code",
      "source": [
        "nombre = input(\"¿Cuál es tu nombre? \")\n",
        "edad = input(\"¿Cuál es tu edad? \")\n",
        "print(f\"Hola, {nombre}, tienes {edad} años\")"
      ],
      "metadata": {
        "colab": {
          "base_uri": "https://localhost:8080/"
        },
        "id": "vIpI3OvO_Grj",
        "outputId": "0768c25d-c21d-465f-eaee-b70f11c42d5c"
      },
      "execution_count": null,
      "outputs": [
        {
          "output_type": "stream",
          "name": "stdout",
          "text": [
            "¿Cuál es tu nombre? Marcos\n",
            "¿Cuál es tu edad? 33\n",
            "Hola, Marcos, tienes 33 años\n"
          ]
        }
      ]
    },
    {
      "cell_type": "markdown",
      "source": [
        "### Ejercicio 3"
      ],
      "metadata": {
        "id": "eg_x_0KsbNU0"
      }
    },
    {
      "cell_type": "markdown",
      "source": [
        "Crea un programa que solicite al usuario que escriba su nombre, edad y altura en metros, y luego imprima \"Hola, [nombre], tienes [edad] años y mides [altura] metros.\""
      ],
      "metadata": {
        "id": "lIwL9M7SbPNN"
      }
    },
    {
      "cell_type": "code",
      "source": [
        "nombre = input(\"¿Cuál es tu nombre? \")\n",
        "edad = input(\"¿Cuál es tu edad? \")\n",
        "altura = input(\"¿Cuál es tu altura? \")\n",
        "print(f\"Hola, {nombre}, tienes {edad} años y mides {altura} metros.\")"
      ],
      "metadata": {
        "colab": {
          "base_uri": "https://localhost:8080/"
        },
        "id": "dgSWhYndB0tE",
        "outputId": "c2734310-03c2-412f-8687-08e0331bb9be"
      },
      "execution_count": null,
      "outputs": [
        {
          "output_type": "stream",
          "name": "stdout",
          "text": [
            "¿Cuál es tu nombre? Marcis\n",
            "¿Cuál es tu edad? 32\n",
            "¿Cuál es tu altura? 1.80\n",
            "Hola, Marcis, tienes 32 años y mides 1.80 metros.\n"
          ]
        }
      ]
    },
    {
      "cell_type": "markdown",
      "source": [
        "## Calculadora con operadores"
      ],
      "metadata": {
        "id": "yJFOctnabVGF"
      }
    },
    {
      "cell_type": "markdown",
      "source": [
        "### Ejercicio 4"
      ],
      "metadata": {
        "id": "MW6zbExnbXt9"
      }
    },
    {
      "cell_type": "markdown",
      "source": [
        "Crea un programa que solicite dos valores numéricos al usuario y luego imprima la suma de ambos valores."
      ],
      "metadata": {
        "id": "7LQUQMJGbael"
      }
    },
    {
      "cell_type": "code",
      "source": [
        "num1 = int(input(\"Ingrese un número: \"))\n",
        "num2 = int(input(\"Ingrese otro número: \"))\n",
        "result = num1 + num2\n",
        "print(f\"La suma es: {result}\")"
      ],
      "metadata": {
        "colab": {
          "base_uri": "https://localhost:8080/"
        },
        "id": "DY8L_dXvr8Mi",
        "outputId": "66df5354-7c50-42bb-bafe-ea6ae82b78aa"
      },
      "execution_count": null,
      "outputs": [
        {
          "output_type": "stream",
          "name": "stdout",
          "text": [
            "Ingrese un número: 1\n",
            "Ingrese otro número: 5\n",
            "La suma es: 6\n"
          ]
        }
      ]
    },
    {
      "cell_type": "markdown",
      "source": [
        "### Ejercicio 5"
      ],
      "metadata": {
        "id": "Gl_ibEUrbdN0"
      }
    },
    {
      "cell_type": "markdown",
      "source": [
        "Crea un programa que solicite tres valores numéricos al usuario y luego imprima la suma de los tres valores."
      ],
      "metadata": {
        "id": "Inin3v1Zbf6d"
      }
    },
    {
      "cell_type": "code",
      "source": [
        "num1 = int(input(\"Ingrese un número: \"))\n",
        "num2 = int(input(\"Ingrese otro número: \"))\n",
        "num3 = int(input(\"Ingrese un tercer número: \"))\n",
        "result = num1 + num2 + num3\n",
        "print(f\"La suma es: {result}\")"
      ],
      "metadata": {
        "colab": {
          "base_uri": "https://localhost:8080/"
        },
        "id": "AREICtHj_a7S",
        "outputId": "b60aa18a-4cc3-4410-ad7c-e7f09316f70d"
      },
      "execution_count": null,
      "outputs": [
        {
          "output_type": "stream",
          "name": "stdout",
          "text": [
            "Ingrese un número: 1\n",
            "Ingrese otro número: 3\n",
            "Ingrese un tercer número: 5\n",
            "La suma es: 9\n"
          ]
        }
      ]
    },
    {
      "cell_type": "markdown",
      "source": [
        "### Ejercicio 6"
      ],
      "metadata": {
        "id": "USUI4eOubgwv"
      }
    },
    {
      "cell_type": "markdown",
      "source": [
        "Crea un programa que solicite dos valores numéricos al usuario y luego imprima la resta del primero menos el segundo valor."
      ],
      "metadata": {
        "id": "NM6mKSscbjVU"
      }
    },
    {
      "cell_type": "code",
      "source": [
        "num1 = int(input(\"Ingrese un número: \"))\n",
        "num2 = int(input(\"Ingrese otro número: \"))\n",
        "result = num1 - num2\n",
        "print(f\"La resta es: {result}\")"
      ],
      "metadata": {
        "colab": {
          "base_uri": "https://localhost:8080/"
        },
        "id": "r9m9yCT9_l2C",
        "outputId": "57209d56-16e4-46e9-d0b1-86d0b8a72488"
      },
      "execution_count": null,
      "outputs": [
        {
          "output_type": "stream",
          "name": "stdout",
          "text": [
            "Ingrese un número: 1\n",
            "Ingrese otro número: 3\n",
            "La resta es: -2\n"
          ]
        }
      ]
    },
    {
      "cell_type": "markdown",
      "source": [
        "### Ejercicio 7"
      ],
      "metadata": {
        "id": "JFxV72oTbkSt"
      }
    },
    {
      "cell_type": "markdown",
      "source": [
        "Crea un programa que solicite dos valores numéricos al usuario y luego imprima la multiplicación de los dos valores."
      ],
      "metadata": {
        "id": "NaaC7LKJbomd"
      }
    },
    {
      "cell_type": "code",
      "source": [
        "num1 = int(input(\"Ingrese un número: \"))\n",
        "num2 = int(input(\"Ingrese otro número: \"))\n",
        "result = num1 * num2\n",
        "print(f\"La multiplicación es: {result}\")"
      ],
      "metadata": {
        "colab": {
          "base_uri": "https://localhost:8080/"
        },
        "id": "V41bnQYd_scy",
        "outputId": "219169d1-c592-46b7-95bd-d2c8f16eca15"
      },
      "execution_count": null,
      "outputs": [
        {
          "output_type": "stream",
          "name": "stdout",
          "text": [
            "Ingrese un número: 9\n",
            "Ingrese otro número: 9\n",
            "La multiplicación es: 81\n"
          ]
        }
      ]
    },
    {
      "cell_type": "markdown",
      "source": [
        "### Ejercicio 8"
      ],
      "metadata": {
        "id": "wLXrlgcrbpzc"
      }
    },
    {
      "cell_type": "markdown",
      "source": [
        "Crea un programa que solicite dos valores numéricos, un numerador y un denominador, y realice la división entre los dos valores. Asegúrate de que el valor del denominador no sea igual a 0."
      ],
      "metadata": {
        "id": "-gdGX329brak"
      }
    },
    {
      "cell_type": "code",
      "source": [
        "numerador = int(input(\"Ingrese el operador: \"))\n",
        "denominador = int(input(\"Ingrese el denominador (no puede ser 0): \"))\n",
        "result = numerador / denominador\n",
        "print(f\"La división es: {result}\")"
      ],
      "metadata": {
        "colab": {
          "base_uri": "https://localhost:8080/"
        },
        "id": "iu2csfgF_5HB",
        "outputId": "0148786a-0554-4c19-ff09-4beeb38e0427"
      },
      "execution_count": null,
      "outputs": [
        {
          "output_type": "stream",
          "name": "stdout",
          "text": [
            "Ingrese un número: 4\n",
            "Ingrese otro número: 2\n",
            "La división es: 2.0\n"
          ]
        }
      ]
    },
    {
      "cell_type": "markdown",
      "source": [
        "### Ejercicio 9"
      ],
      "metadata": {
        "id": "03i-DxkAbtak"
      }
    },
    {
      "cell_type": "markdown",
      "source": [
        "Crea un programa que solicite dos valores numéricos, un operador y una potencia, y realice la exponenciación entre estos dos valores."
      ],
      "metadata": {
        "id": "4czW01Febu_s"
      }
    },
    {
      "cell_type": "code",
      "source": [
        "operador = int(input(\"Ingrese el operador: \"))\n",
        "potencia = int(input(\"Ingrese la potencia: \"))\n",
        "result = operador**potencia\n",
        "print(f\"La exponenciación es: {result}\")"
      ],
      "metadata": {
        "colab": {
          "base_uri": "https://localhost:8080/"
        },
        "id": "9wBh7wKiAX-q",
        "outputId": "3bef1d45-e4a6-469e-a904-1fd0c79db141"
      },
      "execution_count": null,
      "outputs": [
        {
          "output_type": "stream",
          "name": "stdout",
          "text": [
            "Ingrese un número: 3\n",
            "Ingrese otro número: 4\n",
            "La exponenciación es: 81\n"
          ]
        }
      ]
    },
    {
      "cell_type": "markdown",
      "source": [
        "### Ejercicio 10"
      ],
      "metadata": {
        "id": "Mx-ybzBbbxqE"
      }
    },
    {
      "cell_type": "markdown",
      "source": [
        "Crea un programa que solicite dos valores numéricos, un numerador y un denominador, y realice la división entera entre los dos valores. Asegúrate de que el valor del denominador no sea igual a 0."
      ],
      "metadata": {
        "id": "ClnHVr86bzNV"
      }
    },
    {
      "cell_type": "code",
      "source": [
        "numerador = int(input(\"Ingrese el numerador: \"))\n",
        "denominador = int(input(\"Ingrese el denominador (no puede ser 0): \"))\n",
        "result = numerador//denominador\n",
        "print(f\"La división es: {result}\")"
      ],
      "metadata": {
        "colab": {
          "base_uri": "https://localhost:8080/"
        },
        "id": "jzn4D98NBB2Z",
        "outputId": "4d8a8a09-7d95-4143-e280-9fd2d27bccca"
      },
      "execution_count": null,
      "outputs": [
        {
          "output_type": "stream",
          "name": "stdout",
          "text": [
            "Ingrese un número: 4\n",
            "Ingrese otro número: 2\n",
            "La división es: 2\n"
          ]
        }
      ]
    },
    {
      "cell_type": "markdown",
      "source": [
        "### Ejercicio 11"
      ],
      "metadata": {
        "id": "g0YBWmi4bzw0"
      }
    },
    {
      "cell_type": "markdown",
      "source": [
        "Crea un programa que solicite dos valores numéricos, un numerador y un denominador, y devuelva el resto de la división entre los dos valores. Asegúrate de que el valor del denominador no sea igual a 0."
      ],
      "metadata": {
        "id": "miNlnOwXb1Z0"
      }
    },
    {
      "cell_type": "code",
      "source": [
        "numerador = int(input(\"Ingrese el numerador: \"))\n",
        "denominador = int(input(\"Ingrese el denominador (no puede ser 0): \"))\n",
        "result = numerador%denominador\n",
        "print(f\"El resto de la división es: {result}\")"
      ],
      "metadata": {
        "colab": {
          "base_uri": "https://localhost:8080/"
        },
        "id": "NmoehFCwBgNp",
        "outputId": "b5383cff-451e-4d8a-e9e4-81c08982f967"
      },
      "execution_count": null,
      "outputs": [
        {
          "output_type": "stream",
          "name": "stdout",
          "text": [
            "Ingrese un número: 9\n",
            "Ingrese otro número: 3\n",
            "El resto de la división es: 0\n"
          ]
        }
      ]
    },
    {
      "cell_type": "markdown",
      "source": [
        "### Ejercicio 12"
      ],
      "metadata": {
        "id": "DsHGfwVPb3SV"
      }
    },
    {
      "cell_type": "markdown",
      "source": [
        "Crea un código que solicite las 3 notas de un estudiante e imprima el promedio de las notas."
      ],
      "metadata": {
        "id": "NGPEPOzGb6g8"
      }
    },
    {
      "cell_type": "code",
      "source": [
        "nota1 = float(input(\"Ingrese la primera nota: \"))\n",
        "nota2 = float(input(\"Ingrese la segunda nota: \"))\n",
        "nota3 = float(input(\"Ingrese la tercera nota: \"))\n",
        "result = (nota1 + nota2 + nota3) / 3\n",
        "print(f\"El promedio es: {result}\")"
      ],
      "metadata": {
        "colab": {
          "base_uri": "https://localhost:8080/"
        },
        "id": "W2Qm1h9zCcZ_",
        "outputId": "60b2bdea-018c-4a02-cd0a-ab59ce68417d"
      },
      "execution_count": 3,
      "outputs": [
        {
          "output_type": "stream",
          "name": "stdout",
          "text": [
            "Ingrese la primera nota: 6\n",
            "Ingrese la segunda nota: 8\n",
            "Ingrese la tercera nota: 9\n",
            "El promedio es: 7.666666666666667\n"
          ]
        }
      ]
    },
    {
      "cell_type": "markdown",
      "source": [
        "### Ejercicio 13"
      ],
      "metadata": {
        "id": "7Hn7kvhgb85k"
      }
    },
    {
      "cell_type": "markdown",
      "source": [
        "Crea un código que calcule e imprima el promedio ponderado de los números 5, 12, 20 y 15 con pesos respectivamente iguales a 1, 2, 3 y 4."
      ],
      "metadata": {
        "id": "4mTxw-rSb-ot"
      }
    },
    {
      "cell_type": "code",
      "source": [
        "\"\"\"\n",
        "Para calcular el promedio ponderado, se realiza la siguiente fórmula:\n",
        "1- Multiplicamos cada valor por su peso correspondiente y sumamos los resultados, eso nos dará la suma ponderada\n",
        "2- Sumar todos los pesos (suma total de pesos)\n",
        "3- Dividir la suma ponderada entre la suma total de pesos\n",
        "\"\"\"\n",
        "suma_ponderada = (5*1 + 12*2 + 20*3 + 15*4)\n",
        "suma_total_pesos = 1 + 2 + 3 + 4\n",
        "promedio_ponderado = suma_ponderada / suma_total_pesos\n",
        "print(f\"El promedio ponderado es: {promedio_ponderado}\")"
      ],
      "metadata": {
        "colab": {
          "base_uri": "https://localhost:8080/"
        },
        "id": "Uf66_pw2D_zA",
        "outputId": "3035a956-0a9a-4f40-b217-edbd9ef8d278"
      },
      "execution_count": 6,
      "outputs": [
        {
          "output_type": "stream",
          "name": "stdout",
          "text": [
            "El promedio ponderado es: 14.9\n"
          ]
        }
      ]
    },
    {
      "cell_type": "markdown",
      "source": [
        "## Editando textos"
      ],
      "metadata": {
        "id": "Tc1TTBJocEIc"
      }
    },
    {
      "cell_type": "markdown",
      "source": [
        "### Ejercicio 14"
      ],
      "metadata": {
        "id": "j4_2pBwycFiN"
      }
    },
    {
      "cell_type": "markdown",
      "source": [
        "Crea una variable llamada \"frase\" y asígnale una cadena de texto de tu elección. Luego, imprime la frase en pantalla."
      ],
      "metadata": {
        "id": "X8tyIXU-cHQ0"
      }
    },
    {
      "cell_type": "code",
      "source": [
        "frase = \"Hace más ruido un hombre gritando que cien mil que están callados.\"\n",
        "print(frase)"
      ],
      "metadata": {
        "colab": {
          "base_uri": "https://localhost:8080/"
        },
        "id": "NinwQpzPHdpR",
        "outputId": "7ffce5d0-45ba-499d-a7d6-d9f7e66c0752"
      },
      "execution_count": 10,
      "outputs": [
        {
          "output_type": "stream",
          "name": "stdout",
          "text": [
            "Hace más ruido un hombre gritando que cien mil que están callados.\n"
          ]
        }
      ]
    },
    {
      "cell_type": "markdown",
      "source": [
        "### Ejercicio 15"
      ],
      "metadata": {
        "id": "y1HP4nqucJC1"
      }
    },
    {
      "cell_type": "markdown",
      "source": [
        "Crea un código que solicite una frase y luego imprima la frase en pantalla."
      ],
      "metadata": {
        "id": "ZK7JFjb9cLK9"
      }
    },
    {
      "cell_type": "code",
      "source": [
        "frase = input(\"Ingrese una frase: \")\n",
        "print(frase)"
      ],
      "metadata": {
        "colab": {
          "base_uri": "https://localhost:8080/"
        },
        "id": "q-ug9u5KIJOY",
        "outputId": "874d1653-9332-43e0-d677-9f0020e0a8e3"
      },
      "execution_count": 11,
      "outputs": [
        {
          "output_type": "stream",
          "name": "stdout",
          "text": [
            "Ingrese una frase: Cuando la Patria está en peligro todo está permitido, excepto no defenderla.\n",
            "Cuando la Patria está en peligro todo está permitido, excepto no defenderla.\n"
          ]
        }
      ]
    },
    {
      "cell_type": "markdown",
      "source": [
        "### Ejercicio 16"
      ],
      "metadata": {
        "id": "myUz3DWtcN1c"
      }
    },
    {
      "cell_type": "markdown",
      "source": [
        "Crea un código que solicite una frase al usuario y luego imprima la misma frase ingresada pero en mayúsculas."
      ],
      "metadata": {
        "id": "4nBpP-82cPj0"
      }
    },
    {
      "cell_type": "markdown",
      "source": [
        "### Ejercicio 17"
      ],
      "metadata": {
        "id": "9ASreJq8cQUl"
      }
    },
    {
      "cell_type": "markdown",
      "source": [
        "Crea un código que solicite una frase al usuario y luego imprima la misma frase ingresada pero en minúsculas."
      ],
      "metadata": {
        "id": "5ULgmNupcS2V"
      }
    },
    {
      "cell_type": "markdown",
      "source": [
        "### Ejercicio 18"
      ],
      "metadata": {
        "id": "HnG44JBhcU8l"
      }
    },
    {
      "cell_type": "markdown",
      "source": [
        "Crea una variable llamada \"frase\" y asígnale una cadena de texto de tu elección. Luego, imprime la frase sin espacios en blanco al principio y al final."
      ],
      "metadata": {
        "id": "e_0bqUrlcWq1"
      }
    },
    {
      "cell_type": "markdown",
      "source": [
        "### Ejercicio 19"
      ],
      "metadata": {
        "id": "_inhYzrqcXVt"
      }
    },
    {
      "cell_type": "markdown",
      "source": [
        "Crea un código que solicite una frase al usuario y luego imprima la misma frase sin espacios en blanco al principio y al final."
      ],
      "metadata": {
        "id": "BPKvzBu9cazd"
      }
    },
    {
      "cell_type": "markdown",
      "source": [
        "### Ejercicio 20"
      ],
      "metadata": {
        "id": "PqozPsh0ccVl"
      }
    },
    {
      "cell_type": "markdown",
      "source": [
        "Crea un código que solicite una frase al usuario y luego imprima la misma frase sin espacios en blanco al principio y al final, además de convertirla a minúsculas."
      ],
      "metadata": {
        "id": "P28QyOIzceRV"
      }
    },
    {
      "cell_type": "markdown",
      "source": [
        "### Ejercicio 21"
      ],
      "metadata": {
        "id": "ZQinRug5cfyt"
      }
    },
    {
      "cell_type": "markdown",
      "source": [
        "Crea un código que solicite una frase al usuario y luego imprima la misma frase con todas las vocales \"e\" reemplazadas por la letra \"f\"."
      ],
      "metadata": {
        "id": "BtI4yamXchUk"
      }
    },
    {
      "cell_type": "markdown",
      "source": [
        "### Ejercicio 22"
      ],
      "metadata": {
        "id": "223Dt6C2ch98"
      }
    },
    {
      "cell_type": "markdown",
      "source": [
        "Crea un código que solicite una frase al usuario y luego imprima la misma frase con todas las vocales \"a\" reemplazadas por el carácter \"@\"."
      ],
      "metadata": {
        "id": "iys9v57bcktF"
      }
    },
    {
      "cell_type": "markdown",
      "source": [
        "### Ejercicio 23"
      ],
      "metadata": {
        "id": "91mIG1-BclY-"
      }
    },
    {
      "cell_type": "markdown",
      "source": [
        "Crea un código que solicite una frase al usuario y luego imprima la misma frase con todas las consonantes \"s\" reemplazadas por el carácter \"$\"."
      ],
      "metadata": {
        "id": "HVPy5kPJcn6V"
      }
    }
  ]
}