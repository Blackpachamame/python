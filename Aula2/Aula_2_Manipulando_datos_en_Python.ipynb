{
  "nbformat": 4,
  "nbformat_minor": 0,
  "metadata": {
    "colab": {
      "provenance": []
    },
    "kernelspec": {
      "name": "python3",
      "display_name": "Python 3"
    },
    "language_info": {
      "name": "python"
    }
  },
  "cells": [
    {
      "cell_type": "markdown",
      "source": [
        "# Aula 2: Manipulando datos en Python"
      ],
      "metadata": {
        "id": "v_jXonE4azUd"
      }
    },
    {
      "cell_type": "markdown",
      "source": [
        "## Recopilación y muestra de datos"
      ],
      "metadata": {
        "id": "eU-yvt9CbSj8"
      }
    },
    {
      "cell_type": "markdown",
      "source": [
        "### Ejercicio 1"
      ],
      "metadata": {
        "id": "AMPhxB2Da2_d"
      }
    },
    {
      "cell_type": "markdown",
      "source": [
        "Crea un programa que solicite al usuario que escriba su nombre y luego imprima \"Hola, [nombre].\""
      ],
      "metadata": {
        "id": "v1Cwsgwxa6H8"
      }
    },
    {
      "cell_type": "markdown",
      "source": [
        "### Ejercicio 2"
      ],
      "metadata": {
        "id": "NENV0Z-TbFfc"
      }
    },
    {
      "cell_type": "markdown",
      "source": [
        "Crea un programa que solicite al usuario que escriba su nombre y edad, y luego imprima \"Hola, [nombre], tienes [edad] años.\""
      ],
      "metadata": {
        "id": "Oq-jmVzabJQV"
      }
    },
    {
      "cell_type": "markdown",
      "source": [
        "### Ejercicio 3"
      ],
      "metadata": {
        "id": "eg_x_0KsbNU0"
      }
    },
    {
      "cell_type": "markdown",
      "source": [
        "Crea un programa que solicite al usuario que escriba su nombre, edad y altura en metros, y luego imprima \"Hola, [nombre], tienes [edad] años y mides [altura] metros.\""
      ],
      "metadata": {
        "id": "lIwL9M7SbPNN"
      }
    },
    {
      "cell_type": "markdown",
      "source": [
        "## Calculadora con operadores"
      ],
      "metadata": {
        "id": "yJFOctnabVGF"
      }
    },
    {
      "cell_type": "markdown",
      "source": [
        "### Ejercicio 4"
      ],
      "metadata": {
        "id": "MW6zbExnbXt9"
      }
    },
    {
      "cell_type": "markdown",
      "source": [
        "Crea un programa que solicite dos valores numéricos al usuario y luego imprima la suma de ambos valores."
      ],
      "metadata": {
        "id": "7LQUQMJGbael"
      }
    },
    {
      "cell_type": "markdown",
      "source": [
        "### Ejercicio 5"
      ],
      "metadata": {
        "id": "Gl_ibEUrbdN0"
      }
    },
    {
      "cell_type": "markdown",
      "source": [
        "Crea un programa que solicite tres valores numéricos al usuario y luego imprima la suma de los tres valores."
      ],
      "metadata": {
        "id": "Inin3v1Zbf6d"
      }
    },
    {
      "cell_type": "markdown",
      "source": [
        "### Ejercicio 6"
      ],
      "metadata": {
        "id": "USUI4eOubgwv"
      }
    },
    {
      "cell_type": "markdown",
      "source": [
        "Crea un programa que solicite dos valores numéricos al usuario y luego imprima la resta del primero menos el segundo valor."
      ],
      "metadata": {
        "id": "NM6mKSscbjVU"
      }
    },
    {
      "cell_type": "markdown",
      "source": [
        "### Ejercicio 7"
      ],
      "metadata": {
        "id": "JFxV72oTbkSt"
      }
    },
    {
      "cell_type": "markdown",
      "source": [
        "Crea un programa que solicite dos valores numéricos al usuario y luego imprima la multiplicación de los dos valores."
      ],
      "metadata": {
        "id": "NaaC7LKJbomd"
      }
    },
    {
      "cell_type": "markdown",
      "source": [
        "### Ejercicio 8"
      ],
      "metadata": {
        "id": "wLXrlgcrbpzc"
      }
    },
    {
      "cell_type": "markdown",
      "source": [
        "Crea un programa que solicite dos valores numéricos, un numerador y un denominador, y realice la división entre los dos valores. Asegúrate de que el valor del denominador no sea igual a 0."
      ],
      "metadata": {
        "id": "-gdGX329brak"
      }
    },
    {
      "cell_type": "markdown",
      "source": [
        "### Ejercicio 9"
      ],
      "metadata": {
        "id": "03i-DxkAbtak"
      }
    },
    {
      "cell_type": "markdown",
      "source": [
        "Crea un programa que solicite dos valores numéricos, un operador y una potencia, y realice la exponenciación entre estos dos valores."
      ],
      "metadata": {
        "id": "4czW01Febu_s"
      }
    },
    {
      "cell_type": "markdown",
      "source": [
        "### Ejercicio 10"
      ],
      "metadata": {
        "id": "Mx-ybzBbbxqE"
      }
    },
    {
      "cell_type": "markdown",
      "source": [
        "Crea un programa que solicite dos valores numéricos, un numerador y un denominador, y realice la división entera entre los dos valores. Asegúrate de que el valor del denominador no sea igual a 0."
      ],
      "metadata": {
        "id": "ClnHVr86bzNV"
      }
    },
    {
      "cell_type": "markdown",
      "source": [
        "### Ejercicio 11"
      ],
      "metadata": {
        "id": "g0YBWmi4bzw0"
      }
    },
    {
      "cell_type": "markdown",
      "source": [
        "Crea un programa que solicite dos valores numéricos, un numerador y un denominador, y devuelva el resto de la división entre los dos valores. Asegúrate de que el valor del denominador no sea igual a 0."
      ],
      "metadata": {
        "id": "miNlnOwXb1Z0"
      }
    },
    {
      "cell_type": "markdown",
      "source": [
        "### Ejercicio 12"
      ],
      "metadata": {
        "id": "DsHGfwVPb3SV"
      }
    },
    {
      "cell_type": "markdown",
      "source": [
        "Crea un código que solicite las 3 notas de un estudiante e imprima el promedio de las notas."
      ],
      "metadata": {
        "id": "NGPEPOzGb6g8"
      }
    },
    {
      "cell_type": "markdown",
      "source": [
        "### Ejercicio 13"
      ],
      "metadata": {
        "id": "7Hn7kvhgb85k"
      }
    },
    {
      "cell_type": "markdown",
      "source": [
        "Crea un código que calcule e imprima el promedio ponderado de los números 5, 12, 20 y 15 con pesos respectivamente iguales a 1, 2, 3 y 4."
      ],
      "metadata": {
        "id": "4mTxw-rSb-ot"
      }
    },
    {
      "cell_type": "markdown",
      "source": [
        "## Editando textos"
      ],
      "metadata": {
        "id": "Tc1TTBJocEIc"
      }
    },
    {
      "cell_type": "markdown",
      "source": [
        "### Ejercicio 14"
      ],
      "metadata": {
        "id": "j4_2pBwycFiN"
      }
    },
    {
      "cell_type": "markdown",
      "source": [
        "Crea una variable llamada \"frase\" y asígnale una cadena de texto de tu elección. Luego, imprime la frase en pantalla."
      ],
      "metadata": {
        "id": "X8tyIXU-cHQ0"
      }
    },
    {
      "cell_type": "markdown",
      "source": [
        "### Ejercicio 15"
      ],
      "metadata": {
        "id": "y1HP4nqucJC1"
      }
    },
    {
      "cell_type": "markdown",
      "source": [
        "Crea un código que solicite una frase y luego imprima la frase en pantalla."
      ],
      "metadata": {
        "id": "ZK7JFjb9cLK9"
      }
    },
    {
      "cell_type": "markdown",
      "source": [
        "### Ejercicio 16"
      ],
      "metadata": {
        "id": "myUz3DWtcN1c"
      }
    },
    {
      "cell_type": "markdown",
      "source": [
        "Crea un código que solicite una frase al usuario y luego imprima la misma frase ingresada pero en mayúsculas."
      ],
      "metadata": {
        "id": "4nBpP-82cPj0"
      }
    },
    {
      "cell_type": "markdown",
      "source": [
        "### Ejercicio 17"
      ],
      "metadata": {
        "id": "9ASreJq8cQUl"
      }
    },
    {
      "cell_type": "markdown",
      "source": [
        "Crea un código que solicite una frase al usuario y luego imprima la misma frase ingresada pero en minúsculas."
      ],
      "metadata": {
        "id": "5ULgmNupcS2V"
      }
    },
    {
      "cell_type": "markdown",
      "source": [
        "### Ejercicio 18"
      ],
      "metadata": {
        "id": "HnG44JBhcU8l"
      }
    },
    {
      "cell_type": "markdown",
      "source": [
        "Crea una variable llamada \"frase\" y asígnale una cadena de texto de tu elección. Luego, imprime la frase sin espacios en blanco al principio y al final."
      ],
      "metadata": {
        "id": "e_0bqUrlcWq1"
      }
    },
    {
      "cell_type": "markdown",
      "source": [
        "### Ejercicio 19"
      ],
      "metadata": {
        "id": "_inhYzrqcXVt"
      }
    },
    {
      "cell_type": "markdown",
      "source": [
        "Crea un código que solicite una frase al usuario y luego imprima la misma frase sin espacios en blanco al principio y al final."
      ],
      "metadata": {
        "id": "BPKvzBu9cazd"
      }
    },
    {
      "cell_type": "markdown",
      "source": [
        "### Ejercicio 20"
      ],
      "metadata": {
        "id": "PqozPsh0ccVl"
      }
    },
    {
      "cell_type": "markdown",
      "source": [
        "Crea un código que solicite una frase al usuario y luego imprima la misma frase sin espacios en blanco al principio y al final, además de convertirla a minúsculas."
      ],
      "metadata": {
        "id": "P28QyOIzceRV"
      }
    },
    {
      "cell_type": "markdown",
      "source": [
        "### Ejercicio 21"
      ],
      "metadata": {
        "id": "ZQinRug5cfyt"
      }
    },
    {
      "cell_type": "markdown",
      "source": [
        "Crea un código que solicite una frase al usuario y luego imprima la misma frase con todas las vocales \"e\" reemplazadas por la letra \"f\"."
      ],
      "metadata": {
        "id": "BtI4yamXchUk"
      }
    },
    {
      "cell_type": "markdown",
      "source": [
        "### Ejercicio 22"
      ],
      "metadata": {
        "id": "223Dt6C2ch98"
      }
    },
    {
      "cell_type": "markdown",
      "source": [
        "Crea un código que solicite una frase al usuario y luego imprima la misma frase con todas las vocales \"a\" reemplazadas por el carácter \"@\"."
      ],
      "metadata": {
        "id": "iys9v57bcktF"
      }
    },
    {
      "cell_type": "markdown",
      "source": [
        "### Ejercicio 23"
      ],
      "metadata": {
        "id": "91mIG1-BclY-"
      }
    },
    {
      "cell_type": "markdown",
      "source": [
        "Crea un código que solicite una frase al usuario y luego imprima la misma frase con todas las consonantes \"s\" reemplazadas por el carácter \"$\"."
      ],
      "metadata": {
        "id": "HVPy5kPJcn6V"
      }
    }
  ]
}