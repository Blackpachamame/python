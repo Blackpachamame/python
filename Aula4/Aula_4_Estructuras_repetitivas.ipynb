{
  "cells": [
    {
      "cell_type": "markdown",
      "metadata": {},
      "source": [
        "[![Open in Colab](https://colab.research.google.com/assets/colab-badge.svg)](https://colab.research.google.com/github/Blackpachamame/python/blob/main/Aula4/Aula_4_Estructuras_repetitivas.ipynb)"
      ]
    },
    {
      "cell_type": "markdown",
      "metadata": {
        "id": "jp6CjZyVvCD4"
      },
      "source": [
        "# Aula 4: Estructuras repetitivas"
      ]
    },
    {
      "cell_type": "markdown",
      "metadata": {
        "id": "TNUYK-EkvGZf"
      },
      "source": [
        "Vamos practicar el uso de estructuras de repetición como el \"while\" y el \"for\" a partir de algunas actividades. Ahora que estamos avanzando en el contenido, podemos hacer los desafíos más interesantes. ¡Para ello, trabajaremos en proyectos de código!"
      ]
    },
    {
      "cell_type": "markdown",
      "metadata": {
        "id": "byJTGwJMvJD3"
      },
      "source": [
        "## Entrenando la programación"
      ]
    },
    {
      "cell_type": "markdown",
      "metadata": {
        "id": "MStq3RjnvKTv"
      },
      "source": [
        "### Ejercicio 1"
      ]
    },
    {
      "cell_type": "markdown",
      "metadata": {
        "id": "nxi8sxYyvO2X"
      },
      "source": [
        "Escribe un programa que solicite dos números enteros e imprima todos los números enteros entre ellos."
      ]
    },
    {
      "cell_type": "code",
      "execution_count": 8,
      "metadata": {
        "colab": {
          "base_uri": "https://localhost:8080/"
        },
        "id": "pdPRodl8yAu_",
        "outputId": "8ff06d92-a061-4f64-835d-168fa20892b7"
      },
      "outputs": [
        {
          "name": "stdout",
          "output_type": "stream",
          "text": [
            "Ingrese el primer número entero: 2\n",
            "Ingrese el segundo número entero: 7\n",
            "3\n",
            "4\n",
            "5\n",
            "6\n"
          ]
        }
      ],
      "source": [
        "inicio = int(input(\"Ingrese el primer número entero: \"))\n",
        "fin = int(input(\"Ingrese el segundo número entero: \"))\n",
        "\n",
        "if inicio < fin:\n",
        "    for i in range(inicio + 1, fin):\n",
        "        print(i)\n",
        "elif fin < inicio:\n",
        "    for i in range(fin + 1, inicio):\n",
        "        print(i)\n",
        "else:\n",
        "    print(\"Los números son iguales\")"
      ]
    },
    {
      "cell_type": "markdown",
      "metadata": {
        "id": "HYe1nQ2OvQeP"
      },
      "source": [
        "### Ejercicio 2"
      ]
    },
    {
      "cell_type": "markdown",
      "metadata": {
        "id": "oMcj5uskvfJo"
      },
      "source": [
        "Escribe un programa para calcular cuántos días tomará que la colonia de una bacteria A supere o iguale a la colonia de una bacteria B, basado en tasas de crecimiento del 3% y 1.5%, respectivamente. Supón que la colonia A comienza con 4 elementos y B con 10."
      ]
    },
    {
      "cell_type": "code",
      "execution_count": 10,
      "metadata": {
        "colab": {
          "base_uri": "https://localhost:8080/"
        },
        "id": "JEkVhHph1E9o",
        "outputId": "eaf8647b-8959-4ed2-d9ea-218f4934e560"
      },
      "outputs": [
        {
          "name": "stdout",
          "output_type": "stream",
          "text": [
            "Tomará 63 días para que la colonia de A supere o iguale a la de B.\n"
          ]
        }
      ],
      "source": [
        "dias = 0\n",
        "bacterias_a = 4\n",
        "bacterias_b = 10\n",
        "\n",
        "while bacterias_a < bacterias_b:\n",
        "    bacterias_a *= 1.03\n",
        "    bacterias_b *= 1.015\n",
        "    dias += 1\n",
        "\n",
        "print(\"Tomará\", dias, \"días para que la colonia de A supere o iguale a la de B.\")"
      ]
    },
    {
      "cell_type": "markdown",
      "metadata": {
        "id": "nFO3vtv5vRif"
      },
      "source": [
        "### Ejercicio 3"
      ]
    },
    {
      "cell_type": "markdown",
      "metadata": {
        "id": "yUjYnZb1vcxP"
      },
      "source": [
        "Para procesar una cantidad de 15 datos de evaluaciones de usuarios de un servicio de la empresa, necesitamos verificar si las calificaciones son válidas. Por lo tanto, escribe un programa que recibirá calificaciones del 0 al 5 y verificará si son valores válidos. Si se ingresa una calificación superior a 5 o inferior a 0, se repetirá hasta que el usuario ingrese un valor válido."
      ]
    },
    {
      "cell_type": "code",
      "execution_count": 3,
      "metadata": {
        "colab": {
          "base_uri": "https://localhost:8080/"
        },
        "id": "xAgsLUSg2TcI",
        "outputId": "cbaea835-9d94-4a95-c9d6-42e68716c9fc"
      },
      "outputs": [
        {
          "name": "stdout",
          "output_type": "stream",
          "text": [
            "Ingrese la calificación del usuario 0 (debe ser una nota del 0 al 5): 4\n",
            "Ingrese la calificación del usuario 1 (debe ser una nota del 0 al 5): 3\n",
            "Ingrese la calificación del usuario 2 (debe ser una nota del 0 al 5): 5\n",
            "Ingrese la calificación del usuario 3 (debe ser una nota del 0 al 5): 5\n",
            "Ingrese la calificación del usuario 4 (debe ser una nota del 0 al 5): 4\n",
            "Ingrese la calificación del usuario 5 (debe ser una nota del 0 al 5): 4\n",
            "Ingrese la calificación del usuario 6 (debe ser una nota del 0 al 5): 6\n",
            "Calificación inválida. Intente nuevamente.7\n",
            "Calificación inválida. Intente nuevamente.5\n",
            "Ingrese la calificación del usuario 7 (debe ser una nota del 0 al 5): 2\n",
            "Ingrese la calificación del usuario 8 (debe ser una nota del 0 al 5): 3\n",
            "Ingrese la calificación del usuario 9 (debe ser una nota del 0 al 5): 1\n",
            "Ingrese la calificación del usuario 10 (debe ser una nota del 0 al 5): 3\n",
            "Ingrese la calificación del usuario 11 (debe ser una nota del 0 al 5): 6\n",
            "Calificación inválida. Intente nuevamente.5\n",
            "Ingrese la calificación del usuario 12 (debe ser una nota del 0 al 5): 4\n",
            "Ingrese la calificación del usuario 13 (debe ser una nota del 0 al 5): 5\n",
            "Ingrese la calificación del usuario 14 (debe ser una nota del 0 al 5): 3\n",
            "Calificaciones cargadas correctamente.\n"
          ]
        }
      ],
      "source": [
        "for i in range(15):\n",
        "    calificacion = float(input(f\"Ingrese la calificación del usuario {i} (debe ser una nota del 0 al 5): \"))\n",
        "    while calificacion < 0 or calificacion > 5:\n",
        "        calificacion = float(input(\"Calificación inválida. Intente nuevamente.\"))\n",
        "print(\"Calificaciones cargadas correctamente.\")"
      ]
    },
    {
      "cell_type": "markdown",
      "metadata": {
        "id": "aoYVN0BfvSdP"
      },
      "source": [
        "### Ejercicio 4"
      ]
    },
    {
      "cell_type": "markdown",
      "metadata": {
        "id": "WQ0I_I3vvhK_"
      },
      "source": [
        "Desarrolla un programa que lea un conjunto indefinido de temperaturas en grados Celsius y calcule su promedio. La lectura debe detenerse al ingresar el valor -273°C."
      ]
    },
    {
      "cell_type": "code",
      "execution_count": 8,
      "metadata": {
        "colab": {
          "base_uri": "https://localhost:8080/"
        },
        "id": "FOKb8FG547l4",
        "outputId": "628b5b96-d899-4bba-8272-1e8477518050"
      },
      "outputs": [
        {
          "name": "stdout",
          "output_type": "stream",
          "text": [
            "Ingrese la temperatura en grados Celsius: 120\n",
            "Ingrese la temperatura en grados Celsius: -23\n",
            "Ingrese la temperatura en grados Celsius: -273\n",
            "El promedio de las temperaturas ingresadas es: 48.5\n"
          ]
        }
      ],
      "source": [
        "contador = 0\n",
        "suma = 0\n",
        "temperatura = float(input(\"Ingrese la temperatura en grados Celsius: \"))\n",
        "\n",
        "while temperatura != -273:\n",
        "    suma += temperatura\n",
        "    contador += 1\n",
        "    temperatura = float(input(\"Ingrese la temperatura en grados Celsius: \"))\n",
        "if contador > 0:\n",
        "    promedio = suma / contador\n",
        "    print(\"El promedio de las temperaturas ingresadas es:\", promedio)\n",
        "else:\n",
        "    print(\"No se ingresaron temperaturas válidas.\")"
      ]
    },
    {
      "cell_type": "markdown",
      "metadata": {
        "id": "CAgGsXLHvTgX"
      },
      "source": [
        "### Ejercicio 5"
      ]
    },
    {
      "cell_type": "markdown",
      "metadata": {
        "id": "i5Jaaj24vjlX"
      },
      "source": [
        "Escribe un programa que calcule el factorial de un número entero proporcionado por el usuario. Recuerda que el factorial de un número entero es el producto de ese número por todos sus antecesores hasta llegar al número 1. Por ejemplo, el factorial de 5 es 5 x 4 x 3 x 2 x 1 = 120."
      ]
    },
    {
      "cell_type": "code",
      "execution_count": 9,
      "metadata": {
        "colab": {
          "base_uri": "https://localhost:8080/"
        },
        "id": "-dveJQfZ6yih",
        "outputId": "be9f0fc3-7b5f-4fea-f3f6-c16d7fe350b9"
      },
      "outputs": [
        {
          "name": "stdout",
          "output_type": "stream",
          "text": [
            "Ingrese un número entero: 5\n",
            "El factorial de 5 es 120.\n"
          ]
        }
      ],
      "source": [
        "numero = int(input(\"Ingrese un número entero: \"))\n",
        "factorial = 1\n",
        "\n",
        "if numero < 0:\n",
        "    print(\"No se puede calcular el factorial de un número negativo.\")\n",
        "elif numero == 0 or numero == 1:\n",
        "    print(f\"El factorial de {numero} es {factorial}.\")\n",
        "else:\n",
        "    for i in range(2, numero + 1):\n",
        "        factorial *= i\n",
        "    print(f\"El factorial de {numero} es {factorial}.\")"
      ]
    },
    {
      "cell_type": "markdown",
      "metadata": {
        "id": "EZPWQrTEvmH_"
      },
      "source": [
        "## Momento de los proyectos"
      ]
    },
    {
      "cell_type": "markdown",
      "metadata": {
        "id": "zOi6WahEvUe3"
      },
      "source": [
        "### Ejercicio 6"
      ]
    },
    {
      "cell_type": "markdown",
      "metadata": {
        "id": "k2jOxe0qvqrv"
      },
      "source": [
        "Escribe un programa que genere la tabla de multiplicar de un número entero del 1 al 10, según la elección del usuario. Como ejemplo, para el número 2, la tabla de multiplicar debe mostrarse en el siguiente formato:\n",
        "\n",
        "```\n",
        "Tabla de multiplicar del 2:\n",
        "2 x 1 = 2\n",
        "2 x 2 = 4\n",
        "[...]\n",
        "2 x 10 = 20\n",
        "```\n"
      ]
    },
    {
      "cell_type": "markdown",
      "metadata": {
        "id": "pGVAJNI9vVQ3"
      },
      "source": [
        "### Ejercicio 7"
      ]
    },
    {
      "cell_type": "markdown",
      "metadata": {
        "id": "bTVull6Ivx6P"
      },
      "source": [
        "Los números primos tienen diversas aplicaciones en Ciencia de Datos, como en criptografía y seguridad. Un número primo es aquel que es divisible solo por sí mismo y por 1. Por lo tanto, crea un programa que solicite un número entero y determine si es un número primo o no."
      ]
    },
    {
      "cell_type": "markdown",
      "metadata": {
        "id": "YYQ20M-UvWLX"
      },
      "source": [
        "### Ejercicio 8"
      ]
    },
    {
      "cell_type": "markdown",
      "metadata": {
        "id": "sNDWVfoAvzm3"
      },
      "source": [
        "Vamos a comprender la distribución de edades de los pensionistas de una empresa de seguros. Escribe un programa que lea las edades de una cantidad no informada de clientes y muestre la distribución en los intervalos [0-25], [26-50], [51-75] y [76-100]. La entrada de datos se detendrá al ingresar un número negativo."
      ]
    },
    {
      "cell_type": "markdown",
      "metadata": {
        "id": "v99kRehxvXMH"
      },
      "source": [
        "### Ejercicio 9"
      ]
    },
    {
      "cell_type": "markdown",
      "metadata": {
        "id": "3TH16FgFv2a_"
      },
      "source": [
        "En una elección para la gerencia de una empresa con 20 empleados, hay cuatro candidatos. Escribe un programa que calcule al ganador de la elección. La votación se realizó de la siguiente manera:\n",
        "\n",
        "Cada empleado votó por uno de los cuatro candidatos (representados por los números 1, 2, 3 y 4).\n",
        "\n",
        "También se contaron los votos nulos (representados por el número 5) y los votos en blanco (representados por el número 6).\n",
        "\n",
        "Al final de la votación, el programa debe mostrar el número total de votos para cada candidato, los votos nulos y los votos en blanco. Además, debe calcular y mostrar el porcentaje de votos nulos con respecto al total de votos y el porcentaje de votos en blanco con respecto al total de votos."
      ]
    }
  ],
  "metadata": {
    "colab": {
      "provenance": []
    },
    "kernelspec": {
      "display_name": "Python 3",
      "name": "python3"
    },
    "language_info": {
      "name": "python"
    }
  },
  "nbformat": 4,
  "nbformat_minor": 0
}
