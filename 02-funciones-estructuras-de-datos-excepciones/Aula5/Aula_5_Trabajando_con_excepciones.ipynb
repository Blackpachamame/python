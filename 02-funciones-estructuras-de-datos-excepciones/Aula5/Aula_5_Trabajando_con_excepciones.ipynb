{
  "nbformat": 4,
  "nbformat_minor": 0,
  "metadata": {
    "colab": {
      "provenance": []
    },
    "kernelspec": {
      "name": "python3",
      "display_name": "Python 3"
    },
    "language_info": {
      "name": "python"
    }
  },
  "cells": [
    {
      "cell_type": "markdown",
      "source": [
        "# Aula 5: Trabajando con excepciones"
      ],
      "metadata": {
        "id": "WjFpp86fo5GL"
      }
    },
    {
      "cell_type": "markdown",
      "source": [
        "## Ejercicio 1"
      ],
      "metadata": {
        "id": "25PuPLyZpAzA"
      }
    },
    {
      "cell_type": "markdown",
      "source": [
        "Haz un programa que solicite a la persona usuaria ingresar dos números decimales y calcular la división entre estos números. El código debe incluir un manejo de error, indicando el tipo de error que se generó si la división no es posible.\n",
        "\n",
        "Prueba el programa con el segundo valor numérico de la entrada igual a 0. También prueba usando caracteres textuales en la entrada para verificar los tipos de errores que ocurren."
      ],
      "metadata": {
        "id": "3J4LtN-JpCXr"
      }
    },
    {
      "cell_type": "code",
      "source": [
        "try:\n",
        "  num_1 = float(input(\"Ingrese un número: \"))\n",
        "  num_2 = float(input(\"Ingrese otro número: \"))\n",
        "  division = num_1 / num_2\n",
        "  print(f\"El resultado de la división es: {division}\")\n",
        "except Exception as e:\n",
        "  print(f\"Se produjo un error: {type(e).__name__}\")\n",
        "  print(f\"Mensaje de error: {e}\")"
      ],
      "metadata": {
        "colab": {
          "base_uri": "https://localhost:8080/"
        },
        "id": "d_ggBgToa_di",
        "outputId": "bbccfcc7-451c-4970-8d99-d0ee5faadb39"
      },
      "execution_count": null,
      "outputs": [
        {
          "output_type": "stream",
          "name": "stdout",
          "text": [
            "Ingrese un número: 4\n",
            "Ingrese otro número: t\n",
            "Se produjo un error: ValueError\n",
            "Mensaje de error: could not convert string to float: 't'\n"
          ]
        }
      ]
    },
    {
      "cell_type": "markdown",
      "source": [
        "## Ejercicio 2"
      ],
      "metadata": {
        "id": "cm4w6PCKpEyg"
      }
    },
    {
      "cell_type": "markdown",
      "source": [
        "Haz un programa que solicite a la persona usuaria ingresar un texto que será una clave a buscar en el siguiente diccionario: `edades = {'Júlia': 16, 'Carol': 23, 'Alberto': 19, 'Roberta': 17}`, almacenando el resultado del valor en una variable. El código debe incluir un manejo de error KeyError, imprimiendo la información 'Nombre no encontrado' en caso de error, e imprimir el valor si no ocurre ninguno.\n",
        "\n",
        "Prueba el programa con un nombre presente en una de las claves del diccionario y con uno que no esté en el diccionario para verificar el mensaje de error."
      ],
      "metadata": {
        "id": "m9jCIqIWpH1Y"
      }
    },
    {
      "cell_type": "code",
      "source": [
        "edades = {'Júlia': 16, 'Carol': 23, 'Alberto': 19, 'Roberta': 17}\n",
        "\n",
        "try:\n",
        "  nombre = input(\"Ingrese un nombre: \")\n",
        "  edad = edades[nombre]\n",
        "  print(f\"La edad de {nombre} es {edad}\")\n",
        "except KeyError:\n",
        "  print(\"Nombre no encontrado\")"
      ],
      "metadata": {
        "colab": {
          "base_uri": "https://localhost:8080/"
        },
        "id": "ulyqiwn4eU0i",
        "outputId": "9220d4f6-8e6b-4815-d264-8649b795da4f"
      },
      "execution_count": null,
      "outputs": [
        {
          "output_type": "stream",
          "name": "stdout",
          "text": [
            "Ingrese un nombre: Pedro\n",
            "Nombre no encontrado\n"
          ]
        }
      ]
    },
    {
      "cell_type": "markdown",
      "source": [
        "## Ejercicio 3"
      ],
      "metadata": {
        "id": "v3Y3rre-pNfI"
      }
    },
    {
      "cell_type": "markdown",
      "source": [
        "Crea una función que reciba una lista como parámetro y convierta todos los valores de la lista a flotantes. La función debe incluir un manejo de error indicando el tipo de error generado y devolver la lista si no ha ocurrido ningún error. Por último, debe tener la cláusula `finally` para imprimir el texto: 'Fin de la ejecución de la función'."
      ],
      "metadata": {
        "id": "2BG5wA6npO6p"
      }
    },
    {
      "cell_type": "code",
      "source": [
        "def convertir_a_flotantes(lista):\n",
        "  try:\n",
        "    lista_flotantes = [float(valor) for valor in lista]\n",
        "    print(lista_flotantes)\n",
        "  except Exception as e:\n",
        "    print(f\"Se produjo un error: {type(e).__name__}\")\n",
        "  finally:\n",
        "    print(\"Fin de la ejecución de la función\")\n",
        "\n",
        "lista = [1, 2, 3, 4, 'f']\n",
        "lista_flotantes = convertir_a_flotantes(lista)"
      ],
      "metadata": {
        "colab": {
          "base_uri": "https://localhost:8080/"
        },
        "id": "QK5HdtiJe8Nb",
        "outputId": "137b1a3f-9040-4e39-d619-cf450b6c4b3f"
      },
      "execution_count": null,
      "outputs": [
        {
          "output_type": "stream",
          "name": "stdout",
          "text": [
            "Se produjo un error: ValueError\n",
            "Fin de la ejecución de la función\n"
          ]
        }
      ]
    },
    {
      "cell_type": "markdown",
      "source": [
        "## Ejercicio 4"
      ],
      "metadata": {
        "id": "KRGJBxDvpRZo"
      }
    },
    {
      "cell_type": "markdown",
      "source": [
        "Crea una función que reciba dos listas como parámetros y agrupe los elementos uno a uno de las listas, formando una lista de tuplas de 3 elementos. El primer y segundo elemento de la tupla son los valores en la posición `i` de las listas y el tercer elemento es la suma de los valores en la posición `i` de las listas.\n",
        "\n",
        "La función debe incluir un manejo de error indicando el tipo de error generado y devolver como resultado la lista de tuplas. Si las listas enviadas como parámetro tienen tamaños diferentes, la función debe devolver un `IndexError` con la frase: 'La cantidad de elementos en cada lista es diferente.'.\n",
        "\n",
        "Datos para probar la función:\n",
        "\n",
        "**Valores sin error:**\n",
        "```\n",
        "lista1 = [4, 6, 7, 9, 10]\n",
        "lista2 = [-4, 6, 8, 7, 9]\n",
        "```\n",
        "**Listas con tamaños diferentes:**\n",
        "```\n",
        "lista1 = [4, 6, 7, 9, 10, 4]\n",
        "lista2 = [-4, 6, 8, 7, 9]\n",
        "```\n",
        "**Listas con valores incoherentes:**\n",
        "```\n",
        "lista1 = [4, 6, 7, 9, 'A']\n",
        "lista2 = [-4, 'E', 8, 7, 9]\n",
        "```"
      ],
      "metadata": {
        "id": "JAkucbpPpT3A"
      }
    },
    {
      "cell_type": "code",
      "source": [
        "def generar_tuplas(lista_1, lista_2):\n",
        "  try:\n",
        "    lista_tuplas = [(lista_1[i], lista_2[i], lista_1[i] + lista_2[i]) for i in range(len(lista_1))]\n",
        "    print(lista_tuplas)\n",
        "  except IndexError:\n",
        "    print(f\"La cantidad de elementos en cada lista es diferente.\")\n",
        "  except TypeError:\n",
        "    print(f\"Tienes elementos de diferentes tipos en tu lista.\")\n",
        "\n",
        "lista1 = [4, 6, 7, 9, 'A']\n",
        "lista2 = [-4, 'E', 8, 7, 9]\n",
        "generar_tuplas(lista1, lista2)"
      ],
      "metadata": {
        "colab": {
          "base_uri": "https://localhost:8080/"
        },
        "id": "t83GFlr4fHiv",
        "outputId": "46c31002-be6e-4d2d-efd6-cb602d81d65c"
      },
      "execution_count": 5,
      "outputs": [
        {
          "output_type": "stream",
          "name": "stdout",
          "text": [
            "Tienes elementos de diferentes tipos en tu lista.\n"
          ]
        }
      ]
    },
    {
      "cell_type": "markdown",
      "source": [
        "## Ejercicio 5"
      ],
      "metadata": {
        "id": "vh1C1xaCp3Af"
      }
    },
    {
      "cell_type": "markdown",
      "source": [
        "Como desafío, se te ha asignado la tarea de desarrollar un código que contabiliza las puntuaciones de estudiantes de una institución educativa de acuerdo con sus respuestas en una prueba. Este código debe ser probado para un ejemplo de 3 estudiantes con una lista de listas en la que cada lista tiene las respuestas de 5 preguntas objetivas de cada estudiante. Cada pregunta vale un punto y las alternativas posibles son A, B, C o D.\n",
        "\n",
        "Si alguna alternativa en una de las pruebas no está entre las alternativas posibles, debes lanzar un ValueError con el mensaje \"La alternativa [alternativa] no es una opción de alternativa válida\". El cálculo de las 3 notas solo se realizará mediante las entradas con las alternativas A, B, C o D en todas las pruebas. Si no se lanza la excepción, se mostrará una lista con las notas en cada prueba.\n",
        "\n",
        "Datos para la prueba del código:\n",
        "\n",
        "**Respuestas de la prueba:**\n",
        "```\n",
        "respuestas = ['D', 'A', 'B', 'C', 'A']\n",
        "```\n",
        "A continuación, hay 2 listas de listas que puedes usar como prueba:\n",
        "\n",
        "**Notas sin excepción:**\n",
        "\n",
        "```\n",
        "tests_sin_ex = [['D', 'A', 'B', 'C', 'A'], ['C', 'A', 'A', 'C', 'A'], ['D', 'B', 'A', 'C', 'A']]\n",
        "```\n",
        "\n",
        "**Notas con excepción:**\n",
        "```\n",
        "tests_con_ex = [['D', 'A', 'B', 'C', 'A'], ['C', 'A', 'A', 'E', 'A'], ['D', 'B', 'A', 'C', 'A']]\n",
        "```"
      ],
      "metadata": {
        "id": "rOdrNfxZp4s-"
      }
    },
    {
      "cell_type": "code",
      "source": [
        "respuestas = ['D', 'A', 'B', 'C', 'A']\n",
        "tests_sin_ex = [['D', 'A', 'B', 'C', 'A'], ['C', 'A', 'A', 'C', 'A'], ['D', 'B', 'A', 'C', 'A']]\n",
        "tests_con_ex = [['D', 'A', 'B', 'C', 'A'], ['C', 'A', 'A', 'E', 'A'], ['D', 'B', 'A', 'C', 'A']]\n",
        "lista_notas = []\n",
        "\n",
        "try:\n",
        "  for notas in tests_con_ex:\n",
        "    nota = 0\n",
        "    for i in range(len(respuestas)):\n",
        "        if notas[i] not in ['A', 'B', 'C', 'D']:\n",
        "           raise ValueError(f'La alternativa {notas[i]} no es una opción de alternativa válida')\n",
        "        elif notas[i] == respuestas[i]:\n",
        "           nota += 1\n",
        "    lista_notas.append(nota)\n",
        "except Exception as e:\n",
        "  print(e)\n",
        "else:\n",
        "  print(lista_notas)"
      ],
      "metadata": {
        "colab": {
          "base_uri": "https://localhost:8080/"
        },
        "id": "S1W1XFRIiMJ3",
        "outputId": "e1f4679c-5bc3-4e55-ca64-2f948d90d41e"
      },
      "execution_count": 9,
      "outputs": [
        {
          "output_type": "stream",
          "name": "stdout",
          "text": [
            "La alternativa E no es una opción de alternativa válida\n"
          ]
        }
      ]
    },
    {
      "cell_type": "markdown",
      "source": [
        "## Ejercicio 6"
      ],
      "metadata": {
        "id": "NgvKdt6JqYSd"
      }
    },
    {
      "cell_type": "markdown",
      "source": [
        "Estás trabajando con procesamiento de lenguaje natural (NLP) y, en esta ocasión, tu líder te pidió que crees un fragmento de código que reciba una lista con las palabras separadas de una frase generada por ChatGPT.\n",
        "\n",
        "Necesitas crear una función que evalúe cada palabra de este texto y verifique si el tratamiento para quitar los símbolos de puntuación (',', '.', '!' y '?') se realizó. De lo contrario, se lanzará una excepción del tipo ValueError señalando el primer caso en que se detectó el uso de una puntuación a través de la frase \"El texto presenta puntuaciones en la palabra \"[palabra]\"\". Esta solicitud se centra en el análisis del patrón de frases generadas por la inteligencia artificial.\n",
        "\n",
        "Datos para probar el código:\n",
        "\n",
        "**Lista tratada:**\n",
        "```\n",
        "lista_tratada = ['Python', 'es', 'un', 'lenguaje', 'de', 'programación', 'poderoso', 'versátil',\n",
        "                  'y', 'fácil', 'de', 'aprender', 'utilizado', 'en', 'diversos', 'campos', 'desde',\n",
        "                  'análisis', 'de', 'datos', 'hasta', 'inteligencia', 'artificial']\n",
        "```\n",
        "**Lista no tratada:**\n",
        "```\n",
        "lista_no_tratada = ['Python', 'es', 'un', 'lenguaje', 'de', 'programación', 'poderoso,', 'versátil',\n",
        "                  'y', 'fácil,', 'de', 'aprender', 'utilizado', 'en', 'diversos', 'campos,', 'desde',\n",
        "                  'análisis', 'de', 'datos', 'hasta', 'inteligencia', 'artificial!']\n",
        "```"
      ],
      "metadata": {
        "id": "r4KieWfYqaMF"
      }
    },
    {
      "cell_type": "code",
      "source": [
        "def analizar_puntuacion(lista_palabras):\n",
        "    try:\n",
        "        for palabra in lista_palabras:\n",
        "            if any(puntuacion in palabra for puntuacion in [',', '.', '!', '?']):\n",
        "                raise ValueError(f\"El texto presenta puntuaciones en la palabra '{palabra}'.\")\n",
        "    except ValueError as e:\n",
        "        print(f\"Error: {e}\")\n",
        "    else:\n",
        "        print(f\"La frase no presenta puntuaciones.\")\n",
        "    finally:\n",
        "        print(f\"Análisis completado.\")\n",
        "\n",
        "lista_tratada = ['Python', 'es', 'un', 'lenguaje', 'de', 'programación', 'poderoso', 'versátil',\n",
        "                  'y', 'fácil', 'de', 'aprender', 'utilizado', 'en', 'diversos', 'campos', 'desde',\n",
        "                  'análisis', 'de', 'datos', 'hasta', 'inteligencia', 'artificial']\n",
        "lista_no_tratada = ['Python', 'es', 'un', 'lenguaje', 'de', 'programación', 'poderoso,', 'versátil',\n",
        "                  'y', 'fácil,', 'de', 'aprender', 'utilizado', 'en', 'diversos', 'campos,', 'desde',\n",
        "                  'análisis', 'de', 'datos', 'hasta', 'inteligencia', 'artificial!']\n",
        "analizar_puntuacion(lista_no_tratada)"
      ],
      "metadata": {
        "colab": {
          "base_uri": "https://localhost:8080/"
        },
        "id": "i5C5QXQln-w_",
        "outputId": "f262dec9-fefa-48d9-bbe2-f181692360a2"
      },
      "execution_count": 12,
      "outputs": [
        {
          "output_type": "stream",
          "name": "stdout",
          "text": [
            "Error: El texto presenta puntuaciones en la palabra 'poderoso,'.\n",
            "Análisis completado.\n"
          ]
        }
      ]
    }
  ]
}