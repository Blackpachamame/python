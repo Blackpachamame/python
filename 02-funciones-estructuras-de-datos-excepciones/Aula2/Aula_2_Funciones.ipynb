{
  "nbformat": 4,
  "nbformat_minor": 0,
  "metadata": {
    "colab": {
      "provenance": []
    },
    "kernelspec": {
      "name": "python3",
      "display_name": "Python 3"
    },
    "language_info": {
      "name": "python"
    }
  },
  "cells": [
    {
      "cell_type": "markdown",
      "source": [
        "# Aula 2: Funciones"
      ],
      "metadata": {
        "id": "ad0fZ1UxSIRo"
      }
    },
    {
      "cell_type": "markdown",
      "source": [
        "## Ejercicio 1"
      ],
      "metadata": {
        "id": "GEid7Zw6SMgb"
      }
    },
    {
      "cell_type": "markdown",
      "source": [
        "Escribe un código que lee la lista siguiente y realiza:\n",
        "```\n",
        "lista = [16, 14, 63, 65, 17, 99, 70, 11, 20, 48, 79, 32, 17, 89, 12, 25, 66]\n",
        "# 1. Leer el tamaño de la lista\n",
        "# 2. Leer el valor máximo y mínimo\n",
        "# 3. Calcular la suma de los valores de la lista\n",
        "# 4. Mostrar un mensaje al final: La lista tiene `tamano` números, donde el mayor\n",
        "# es `mayor` y el menor es `menor`. La suma de los valores es `suma`.\n",
        "```\n",
        "\n"
      ],
      "metadata": {
        "id": "jiXvrsVVSO60"
      }
    },
    {
      "cell_type": "code",
      "source": [
        "lista = [16, 14, 63, 65, 17, 99, 70, 11, 20, 48, 79, 32, 17, 89, 12, 25, 66]\n",
        "tamanio = len(lista)\n",
        "mayor = max(lista)\n",
        "menor = min(lista)\n",
        "suma = sum(lista)\n",
        "print(f\"La lista tiene {tamanio} números, donde el mayor es {mayor} y el menor es {menor}\")\n",
        "print(f\"La suma de los valores es {suma}.\")"
      ],
      "metadata": {
        "colab": {
          "base_uri": "https://localhost:8080/"
        },
        "id": "JOWu0EujcrTZ",
        "outputId": "88e123ed-9e27-45c1-b635-c1e46870ab5e"
      },
      "execution_count": null,
      "outputs": [
        {
          "output_type": "stream",
          "name": "stdout",
          "text": [
            "La lista tiene 17 números, donde el mayor es 99 y el menor es 11\n",
            "La suma de los valores es 743.\n"
          ]
        }
      ]
    },
    {
      "cell_type": "markdown",
      "source": [
        "## Ejercicio 2"
      ],
      "metadata": {
        "id": "JeRvJ0frSaTv"
      }
    },
    {
      "cell_type": "markdown",
      "source": [
        "Escribe una función que genere la tabla de multiplicar de un número entero del 1 al 10, según la elección del usuario. Como ejemplo, para el número 7, la tabla de multiplicar se debe mostrar en el siguiente formato:\n",
        "\n",
        "\n",
        "```\n",
        "# Tabla del  7:\n",
        "# 7 x 0 = 0\n",
        "# 7 x 1 = 7\n",
        "# [...]\n",
        "# 7 x 10 = 70\n",
        "```"
      ],
      "metadata": {
        "id": "LFG-YqzASb51"
      }
    },
    {
      "cell_type": "code",
      "source": [
        "numero = int(input(\"Ingrese un número: \"))\n",
        "print(f\"Tabla del {numero}:\")\n",
        "for i in range(11):\n",
        "    print(f\"{numero} x {i} = {numero * i}\")"
      ],
      "metadata": {
        "colab": {
          "base_uri": "https://localhost:8080/"
        },
        "id": "z-rce-dSd6Dw",
        "outputId": "025b875b-11f6-459a-ae29-668a01c63ef6"
      },
      "execution_count": null,
      "outputs": [
        {
          "output_type": "stream",
          "name": "stdout",
          "text": [
            "Ingrese un número: 7\n",
            "Tabla del 7:\n",
            "7 x 0 = 0\n",
            "7 x 1 = 7\n",
            "7 x 2 = 14\n",
            "7 x 3 = 21\n",
            "7 x 4 = 28\n",
            "7 x 5 = 35\n",
            "7 x 6 = 42\n",
            "7 x 7 = 49\n",
            "7 x 8 = 56\n",
            "7 x 9 = 63\n",
            "7 x 10 = 70\n"
          ]
        }
      ]
    },
    {
      "cell_type": "markdown",
      "source": [
        "## Ejercicio 3"
      ],
      "metadata": {
        "id": "N_w7LM5fSin1"
      }
    },
    {
      "cell_type": "markdown",
      "source": [
        "Crea una función que lea la siguiente lista y devuelva una nueva lista con los múltiplos de 3:\n",
        "\n",
        "`[97, 80, 94, 88, 80, 1, 16, 53, 62, 32, 24, 99]`"
      ],
      "metadata": {
        "id": "8nQbKtIvSkej"
      }
    },
    {
      "cell_type": "code",
      "source": [
        "lista_numeros = [97, 80, 94, 88, 80, 1, 16, 53, 62, 32, 24, 99]\n",
        "\n",
        "def multiplos_de_3(lista):\n",
        "  multiplos = filter(lambda x: x % 3 == 0, lista)\n",
        "  return list(multiplos)\n",
        "\n",
        "lista_multiplos_de_3 = multiplos_de_3(lista_numeros)\n",
        "print(lista_multiplos_de_3)"
      ],
      "metadata": {
        "colab": {
          "base_uri": "https://localhost:8080/"
        },
        "id": "aYnp30zveHVV",
        "outputId": "cde6ffc0-5cfd-4694-a8bb-24e4b4a6d095"
      },
      "execution_count": null,
      "outputs": [
        {
          "output_type": "stream",
          "name": "stdout",
          "text": [
            "[24, 99]\n"
          ]
        }
      ]
    },
    {
      "cell_type": "markdown",
      "source": [
        "## Ejercicio 4"
      ],
      "metadata": {
        "id": "nolYq_gbSnsz"
      }
    },
    {
      "cell_type": "markdown",
      "source": [
        "Crea una lista de los cuadrados de los números de la siguiente lista `[1, 2, 3, 4, 5, 6, 7, 8, 9, 10]`. Recuerda utilizar las `funciones lambda` y `map()` para calcular el cuadrado de cada elemento de la lista."
      ],
      "metadata": {
        "id": "5TLvxDB7Sp18"
      }
    },
    {
      "cell_type": "code",
      "source": [
        "lista = [1, 2, 3, 4, 5, 6, 7, 8, 9, 10]\n",
        "lista_cuadrados = list(map(lambda num: num**2, lista))\n",
        "print(lista_cuadrados)"
      ],
      "metadata": {
        "colab": {
          "base_uri": "https://localhost:8080/"
        },
        "id": "VkSROs-Eflpi",
        "outputId": "58210ef4-e21b-41ca-c113-c23813b09426"
      },
      "execution_count": null,
      "outputs": [
        {
          "output_type": "stream",
          "name": "stdout",
          "text": [
            "[1, 4, 9, 16, 25, 36, 49, 64, 81, 100]\n"
          ]
        }
      ]
    },
    {
      "cell_type": "markdown",
      "source": [
        "## Ejercicio 5"
      ],
      "metadata": {
        "id": "VLdC8SxISyU4"
      }
    },
    {
      "cell_type": "markdown",
      "source": [
        "Has sido contratado como científico(a) de datos de una asociación de skate. Para analizar las notas recibidas por los skaters en algunas competiciones a lo largo del año, necesitas crear un código que calcule la puntuación de los atletas. Para ello, tu código debe recibir 5 notas ingresadas por los jueces."
      ],
      "metadata": {
        "id": "d-Lt6OX_S0BN"
      }
    },
    {
      "cell_type": "code",
      "source": [
        "def calcular_puntuacion(lista_notas):\n",
        "    puntuacion  = sum(lista_notas[1:4]) / 3\n",
        "    return puntuacion\n",
        "\n",
        "lista_notas = []\n",
        "for i in range(5):\n",
        "    nota = float(input(f\"Ingrese la nota {i+1} (debe ser una nota del 1 al 10): \"))\n",
        "    lista_notas.append(nota)\n",
        "\n",
        "lista_notas.sort()\n",
        "puntuacion = calcular_puntuacion(lista_notas)\n",
        "print(f\"La puntuación del atleta es {puntuacion:.2f}\")"
      ],
      "metadata": {
        "colab": {
          "base_uri": "https://localhost:8080/"
        },
        "id": "ZpDVzqlDgS_y",
        "outputId": "d99946b2-f03a-45ae-fd7c-ab82e3d23951"
      },
      "execution_count": null,
      "outputs": [
        {
          "output_type": "stream",
          "name": "stdout",
          "text": [
            "Ingrese la nota 1 (debe ser una nota del 1 al 10): 5\n",
            "Ingrese la nota 2 (debe ser una nota del 1 al 10): 6.5\n",
            "Ingrese la nota 3 (debe ser una nota del 1 al 10): 7.5\n",
            "Ingrese la nota 4 (debe ser una nota del 1 al 10): 9\n",
            "Ingrese la nota 5 (debe ser una nota del 1 al 10): 8\n",
            "La puntuación del atleta es 7.33.\n"
          ]
        }
      ]
    },
    {
      "cell_type": "markdown",
      "source": [
        "## Ejercicio 6"
      ],
      "metadata": {
        "id": "x0mKVvK6S4oj"
      }
    },
    {
      "cell_type": "markdown",
      "source": [
        "Para cumplir con una demanda de una institución educativa para el análisis del rendimiento de sus estudiantes, necesitas crear una función que reciba una lista de 4 notas y devuelva:\n",
        "\n",
        "```\n",
        "# mayor nota\n",
        "# menor nota\n",
        "# media\n",
        "# situación (Aprobado(a) o Reprobado(a))\n",
        "# Uso de la función\n",
        "# Mostrar: El estudiante obtuvo una media de `media`, con la mayor nota de `mayor` puntos y la menor nota de `menor` puntos y fue `situacion`.\n",
        "```"
      ],
      "metadata": {
        "id": "YXJdLT7jS6IO"
      }
    },
    {
      "cell_type": "code",
      "source": [
        "def rendimiento(lista_notas):\n",
        "    mayor = max(lista_notas)\n",
        "    menor = min(lista_notas)\n",
        "    media = sum(lista_notas) / len(lista_notas)\n",
        "    if media >= 6:\n",
        "        situacion = \"Aprobado(a)\"\n",
        "    else:\n",
        "        situacion = \"Reprobado(a)\"\n",
        "    return mayor, menor, media, situacion\n",
        "\n",
        "lista_notas  = []\n",
        "for i in range(4):\n",
        "    nota = float(input(f\"Ingrese la nota {i+1} (debe ser una nota del 1 al 10): \"))\n",
        "    lista_notas.append(nota)\n",
        "\n",
        "mayor, menor, media, situacion = rendimiento(lista_notas)\n",
        "print(f\"El estudiante obtuvo una media de {media:.2f}, con la mayor nota de {mayor} puntos y la menor nota de {menor} puntos y fue {situacion}.\")"
      ],
      "metadata": {
        "colab": {
          "base_uri": "https://localhost:8080/"
        },
        "id": "alpYsc1g3SKV",
        "outputId": "bb2593fa-4f5a-4b91-bfb1-58e8579aedcd"
      },
      "execution_count": null,
      "outputs": [
        {
          "output_type": "stream",
          "name": "stdout",
          "text": [
            "Ingrese la nota 1 (debe ser una nota del 1 al 10): 5.5\n",
            "Ingrese la nota 2 (debe ser una nota del 1 al 10): 8\n",
            "Ingrese la nota 3 (debe ser una nota del 1 al 10): 6.7\n",
            "Ingrese la nota 4 (debe ser una nota del 1 al 10): 7.9\n",
            "El estudiante obtuvo una media de 7.03, con la mayor nota de 8.0 puntos y la menor nota de 5.5 puntos y fue Aprobado(a).\n"
          ]
        }
      ]
    },
    {
      "cell_type": "markdown",
      "source": [
        "## Ejercicio 7"
      ],
      "metadata": {
        "id": "Ea_wMv_lTESl"
      }
    },
    {
      "cell_type": "markdown",
      "source": [
        "Has recibido una demanda para tratar 2 listas con los nombres y apellidos de cada estudiante concatenándolos para presentar sus nombres completos en la forma Nombre Apellido. Las listas son:\n",
        "\n",
        "```\n",
        "nombres = [\"juan\", \"MaRia\", \"JOSÉ\"]\n",
        "apellidos = [\"SILVA\", \"sosa\", \"Tavares\"]\n",
        "\n",
        "# Normalizar nombres y apellidos y crear una nueva lista con los nombres completos\n",
        "# Puedes apoyarte en la función map()\n",
        "```"
      ],
      "metadata": {
        "id": "u6LwTxQDTH1x"
      }
    },
    {
      "cell_type": "code",
      "source": [
        "nombre = [\"juan\", \"MaRia\", \"JOSÉ\"]\n",
        "apellidos = [\"SILVA\", \"sosa\", \"Tavares\"]\n",
        "\n",
        "def normalizar(lista):\n",
        "    return list(map(lambda x: x.capitalize(), lista))\n",
        "\n",
        "nombres_normalizados = normalizar(nombre)\n",
        "apellidos_normalizados = normalizar(apellidos)\n",
        "\n",
        "nombres_completos = list(map(lambda x, y: x + \" \" + y, nombres_normalizados, apellidos_normalizados))\n",
        "print(nombres_completos)"
      ],
      "metadata": {
        "colab": {
          "base_uri": "https://localhost:8080/"
        },
        "id": "mIVYow9KelKa",
        "outputId": "e1e57c8c-a986-4982-b6bc-34fabc46875a"
      },
      "execution_count": 1,
      "outputs": [
        {
          "output_type": "stream",
          "name": "stdout",
          "text": [
            "['Juan Silva', 'Maria Sosa', 'José Tavares']\n"
          ]
        }
      ]
    },
    {
      "cell_type": "markdown",
      "source": [
        "## Ejercicio 8"
      ],
      "metadata": {
        "id": "HiEu1eomTMKN"
      }
    },
    {
      "cell_type": "markdown",
      "source": [
        "Como científico de datos en un equipo de fútbol, necesitas implementar nuevas formas de recopilación de datos sobre el rendimiento de los jugadores y del equipo en su conjunto. Tu primera acción es crear una forma de calcular la puntuación del equipo en el campeonato nacional a partir de los datos de goles marcados y recibidos en cada juego.\n",
        "\n",
        "Escribe una función llamada `calcula_puntos()` que recibe como parámetros dos listas de números enteros, representando los goles marcados y recibidos por el equipo en cada partido del campeonato. La función debe devolver la puntuación del equipo y el rendimiento en porcentaje, teniendo en cuenta que la victoria vale 3 puntos, el empate 1 punto y la derrota 0 puntos.\n",
        "\n",
        "Nota: si la cantidad de goles marcados en un partido es mayor que los recibidos, el equipo ganó. En caso de ser igual, el equipo empató, y si es menor, el equipo perdió. Para calcular el rendimiento, debemos hacer la razón entre la puntuación del equipo y la puntuación máxima que podría recibir.\n",
        "\n",
        "Para la prueba, utiliza las siguientes listas de goles marcados y recibidos:\n",
        "\n",
        "\n",
        "```\n",
        "goles_marcados = [2, 1, 3, 1, 0]\n",
        "goles_recibidos = [1, 2, 2, 1, 3]\n",
        "# Texto probablemente mostrado:\n",
        "# La puntuación del equipo fue `puntos` y su rendimiento fue `desempeno`%\"\n",
        "```"
      ],
      "metadata": {
        "id": "oA2uDPOVTQhZ"
      }
    },
    {
      "cell_type": "code",
      "source": [
        "goles_marcados = [2, 1, 3, 1, 0]\n",
        "goles_recibidos = [1, 2, 2, 1, 3]\n",
        "\n",
        "def calcular_puntos(goles_marcados, goles_recibidos):\n",
        "    puntos = 0\n",
        "    for i in range(len(goles_marcados)):\n",
        "        if goles_marcados[i] > goles_recibidos[i]:\n",
        "            puntos += 3\n",
        "        elif goles_marcados[i] == goles_recibidos[i]:\n",
        "            puntos += 1\n",
        "    rendimiento = puntos / (len(goles_marcados) * 3) * 100\n",
        "    return puntos, rendimiento\n",
        "\n",
        "puntos, rendimiento = calcular_puntos(goles_marcados, goles_recibidos)\n",
        "print(f\"La puntuación del equipo fue {puntos} y su rendimiento fue {rendimiento:.2f}%\")"
      ],
      "metadata": {
        "colab": {
          "base_uri": "https://localhost:8080/"
        },
        "id": "CzsSUHBjhJtK",
        "outputId": "3b17cfc7-3976-4940-8c91-2770bd255055"
      },
      "execution_count": 4,
      "outputs": [
        {
          "output_type": "stream",
          "name": "stdout",
          "text": [
            "La puntuación del equipo fue 7 y su rendimiento fue 46.67%\n"
          ]
        }
      ]
    },
    {
      "cell_type": "markdown",
      "source": [
        "## Ejercicio 9"
      ],
      "metadata": {
        "id": "E_TED2P-TbLK"
      }
    },
    {
      "cell_type": "markdown",
      "source": [
        "Te han desafiado a crear un código que calcule los gastos de un viaje a una de las cuatro ciudades desde Recife, siendo ellas: Salvador, Fortaleza, Natal y Aracaju.\n",
        "\n",
        "El costo diario del hotel es de 150 reales en todas ellas y el consumo de gasolina en el viaje en coche es de 14 km/l, siendo que el precio de la gasolina es de 5 reales por litro. Los gastos con paseos y alimentación a realizar en cada una de ellas por día serían `[200, 400, 250, 300]`, respectivamente.\n",
        "\n",
        "Sabiendo que las distancias entre Recife y cada una de las ciudades son aproximadamente `[850, 800, 300, 550]` km, crea tres funciones: la primera función calcula los gastos de hotel (`gasto_hotel`), la segunda calcula los gastos de gasolina (`gasto_gasolina`) y la tercera los gastos de paseo y alimentación (`gasto_paseo`).\n",
        "\n",
        "Para probar, simula un viaje de 3 días a Salvador desde Recife. Considera el viaje de ida y vuelta en coche.\n",
        "\n",
        "\n",
        "```\n",
        "# Texto probablemente mostrado:\n",
        "# Con base en los gastos definidos, un viaje de [dias] días a [ciudad] desde\n",
        "# Recife costaría [gastos] reales.\n",
        "```"
      ],
      "metadata": {
        "id": "FJ-FoKEfTcyc"
      }
    },
    {
      "cell_type": "code",
      "source": [
        "def gasto_hotel(dias, costo_diario):\n",
        "    return dias * costo_diario\n",
        "\n",
        "def gasto_gasolina(distancia, consumo_km_l, precio_gasolina):\n",
        "    return (distancia * precio_gasolina * 2) / consumo_km_l\n",
        "\n",
        "def gasto_paseo(dias, gastos):\n",
        "    return dias * gastos\n",
        "\n",
        "ciudades = [\"Salvador\", \"Fortaleza\", \"Natal\", \"Aracaju\"]\n",
        "dias = 3\n",
        "costo_diario = 150\n",
        "consumo_km_l = 14\n",
        "precio_gasolina = 5\n",
        "gastos_varios = [200, 400, 250, 300]\n",
        "distancias = [850, 800, 300, 550]\n",
        "\n",
        "gastos_totales = gasto_hotel(dias, costo_diario) + gasto_gasolina(distancias[ciudades.index(\"Salvador\")], consumo_km_l, precio_gasolina) + gasto_paseo(dias, gastos_varios[ciudades.index(\"Salvador\")])\n",
        "print(f\"Con base en los gastos definidos, un viaje de {dias} días a {ciudades[0]} desde Recife costaría {gastos_totales:.2f} reales.\")"
      ],
      "metadata": {
        "colab": {
          "base_uri": "https://localhost:8080/"
        },
        "id": "FLf2VQsxjVlt",
        "outputId": "6365ee06-a147-43e6-d97c-6f6b14915d20"
      },
      "execution_count": 11,
      "outputs": [
        {
          "output_type": "stream",
          "name": "stdout",
          "text": [
            "Con base en los gastos definidos, un viaje de 3 días a Salvador desde Recife costaría 1657.14 reales.\n"
          ]
        }
      ]
    },
    {
      "cell_type": "markdown",
      "source": [
        "## Ejercicio 10"
      ],
      "metadata": {
        "id": "ufUJe01MTyFt"
      }
    },
    {
      "cell_type": "markdown",
      "source": [
        "Has comenzado una pasantía en una empresa que trabaja con procesamiento de lenguaje natural (NLP). Tu líder te solicitó que crees un fragmento de código que reciba una frase escrita por el usuario y filtre solo las palabras con un tamaño mayor o igual a 5, mostrándolas en una lista. Esta demanda se centra en el análisis del patrón de comportamiento de las personas al escribir palabras de esta cantidad de caracteres o más.\n",
        "\n",
        "Consejo: utiliza las funciones `lambda` y `filter()` para filtrar estas palabras. Recordando que la función integrada `filter()` recibe una función (en nuestro caso, una función lambda) y filtra un iterable según la función. Para tratar la frase, utiliza `replace()` para cambiar ',' '.', '!' y '?' por espacio.\n",
        "\n",
        "Utiliza la frase \"*Aprender Python aquí en Alura es muy bueno*\" para probar el código."
      ],
      "metadata": {
        "id": "9vCV-hsxT2R0"
      }
    },
    {
      "cell_type": "code",
      "source": [
        "frase = \"Aprender Python aquí en Alura es muy bueno\"\n",
        "frase = frase.replace(',', ' ').replace('.', ' ').replace('!', ' ').replace('?', ' ')\n",
        "\n",
        "palabras = frase.split()\n",
        "palabras_filtradas = list(filter(lambda x: len(x) >= 5, palabras))\n",
        "print(palabras_filtradas)"
      ],
      "metadata": {
        "colab": {
          "base_uri": "https://localhost:8080/"
        },
        "id": "efWOuv8asUu5",
        "outputId": "b999f493-b549-43d2-b971-34b8dbff251d"
      },
      "execution_count": 19,
      "outputs": [
        {
          "output_type": "stream",
          "name": "stdout",
          "text": [
            "['Aprender', 'Python', 'Alura', 'bueno']\n"
          ]
        }
      ]
    }
  ]
}